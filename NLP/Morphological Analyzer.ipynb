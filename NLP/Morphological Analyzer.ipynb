{
 "cells": [
  {
   "cell_type": "code",
   "execution_count": 20,
   "metadata": {},
   "outputs": [],
   "source": [
    "#-*- coding: utf-8 -*-\n",
    "\n",
    "# function to split syllables to characters\n",
    "def split_syllables(word):\n",
    "\ttop_list = [u'ㄱ', u'ㄲ', u'ㄴ', u'ㄷ', u'ㄸ', u'ㄹ', u'ㅁ', u'ㅂ', u'ㅃ', u'ㅅ', u'ㅆ', u'ㅇ', u'ㅈ', u'ㅉ', u'ㅊ', u'ㅋ', u'ㅌ', u'ㅍ', u'ㅎ']\n",
    "\tmid_list = [u'ㅏ', u'ㅐ', u'ㅑ', u'ㅒ', u'ㅓ', u'ㅔ', u'ㅕ', u'ㅖ', u'ㅗ', u'ㅘ', u'ㅙ', u'ㅚ', u'ㅛ', u'ㅜ', u'ㅝ', u'ㅞ', u'ㅟ', u'ㅠ', u'ㅡ', u'ㅢ', u'ㅣ']\n",
    "\tbot_list = [u'', u'ㄱ', u'ㄲ', u'ㄳ', u'ㄴ', u'ㄵ', u'ㄶ', u'ㄷ', u'ㄹ', u'ㄺ', u'ㄻ', u'ㄼ', u'ㄽ', u'ㄾ', u'ㄿ', u'ㅀ', u'ㅁ', u'ㅂ', u'ㅄ', u'ㅅ', u'ㅆ', u'ㅇ', u'ㅈ', u'ㅊ', u'ㅋ', u'ㅌ', u'ㅍ', u'ㅎ']\n",
    "\tresult = u\"\"\n",
    "\tfor syllable in word:\n",
    "\t\tif ord(syllable) < 44032 or ord(syllable) > 55203:\n",
    "\t\t\tresult += syllable\n",
    "\t\telse:\n",
    "\t\t\tbase = ord(syllable)-44032\n",
    "\t\t\ttop_idx = base//588\n",
    "\t\t\tmid_idx = (base%588)//28\n",
    "\t\t\tbot_idx = (base%588)%28\n",
    "\t\t\tresult += top_list[top_idx] + mid_list[mid_idx] + bot_list[bot_idx]\n",
    "\treturn result\n",
    "\n",
    "# function to build syllable by joining characters\n",
    "def combine_to_syllables(chars):\n",
    "\ttop_idx = [0, 1, -1, 2, -1, -1, 3, 4, 5, -1, -1, -1, -1, -1, -1, -1, 6, 7, 8, -1, 9, 10, 11, 12, 13, 14, 15, 16, 17, 18]\n",
    "\tbot_idx = [1, 2, 3, 4, 5, 6, 7, -1, 8, 9, 10, 11, 12, 13, 14, 15, 16, 17, -1, 18, 19, 20, 21, 22, -1, 23, 24, 25, 26, 27]\n",
    "\tidx = 0\n",
    "\ttypes = [0]*len(chars)\n",
    "\tfor char in chars:\n",
    "\t\tif ord(char) > 12643 or ord(char) < 12593:\n",
    "\t\t\ttypes[idx] = -1\n",
    "\t\telif ord(char) >= 12623:\n",
    "\t\t\ttypes[idx] = 2\n",
    "\t\tidx+=1\n",
    "\tfor i in range(1, len(types)):\n",
    "\t\tif types[i] == 2 and types[i-1]==0:\n",
    "\t\t\ttypes[i-1]=1\n",
    "\tfor i in range(0, len(types)-1):\n",
    "\t\tif types[i] == 2 and types[i+1]==0:\n",
    "\t\t\ttypes[i+1]=3\n",
    "\tsyllables = []\n",
    "\tcharacter = []\n",
    "\tidx = 0\n",
    "\tfor i in types:\n",
    "\t\tif i<2 and len(character)>0:\n",
    "\t\t\tsyllables.append(character)\n",
    "\t\t\tcharacter = []\n",
    "\t\tcharacter.append(chars[idx])\n",
    "\t\tif i==-1:\n",
    "\t\t\tsyllables.append(character)\n",
    "\t\t\tcharacter = []\n",
    "\t\tidx+=1\n",
    "\tif len(character)>0:\n",
    "\t\tsyllables.append(character)\n",
    "\tresult = u\"\"\n",
    "\tfor syllable in syllables:\n",
    "\t\tif len(syllable)==3:\n",
    "\t\t\ttmp = 44032 + top_idx[ord(syllable[0])-12593]*588 + (ord(syllable[1])-12623)*28 + bot_idx[ord(syllable[2])-12593]\n",
    "\t\t\tresult += chr(tmp)\n",
    "\t\telif len(syllable)==2:\n",
    "\t\t\tif ord(syllable[0])>=12623:\n",
    "\t\t\t\tresult += syllable[0] + syllable[1]\n",
    "\t\t\t\tcontinue\n",
    "\t\t\ttmp = 44032 + top_idx[ord(syllable[0])-12593]*588 + (ord(syllable[1])-12623)*28\n",
    "\t\t\tresult += chr(tmp)\n",
    "\t\telif len(syllable)==1:\n",
    "\t\t\tresult += syllable[0]\n",
    "\t\telse:\n",
    "\t\t\tfor character in syllable:\n",
    "\t\t\t\tresult+=character\t\n",
    "\treturn result\n",
    "\n",
    "# function to print list\n",
    "def print_list(arg):\n",
    "\tfor i in range(len(arg)):\n",
    "\t\tprint(arg[i])\n",
    "\tprint(\"\")\n",
    "\n",
    "# function to print dictionary\n",
    "def print_dict(arg):\n",
    "\tfor key in arg.keys():\n",
    "\t\tprint (key, \":\", arg[key])\n",
    "\tprint(\"\")"
   ]
  },
  {
   "cell_type": "code",
   "execution_count": 21,
   "metadata": {},
   "outputs": [
    {
     "name": "stdout",
     "output_type": "stream",
     "text": [
      "dictionary:\n",
      "ㅁ : ['명사형어미']\n",
      "가 : ['동사']\n",
      "감 : ['명사', '동사']\n",
      "감기 : ['명사', '동사']\n",
      "기 : ['명사형어미']\n",
      "는 : ['보조사', '관형사형어미']\n",
      "먹 : ['명사', '동사']\n",
      "은 : ['보조사', '관형사형어미']\n",
      "\n",
      "connectivity:\n",
      "명사\t보조사\n",
      "동사\t명사형어미\n",
      "동사\t관형사형어미\n",
      "명사형어미\t보조사\n",
      "\n"
     ]
    }
   ],
   "source": [
    "# step1: load requried resources\n",
    "\n",
    "# load dictionary\n",
    "dictionary={}\n",
    "with open(\"dictionary\", \"r\") as fin:\n",
    "\twhile True:\n",
    "\t\tline=fin.readline()\n",
    "\t\tif not line:\tbreak\n",
    "\t\tline=line.strip()\n",
    "\t\tmorph_tag= line.split('\\t')\n",
    "\t\tif morph_tag[0] in dictionary:\n",
    "\t\t\tl= dictionary[morph_tag[0]]+[morph_tag[1]]\n",
    "\t\t\tdictionary[morph_tag[0]]=l\n",
    "\t\telse:\n",
    "\t\t\tdictionary[morph_tag[0]]=[morph_tag[1]]\n",
    "\n",
    "print('dictionary:')\n",
    "print_dict(dictionary)\n",
    "\n",
    "# load connectivity\n",
    "connectivity=[]\n",
    "with open(\"connectivity\", \"r\") as fin:\n",
    "\twhile True:\n",
    "\t\tline=fin.readline()\n",
    "\t\tif not line:\tbreak\n",
    "\t\tline=line.strip()\n",
    "\t\tconnectivity+=[line]\n",
    "\n",
    "print('connectivity:')\n",
    "print_list(connectivity)\n"
   ]
  },
  {
   "cell_type": "code",
   "execution_count": 22,
   "metadata": {},
   "outputs": [
    {
     "name": "stdout",
     "output_type": "stream",
     "text": [
      "Input word: 감기는\n",
      "word:  감기는\n",
      "chars:  ㄱㅏㅁㄱㅣㄴㅡㄴ\n"
     ]
    }
   ],
   "source": [
    "# step2: split word into character\n",
    "# read user input & syllables->characters\n",
    "word= input(\"Input word: \")\n",
    "chars= split_syllables(word)\n",
    "print (\"word: \", word)\n",
    "print (\"chars: \", chars)\n"
   ]
  },
  {
   "cell_type": "code",
   "execution_count": 23,
   "metadata": {},
   "outputs": [
    {
     "name": "stdout",
     "output_type": "stream",
     "text": [
      "cyk table initialized:\n",
      "[[]]\n",
      "[[], []]\n",
      "[[], [], []]\n",
      "[[], [], [], []]\n",
      "[[], [], [], [], []]\n",
      "[[], [], [], [], [], []]\n",
      "[[], [], [], [], [], [], []]\n",
      "[[], [], [], [], [], [], [], []]\n",
      "\n"
     ]
    }
   ],
   "source": [
    "# step3: build CYK table\n",
    "# construct empty table with word length\n",
    "table=[[] for _ in range(len(chars))]\n",
    "for i in range(len(chars)):\n",
    "\ttable[i]=[[] for _ in range(i+1)]\n",
    "print (\"cyk table initialized:\")\n",
    "print_list(table)\n"
   ]
  },
  {
   "cell_type": "code",
   "execution_count": 24,
   "metadata": {},
   "outputs": [
    {
     "name": "stdout",
     "output_type": "stream",
     "text": [
      "cyk table after morpheme segmentation:\n",
      "[[]]\n",
      "[[], []]\n",
      "[[], [], []]\n",
      "[['감기:명사', '감기:동사'], [], [], []]\n",
      "[[], [], [], [], []]\n",
      "[['감:명사', '감:동사'], [], [], [], [], ['는:보조사', '는:관형사형어미']]\n",
      "[['가:동사'], [], [], ['기:명사형어미'], [], [], []]\n",
      "[[], [], ['ㅁ:명사형어미'], [], [], [], [], []]\n",
      "\n"
     ]
    }
   ],
   "source": [
    "# step4: morpheme segmentation\n",
    "\n",
    "for idx_col in range(len(chars)-1, -1, -1):\t# backward loop (len-1, len-2, ..., 0)\n",
    "\tfor idx_row in range(len(chars)-1, idx_col-1, -1):\n",
    "\t\t# make pseudo syllables by combining the characters\n",
    "\t\tkey = combine_to_syllables(chars[idx_col:idx_col+(len(chars)-idx_row)])\n",
    "\t\t# search dictionary using the pseudo syllables as the key\n",
    "\t\tif(key in dictionary.keys()):\n",
    "\t\t\tfor value in dictionary[key]:\n",
    "\t\t\t\ttable[idx_row][idx_col]+= [key+\":\"+value]\n",
    "\n",
    "print (\"cyk table after morpheme segmentation:\")\n",
    "print_list(table)\n"
   ]
  },
  {
   "cell_type": "code",
   "execution_count": 25,
   "metadata": {},
   "outputs": [
    {
     "name": "stdout",
     "output_type": "stream",
     "text": [
      "cyk table after connectivity checking:\n",
      "[['감기:명사+는:보조사', '감기:동사+는:관형사형어미', '감:동사+기:명사형어미+는:보조사']]\n",
      "[[], []]\n",
      "[[], [], []]\n",
      "[['감기:명사', '감기:동사'], [], [], ['기:명사형어미+는:보조사']]\n",
      "[[], [], [], [], []]\n",
      "[['감:명사', '감:동사'], [], [], [], [], ['는:보조사', '는:관형사형어미']]\n",
      "[['가:동사'], [], [], ['기:명사형어미'], [], [], []]\n",
      "[[], [], ['ㅁ:명사형어미'], [], [], [], [], []]\n",
      "\n"
     ]
    }
   ],
   "source": [
    "# step5: connectivity check\n",
    "for idx_col in range(len(chars)-1, -1, -1):\t# backward loop (len-1, len-2, ..., 0)\n",
    "\tfor idx_row in range(idx_col+1, len(chars), 1):\n",
    "\t\t#print(\"row: \", idx_row, \"col:\", idx_col)\t# index comparison for debugging\n",
    "\t\t#print len(table[idx_row][idx_col])\t# length check for debugging\n",
    "\t\tidx_prime=len(chars)+idx_col-idx_row\n",
    "\t\t#print('compare '+str(idx_row)+','+str(idx_col)+' and '+str(idx_prime)+','+str(idx_prime))\t# index comparison for debugging\n",
    "\t\tfor idx_left_candidate in range(len(table[idx_row][idx_col])):\n",
    "\t\t\tfor idx_right_candidate in range(len(table[idx_prime][idx_prime])):\n",
    "\t\t\t\tleft_candidate = table[idx_row][idx_col][idx_left_candidate]\n",
    "\t\t\t\tleft_tag = left_candidate.split('+')[-1].split(':')[1]\n",
    "\n",
    "\t\t\t\tright_candidate = table[idx_prime][idx_prime][idx_right_candidate]\n",
    "\t\t\t\tright_tag = right_candidate.split('+')[0].split(':')[1]\n",
    "\t\t\t\tif(left_tag+'\\t'+right_tag in connectivity):\n",
    "\t\t\t\t\ttable[idx_col][idx_col]+=[left_candidate+'+'+right_candidate]\n",
    "\t\t\t\t\t#print(\"position:\", idx_col, idx_col)\t# position check for debugging\n",
    "\n",
    "print (\"cyk table after connectivity checking:\")\n",
    "print_list(table)\n"
   ]
  },
  {
   "cell_type": "code",
   "execution_count": 26,
   "metadata": {},
   "outputs": [
    {
     "name": "stdout",
     "output_type": "stream",
     "text": [
      "result:\n",
      "['감기:명사+는:보조사', '감기:동사+는:관형사형어미', '감:동사+기:명사형어미+는:보조사']\n"
     ]
    }
   ],
   "source": [
    "# step6: print result\n",
    "print (\"result:\")\n",
    "print(table[0][0])"
   ]
  },
  {
   "cell_type": "code",
   "execution_count": null,
   "metadata": {},
   "outputs": [],
   "source": []
  }
 ],
 "metadata": {
  "kernelspec": {
   "display_name": "Python 3",
   "language": "python",
   "name": "python3"
  },
  "language_info": {
   "codemirror_mode": {
    "name": "ipython",
    "version": 3
   },
   "file_extension": ".py",
   "mimetype": "text/x-python",
   "name": "python",
   "nbconvert_exporter": "python",
   "pygments_lexer": "ipython3",
   "version": "3.7.4"
  }
 },
 "nbformat": 4,
 "nbformat_minor": 2
}

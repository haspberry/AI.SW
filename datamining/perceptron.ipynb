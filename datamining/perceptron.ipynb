{
 "cells": [
  {
   "cell_type": "code",
   "execution_count": 2,
   "metadata": {
    "ExecuteTime": {
     "end_time": "2020-01-28T04:45:17.638866Z",
     "start_time": "2020-01-28T04:45:17.381693Z"
    }
   },
   "outputs": [],
   "source": [
    "import numpy as np\n",
    "import matplotlib.pyplot as plt\n",
    "%matplotlib inline"
   ]
  },
  {
   "cell_type": "code",
   "execution_count": 3,
   "metadata": {
    "ExecuteTime": {
     "end_time": "2020-01-28T04:45:17.652540Z",
     "start_time": "2020-01-28T04:45:17.640746Z"
    }
   },
   "outputs": [
    {
     "data": {
      "text/plain": [
       "(array([[2.71454911],\n",
       "        [0.78095761],\n",
       "        [1.44811135],\n",
       "        [7.22827697],\n",
       "        [0.99901086],\n",
       "        [5.75403384],\n",
       "        [5.46653258],\n",
       "        [4.65769751],\n",
       "        [6.10702096],\n",
       "        [2.29256412],\n",
       "        [2.03537843],\n",
       "        [1.48608503],\n",
       "        [2.81032746],\n",
       "        [7.68909305],\n",
       "        [3.40941064],\n",
       "        [7.91859637],\n",
       "        [3.17537118],\n",
       "        [2.31877235],\n",
       "        [6.92942343],\n",
       "        [0.72903102],\n",
       "        [5.25187624],\n",
       "        [5.92400926],\n",
       "        [2.72405497],\n",
       "        [4.08466283],\n",
       "        [2.77695864],\n",
       "        [1.42619828],\n",
       "        [6.47091012],\n",
       "        [5.22770557],\n",
       "        [5.25324091],\n",
       "        [5.33202195],\n",
       "        [0.21079906],\n",
       "        [2.62208351],\n",
       "        [4.19760322],\n",
       "        [0.37944509],\n",
       "        [6.82389838],\n",
       "        [5.45285371],\n",
       "        [0.80147793],\n",
       "        [4.2431907 ],\n",
       "        [5.45582459],\n",
       "        [2.97252236],\n",
       "        [0.64288976],\n",
       "        [7.76314518],\n",
       "        [4.54019443],\n",
       "        [1.43992573],\n",
       "        [2.56935447],\n",
       "        [0.37792607],\n",
       "        [0.55260527],\n",
       "        [0.86468599],\n",
       "        [1.38157442],\n",
       "        [7.02789186],\n",
       "        [5.31007566],\n",
       "        [0.16763399],\n",
       "        [6.6685489 ],\n",
       "        [1.74665376],\n",
       "        [3.12946143],\n",
       "        [2.12641551],\n",
       "        [7.73107716],\n",
       "        [1.04416792],\n",
       "        [6.68669642],\n",
       "        [5.59887515],\n",
       "        [4.8156063 ],\n",
       "        [2.09429898],\n",
       "        [0.7464361 ],\n",
       "        [5.75312276],\n",
       "        [1.17210075],\n",
       "        [1.92584651],\n",
       "        [7.81855699],\n",
       "        [4.8332502 ],\n",
       "        [6.77037263],\n",
       "        [7.53812814],\n",
       "        [6.18075501],\n",
       "        [0.54117735],\n",
       "        [0.75190233],\n",
       "        [6.76668172],\n",
       "        [2.39799364],\n",
       "        [3.21268181],\n",
       "        [3.9820256 ],\n",
       "        [4.69989017],\n",
       "        [3.29508517],\n",
       "        [2.64554422],\n",
       "        [5.79105788],\n",
       "        [6.72929679],\n",
       "        [0.59977665],\n",
       "        [2.42180858],\n",
       "        [2.83082379],\n",
       "        [2.43677499],\n",
       "        [6.92088969],\n",
       "        [7.3736751 ],\n",
       "        [5.76331398],\n",
       "        [7.91399571],\n",
       "        [1.70931196],\n",
       "        [5.89725656],\n",
       "        [7.18015474],\n",
       "        [5.26446581],\n",
       "        [4.09076488],\n",
       "        [5.33205058],\n",
       "        [6.48592707],\n",
       "        [5.60001493],\n",
       "        [1.57271911],\n",
       "        [4.04463816]]), array([[ 0.29964269],\n",
       "        [-2.85368202],\n",
       "        [ 0.36024144],\n",
       "        [-0.90980578],\n",
       "        [ 2.84889108],\n",
       "        [-1.37797136],\n",
       "        [ 2.14598215],\n",
       "        [ 0.60541076],\n",
       "        [-1.44342509],\n",
       "        [ 1.08129911],\n",
       "        [ 1.04704489],\n",
       "        [-0.81828038],\n",
       "        [-1.43559783],\n",
       "        [ 0.48091029],\n",
       "        [ 1.6603405 ],\n",
       "        [ 0.48681393],\n",
       "        [-1.98814449],\n",
       "        [ 1.75151898],\n",
       "        [ 2.79595503],\n",
       "        [ 1.41581105],\n",
       "        [-0.16653475],\n",
       "        [-1.91644412],\n",
       "        [ 2.91933835],\n",
       "        [-2.12078814],\n",
       "        [-3.51664725],\n",
       "        [ 0.96139184],\n",
       "        [ 1.12378056],\n",
       "        [-2.91152316],\n",
       "        [-0.75161354],\n",
       "        [-2.52269226],\n",
       "        [-0.51505329],\n",
       "        [ 2.24736914],\n",
       "        [-1.48608107],\n",
       "        [-1.07823525],\n",
       "        [-3.51891948],\n",
       "        [ 0.49242739],\n",
       "        [ 2.64493129],\n",
       "        [ 2.41348232],\n",
       "        [ 2.74100313],\n",
       "        [ 2.94495189],\n",
       "        [-0.32061873],\n",
       "        [ 1.2903708 ],\n",
       "        [-1.50784421],\n",
       "        [ 0.67157485],\n",
       "        [ 0.47304997],\n",
       "        [-3.89486189],\n",
       "        [-3.2034926 ],\n",
       "        [-1.09584387],\n",
       "        [ 1.0515818 ],\n",
       "        [-0.59547479],\n",
       "        [ 0.17058692],\n",
       "        [ 0.32377315],\n",
       "        [-2.07120452],\n",
       "        [ 0.51911081],\n",
       "        [-0.39323397],\n",
       "        [-1.19416038],\n",
       "        [-1.82230824],\n",
       "        [ 0.79812892],\n",
       "        [ 0.17047066],\n",
       "        [ 2.62809907],\n",
       "        [ 0.49106661],\n",
       "        [-1.35371456],\n",
       "        [-0.99795205],\n",
       "        [ 1.83676566],\n",
       "        [ 0.85757888],\n",
       "        [-1.31587058],\n",
       "        [ 1.97383156],\n",
       "        [ 0.18331187],\n",
       "        [-3.66299449],\n",
       "        [-0.57716415],\n",
       "        [-0.37261513],\n",
       "        [ 1.11852725],\n",
       "        [ 0.76669368],\n",
       "        [ 1.62169068],\n",
       "        [-2.19156195],\n",
       "        [-3.77875187],\n",
       "        [ 2.49004791],\n",
       "        [-0.21137419],\n",
       "        [-2.83977936],\n",
       "        [-0.78989887],\n",
       "        [-2.26814794],\n",
       "        [-3.05112379],\n",
       "        [-1.76340409],\n",
       "        [ 2.76206364],\n",
       "        [ 0.03075483],\n",
       "        [ 0.54296639],\n",
       "        [-0.20216212],\n",
       "        [-2.73602107],\n",
       "        [-2.86881639],\n",
       "        [-2.13314691],\n",
       "        [-0.53798018],\n",
       "        [ 0.51763559],\n",
       "        [ 2.48177774],\n",
       "        [-0.71350086],\n",
       "        [-1.51425057],\n",
       "        [-0.43790786],\n",
       "        [ 1.7448414 ],\n",
       "        [-0.93698981],\n",
       "        [ 1.5895105 ],\n",
       "        [-0.4239283 ]]), array([[-0.52871802],\n",
       "        [-5.22891593],\n",
       "        [-1.48126948],\n",
       "        [ 1.8728158 ],\n",
       "        [ 0.64809976],\n",
       "        [ 0.22525572],\n",
       "        [ 3.51920821],\n",
       "        [ 1.33156877],\n",
       "        [ 0.44219167],\n",
       "        [-0.08464959],\n",
       "        [-0.32465237],\n",
       "        [-2.62941236],\n",
       "        [-2.18733586],\n",
       "        [ 3.63218473],\n",
       "        [ 1.38786901],\n",
       "        [ 3.82169103],\n",
       "        [-2.44784754],\n",
       "        [ 0.60653686],\n",
       "        [ 5.33949377],\n",
       "        [-1.00096414],\n",
       "        [ 1.03496624],\n",
       "        [-0.17723671],\n",
       "        [ 2.09858233],\n",
       "        [-1.85305787],\n",
       "        [-4.29508034],\n",
       "        [-0.89764954],\n",
       "        [ 3.30050865],\n",
       "        [-1.7293587 ],\n",
       "        [ 0.45097919],\n",
       "        [-1.2570747 ],\n",
       "        [-3.34641404],\n",
       "        [ 1.34503595],\n",
       "        [-1.1279985 ],\n",
       "        [-3.77467918],\n",
       "        [-1.05980078],\n",
       "        [ 1.85471036],\n",
       "        [ 0.28611363],\n",
       "        [ 2.80803488],\n",
       "        [ 4.1056628 ],\n",
       "        [ 2.32296978],\n",
       "        [-2.80630692],\n",
       "        [ 4.50088694],\n",
       "        [-0.87568867],\n",
       "        [-1.17648456],\n",
       "        [-0.47146646],\n",
       "        [-6.59252103],\n",
       "        [-5.76140838],\n",
       "        [-3.40409508],\n",
       "        [-0.84315866],\n",
       "        [ 2.0268387 ],\n",
       "        [ 1.41864745],\n",
       "        [-2.54211966],\n",
       "        [ 0.2636346 ],\n",
       "        [-1.08356618],\n",
       "        [-0.88966483],\n",
       "        [-2.49302798],\n",
       "        [ 1.36255349],\n",
       "        [-1.36653675],\n",
       "        [ 2.51982779],\n",
       "        [ 4.10719919],\n",
       "        [ 1.34355164],\n",
       "        [-2.67827538],\n",
       "        [-3.40080317],\n",
       "        [ 3.43926387],\n",
       "        [-1.20474051],\n",
       "        [-2.77519337],\n",
       "        [ 5.22867715],\n",
       "        [ 1.04991203],\n",
       "        [-1.24669639],\n",
       "        [ 2.45333837],\n",
       "        [ 1.57198888],\n",
       "        [-1.44853087],\n",
       "        [-1.63178446],\n",
       "        [ 4.03503605],\n",
       "        [-3.27316703],\n",
       "        [-4.20860642],\n",
       "        [ 2.67566839],\n",
       "        [ 0.54853794],\n",
       "        [-3.20371122],\n",
       "        [-1.67346349],\n",
       "        [-0.63530164],\n",
       "        [-0.66768636],\n",
       "        [-4.28358277],\n",
       "        [ 1.6995105 ],\n",
       "        [-0.70458614],\n",
       "        [-0.50761361],\n",
       "        [ 2.33454963],\n",
       "        [ 0.16291902],\n",
       "        [-1.25816521],\n",
       "        [ 1.19804966],\n",
       "        [-2.17053061],\n",
       "        [ 2.23544084],\n",
       "        [ 5.22590153],\n",
       "        [ 0.49807179],\n",
       "        [-1.24163867],\n",
       "        [ 0.82773261],\n",
       "        [ 3.93358305],\n",
       "        [ 0.54302214],\n",
       "        [-0.15231422],\n",
       "        [-0.18821778]]))"
      ]
     },
     "execution_count": 3,
     "metadata": {},
     "output_type": "execute_result"
    }
   ],
   "source": [
    "#training data gerneration\n",
    "m = 100\n",
    "x1 = 8*np.random.rand(m, 1)\n",
    "x2 = 7*np.random.rand(m, 1) - 4\n",
    "\n",
    "g = 0.8*x1 + x2 - 3\n",
    "x1, x2, g"
   ]
  },
  {
   "cell_type": "code",
   "execution_count": 4,
   "metadata": {
    "ExecuteTime": {
     "end_time": "2020-01-28T04:45:17.843120Z",
     "start_time": "2020-01-28T04:45:17.828570Z"
    }
   },
   "outputs": [
    {
     "name": "stdout",
     "output_type": "stream",
     "text": [
      "(array([ 3,  6,  7, 13, 14, 15, 18, 20, 22, 26, 31, 35, 37, 38, 39, 41, 49,\n",
      "       50, 56, 58, 59, 60, 63, 66, 67, 69, 70, 73, 76, 83, 86, 89, 91, 92,\n",
      "       96]), array([0, 0, 0, 0, 0, 0, 0, 0, 0, 0, 0, 0, 0, 0, 0, 0, 0, 0, 0, 0, 0, 0,\n",
      "       0, 0, 0, 0, 0, 0, 0, 0, 0, 0, 0, 0, 0]))\n"
     ]
    }
   ],
   "source": [
    "C1 = np.where(g >= 1)\n",
    "C0 = np.where(g < -1)\n",
    "print(C1)"
   ]
  },
  {
   "cell_type": "code",
   "execution_count": 5,
   "metadata": {
    "ExecuteTime": {
     "end_time": "2020-01-28T04:45:18.093919Z",
     "start_time": "2020-01-28T04:45:18.083897Z"
    }
   },
   "outputs": [
    {
     "name": "stdout",
     "output_type": "stream",
     "text": [
      "[ 3  6  7 13 14 15 18 20 22 26 31 35 37 38 39 41 49 50 56 58 59 60 63 66\n",
      " 67 69 70 73 76 83 86 89 91 92 96]\n"
     ]
    }
   ],
   "source": [
    "C1 = np.where(g >= 1)[0]\n",
    "print(C1)"
   ]
  },
  {
   "cell_type": "code",
   "execution_count": 6,
   "metadata": {
    "ExecuteTime": {
     "end_time": "2020-01-28T04:45:18.367823Z",
     "start_time": "2020-01-28T04:45:18.356456Z"
    }
   },
   "outputs": [
    {
     "name": "stdout",
     "output_type": "stream",
     "text": [
      "(35,)\n",
      "(38,)\n"
     ]
    }
   ],
   "source": [
    "C1 = np.where(g >= 1)[0]\n",
    "C0 = np.where(g < -1)[0]\n",
    "print(C1.shape)\n",
    "print(C0.shape)"
   ]
  },
  {
   "cell_type": "code",
   "execution_count": 7,
   "metadata": {
    "ExecuteTime": {
     "end_time": "2020-01-28T04:45:19.233482Z",
     "start_time": "2020-01-28T04:45:18.851076Z"
    }
   },
   "outputs": [
    {
     "data": {
      "image/png": "[encoded data removed]",
      "text/plain": [
       "<Figure size 720x576 with 1 Axes>"
      ]
     },
     "metadata": {
      "needs_background": "light"
     },
     "output_type": "display_data"
    }
   ],
   "source": [
    "plt.figure(figsize=(10, 8))\n",
    "plt.plot(x1[C1], x2[C1], 'ro', alpha = 1.0, label = 'C1')\n",
    "plt.plot(x1[C0], x2[C0], 'bo', alpha = 0.7, label = 'C0')\n",
    "plt.title('Linearly Separable Classes', fontsize = 15)\n",
    "plt.legend(loc = 1, fontsize = 15)\n",
    "plt.xlabel(r'$x_1$', fontsize = 15)\n",
    "plt.ylabel(r'$x_2$', fontsize = 15)\n",
    "plt.show()"
   ]
  },
  {
   "cell_type": "code",
   "execution_count": 8,
   "metadata": {
    "ExecuteTime": {
     "end_time": "2020-01-28T04:45:19.241460Z",
     "start_time": "2020-01-28T04:45:19.235221Z"
    }
   },
   "outputs": [],
   "source": [
    "X1 = np.hstack([np.ones([C1.shape[0],1]), x1[C1], x2[C1]])\n",
    "X0 = np.hstack([np.ones([C0.shape[0],1]), x1[C0], x2[C0]])\n",
    "X = np.vstack([X1, X0])\n",
    "\n",
    "y = np.vstack([np.ones([C1.shape[0],1]), -np.ones([C0.shape[0],1])])\n",
    "\n",
    "X = np.asmatrix(X)\n",
    "y = np.asmatrix(y)"
   ]
  },
  {
   "cell_type": "code",
   "execution_count": 9,
   "metadata": {
    "ExecuteTime": {
     "end_time": "2020-01-28T04:45:19.583195Z",
     "start_time": "2020-01-28T04:45:19.459324Z"
    }
   },
   "outputs": [
    {
     "name": "stdout",
     "output_type": "stream",
     "text": [
      "[[-15.        ]\n",
      " [  5.57218768]\n",
      " [  6.80835766]]\n"
     ]
    }
   ],
   "source": [
    "w = np.ones([3,1])\n",
    "w = np.asmatrix(w)\n",
    "\n",
    "n_iter = y.shape[0]\n",
    "\n",
    "for k in range(n_iter):\n",
    "    for i in range(n_iter):\n",
    "        if y[i,0] != np.sign(X[i,:]*w)[0,0]:\n",
    "            w += y[i,0]*X[i,:].T\n",
    "print(w)"
   ]
  },
  {
   "cell_type": "code",
   "execution_count": 10,
   "metadata": {
    "ExecuteTime": {
     "end_time": "2020-01-28T04:45:20.267037Z",
     "start_time": "2020-01-28T04:45:20.051885Z"
    }
   },
   "outputs": [
    {
     "data": {
      "image/png": "[encoded data removed]",
      "text/plain": [
       "<Figure size 720x576 with 1 Axes>"
      ]
     },
     "metadata": {
      "needs_background": "light"
     },
     "output_type": "display_data"
    }
   ],
   "source": [
    "x1p = np.linspace(0,8,100).reshape(-1,1)\n",
    "x2p = - w[1,0]/w[2,0]*x1p - w[0,0]/w[2,0]\n",
    "\n",
    "plt.figure(figsize=(10, 8))\n",
    "plt.plot(x1[C1], x2[C1], 'ro', alpha = 1.0, label = 'C1')\n",
    "plt.plot(x1[C0], x2[C0], 'bo', alpha = 0.7, label = 'C0')\n",
    "plt.plot(x1p, x2p, c='k', linewidth = 3, label = 'perceptron')\n",
    "plt.title('Linearly Separable Classes', fontsize = 15)\n",
    "plt.xlim([0,8])\n",
    "plt.legend(loc = 1, fontsize = 15)\n",
    "plt.xlabel(r'$x_1$', fontsize = 15)\n",
    "plt.ylabel(r'$x_2$', fontsize = 15)\n",
    "plt.show()\n"
   ]
  },
  {
   "cell_type": "code",
   "execution_count": 11,
   "metadata": {
    "ExecuteTime": {
     "end_time": "2020-01-28T04:45:20.863794Z",
     "start_time": "2020-01-28T04:45:20.852053Z"
    }
   },
   "outputs": [],
   "source": [
    "X1 = np.hstack([x1[C1], x2[C1]])\n",
    "X0 = np.hstack([x1[C0], x2[C0]])\n",
    "X = np.vstack([X1, X0])\n",
    "\n",
    "y = np.vstack([np.ones([C1.shape[0],1]), -np.ones([C0.shape[0],1])])"
   ]
  },
  {
   "cell_type": "code",
   "execution_count": 12,
   "metadata": {
    "ExecuteTime": {
     "end_time": "2020-01-28T04:45:22.239505Z",
     "start_time": "2020-01-28T04:45:21.940026Z"
    }
   },
   "outputs": [
    {
     "data": {
      "text/plain": [
       "Perceptron(alpha=0.0001, class_weight=None, early_stopping=False, eta0=1.0,\n",
       "           fit_intercept=True, max_iter=1000, n_iter_no_change=5, n_jobs=None,\n",
       "           penalty=None, random_state=0, shuffle=True, tol=0.001,\n",
       "           validation_fraction=0.1, verbose=0, warm_start=False)"
      ]
     },
     "execution_count": 12,
     "metadata": {},
     "output_type": "execute_result"
    }
   ],
   "source": [
    "from sklearn import linear_model\n",
    "\n",
    "clf = linear_model.Perceptron(tol=1e-3)\n",
    "clf.fit(X, np.ravel(y))"
   ]
  },
  {
   "cell_type": "code",
   "execution_count": 13,
   "metadata": {
    "ExecuteTime": {
     "end_time": "2020-01-28T04:45:22.973954Z",
     "start_time": "2020-01-28T04:45:22.963112Z"
    }
   },
   "outputs": [
    {
     "data": {
      "text/plain": [
       "array([-1.])"
      ]
     },
     "execution_count": 13,
     "metadata": {},
     "output_type": "execute_result"
    }
   ],
   "source": [
    "clf.predict([[3, -2]])"
   ]
  },
  {
   "cell_type": "code",
   "execution_count": 14,
   "metadata": {
    "ExecuteTime": {
     "end_time": "2020-01-28T04:45:27.636360Z",
     "start_time": "2020-01-28T04:45:27.621849Z"
    }
   },
   "outputs": [
    {
     "data": {
      "text/plain": [
       "array([1.])"
      ]
     },
     "execution_count": 14,
     "metadata": {},
     "output_type": "execute_result"
    }
   ],
   "source": [
    "clf.predict([[6, 2]])"
   ]
  },
  {
   "cell_type": "code",
   "execution_count": 15,
   "metadata": {
    "ExecuteTime": {
     "end_time": "2020-01-28T04:45:52.433869Z",
     "start_time": "2020-01-28T04:45:52.421521Z"
    }
   },
   "outputs": [
    {
     "data": {
      "text/plain": [
       "array([[6.00407565, 8.79664964]])"
      ]
     },
     "execution_count": 15,
     "metadata": {},
     "output_type": "execute_result"
    }
   ],
   "source": [
    "clf.coef_"
   ]
  },
  {
   "cell_type": "code",
   "execution_count": 16,
   "metadata": {
    "ExecuteTime": {
     "end_time": "2020-01-28T04:45:55.763923Z",
     "start_time": "2020-01-28T04:45:55.749597Z"
    }
   },
   "outputs": [
    {
     "data": {
      "text/plain": [
       "array([-19.])"
      ]
     },
     "execution_count": 16,
     "metadata": {},
     "output_type": "execute_result"
    }
   ],
   "source": [
    "clf.intercept_"
   ]
  },
  {
   "cell_type": "code",
   "execution_count": 17,
   "metadata": {
    "ExecuteTime": {
     "end_time": "2020-01-28T04:46:00.353308Z",
     "start_time": "2020-01-28T04:46:00.342653Z"
    }
   },
   "outputs": [],
   "source": [
    "w0 = clf.intercept_[0]\n",
    "w1 = clf.coef_[0,0]\n",
    "w2 = clf.coef_[0,1]"
   ]
  },
  {
   "cell_type": "code",
   "execution_count": 19,
   "metadata": {
    "ExecuteTime": {
     "end_time": "2020-01-28T04:49:36.563816Z",
     "start_time": "2020-01-28T04:49:36.307957Z"
    }
   },
   "outputs": [
    {
     "data": {
      "image/png": "[encoded data removed]",
      "text/plain": [
       "<Figure size 720x576 with 1 Axes>"
      ]
     },
     "metadata": {
      "needs_background": "light"
     },
     "output_type": "display_data"
    }
   ],
   "source": [
    "x1p = np.linspace(0,8,100).reshape(-1,1)\n",
    "x2p = - w1/w2*x1p - w0/w2\n",
    "\n",
    "plt.figure(figsize=(10, 8))\n",
    "plt.plot(x1[C1], x2[C1], 'ro', alpha = 1.0, label = 'C1')\n",
    "plt.plot(x1[C0], x2[C0], 'bo', alpha = 0.7, label = 'C0')\n",
    "plt.plot(x1p, x2p, c='k', linewidth = 3, label = 'perceptron')\n",
    "plt.title('Linearly Separable Classes', fontsize = 15)\n",
    "plt.xlim([0,8])\n",
    "plt.legend(loc = 1, fontsize = 15)\n",
    "plt.xlabel(r'$x_1$', fontsize = 15)\n",
    "plt.ylabel(r'$x_2$', fontsize = 15)\n",
    "plt.show()"
   ]
  }
 ],
 "metadata": {
  "kernelspec": {
   "display_name": "Python 3",
   "language": "python",
   "name": "python3"
  },
  "language_info": {
   "codemirror_mode": {
    "name": "ipython",
    "version": 3
   },
   "file_extension": ".py",
   "mimetype": "text/x-python",
   "name": "python",
   "nbconvert_exporter": "python",
   "pygments_lexer": "ipython3",
   "version": "3.7.4"
  }
 },
 "nbformat": 4,
 "nbformat_minor": 2
}

{
 "cells": [
  {
   "cell_type": "code",
   "execution_count": 1,
   "metadata": {
    "ExecuteTime": {
     "end_time": "2020-01-23T08:07:12.414192Z",
     "start_time": "2020-01-23T08:07:12.314239Z"
    },
    "cell_style": "center"
   },
   "outputs": [],
   "source": [
    "import numpy as np"
   ]
  },
  {
   "cell_type": "code",
   "execution_count": 2,
   "metadata": {
    "ExecuteTime": {
     "end_time": "2020-01-23T08:07:12.419246Z",
     "start_time": "2020-01-23T08:07:12.415767Z"
    }
   },
   "outputs": [
    {
     "name": "stdout",
     "output_type": "stream",
     "text": [
      "[[ 4 -5]\n",
      " [-2  3]]\n"
     ]
    }
   ],
   "source": [
    "A = np.array([[4, -5],[-2, 3]])\n",
    "print(A)"
   ]
  },
  {
   "cell_type": "code",
   "execution_count": 3,
   "metadata": {
    "ExecuteTime": {
     "end_time": "2020-01-23T08:07:12.513117Z",
     "start_time": "2020-01-23T08:07:12.420835Z"
    }
   },
   "outputs": [
    {
     "name": "stdout",
     "output_type": "stream",
     "text": [
      "[[-13]\n",
      " [  9]]\n"
     ]
    }
   ],
   "source": [
    "b = np.array([[-13],[9]])\n",
    "print(b)"
   ]
  },
  {
   "cell_type": "code",
   "execution_count": 4,
   "metadata": {
    "ExecuteTime": {
     "end_time": "2020-01-23T08:07:12.613250Z",
     "start_time": "2020-01-23T08:07:12.516214Z"
    }
   },
   "outputs": [
    {
     "data": {
      "text/plain": [
       "array([[1.5, 2.5],\n",
       "       [1. , 2. ]])"
      ]
     },
     "execution_count": 4,
     "metadata": {},
     "output_type": "execute_result"
    }
   ],
   "source": [
    "np.linalg.inv(A)"
   ]
  },
  {
   "cell_type": "code",
   "execution_count": 5,
   "metadata": {
    "ExecuteTime": {
     "end_time": "2020-01-23T08:07:12.746895Z",
     "start_time": "2020-01-23T08:07:12.617830Z"
    }
   },
   "outputs": [
    {
     "name": "stdout",
     "output_type": "stream",
     "text": [
      "[[3.]\n",
      " [5.]]\n"
     ]
    }
   ],
   "source": [
    "x = np.linalg.inv(A).dot(b)\n",
    "print(x)"
   ]
  },
  {
   "cell_type": "code",
   "execution_count": 6,
   "metadata": {
    "ExecuteTime": {
     "end_time": "2020-01-23T08:07:12.830949Z",
     "start_time": "2020-01-23T08:07:12.751067Z"
    }
   },
   "outputs": [
    {
     "name": "stdout",
     "output_type": "stream",
     "text": [
      "[[3.]\n",
      " [5.]]\n"
     ]
    }
   ],
   "source": [
    "A = np.asmatrix(A)\n",
    "b = np.asmatrix(b)\n",
    "x = A.I*b\n",
    "print(x)"
   ]
  },
  {
   "cell_type": "code",
   "execution_count": 7,
   "metadata": {
    "ExecuteTime": {
     "end_time": "2020-01-23T08:07:12.922545Z",
     "start_time": "2020-01-23T08:07:12.838289Z"
    }
   },
   "outputs": [
    {
     "name": "stdout",
     "output_type": "stream",
     "text": [
      "[[5]]\n"
     ]
    }
   ],
   "source": [
    "x = np.array([[1],\n",
    "              [1]])\n",
    "\n",
    "y = np.array([[2],\n",
    "              [3]])\n",
    "\n",
    "print(x.T.dot(y))"
   ]
  },
  {
   "cell_type": "code",
   "execution_count": 8,
   "metadata": {
    "ExecuteTime": {
     "end_time": "2020-01-23T08:07:13.013574Z",
     "start_time": "2020-01-23T08:07:12.928841Z"
    }
   },
   "outputs": [
    {
     "name": "stdout",
     "output_type": "stream",
     "text": [
      "[[5]]\n"
     ]
    }
   ],
   "source": [
    "x = np.asmatrix(x)\n",
    "y = np.asmatrix(y)\n",
    "\n",
    "print(x.T*y)"
   ]
  },
  {
   "cell_type": "code",
   "execution_count": 9,
   "metadata": {
    "ExecuteTime": {
     "end_time": "2020-01-23T08:07:13.128552Z",
     "start_time": "2020-01-23T08:07:13.019191Z"
    }
   },
   "outputs": [
    {
     "data": {
      "text/plain": [
       "5.0"
      ]
     },
     "execution_count": 9,
     "metadata": {},
     "output_type": "execute_result"
    }
   ],
   "source": [
    "x = np.array([[4],\n",
    "              [3]])\n",
    "\n",
    "np.linalg.norm(x, 2)"
   ]
  },
  {
   "cell_type": "code",
   "execution_count": 10,
   "metadata": {
    "ExecuteTime": {
     "end_time": "2020-01-23T08:07:13.214838Z",
     "start_time": "2020-01-23T08:07:13.132344Z"
    }
   },
   "outputs": [
    {
     "data": {
      "text/plain": [
       "7.0"
      ]
     },
     "execution_count": 10,
     "metadata": {},
     "output_type": "execute_result"
    }
   ],
   "source": [
    "np.linalg.norm(x, 1)"
   ]
  },
  {
   "cell_type": "code",
   "execution_count": 11,
   "metadata": {
    "ExecuteTime": {
     "end_time": "2020-01-23T08:07:14.959414Z",
     "start_time": "2020-01-23T08:07:13.220660Z"
    }
   },
   "outputs": [
    {
     "name": "stdout",
     "output_type": "stream",
     "text": [
      "Requirement already satisfied: cvxpy in /home/pirl/anaconda3/lib/python3.7/site-packages (1.0.25)\n",
      "Requirement already satisfied: osqp>=0.4.1 in /home/pirl/anaconda3/lib/python3.7/site-packages (from cvxpy) (0.6.1)\n",
      "Requirement already satisfied: scipy>=1.1.0 in /home/pirl/anaconda3/lib/python3.7/site-packages (from cvxpy) (1.4.1)\n",
      "Requirement already satisfied: scs>=1.1.3 in /home/pirl/anaconda3/lib/python3.7/site-packages (from cvxpy) (2.1.1.post2)\n",
      "Requirement already satisfied: numpy>=1.15 in /home/pirl/anaconda3/lib/python3.7/site-packages (from cvxpy) (1.17.2)\n",
      "Requirement already satisfied: ecos>=2 in /home/pirl/anaconda3/lib/python3.7/site-packages (from cvxpy) (2.0.7.post1)\n",
      "Requirement already satisfied: multiprocess in /home/pirl/anaconda3/lib/python3.7/site-packages (from cvxpy) (0.70.9)\n",
      "Requirement already satisfied: six in /home/pirl/anaconda3/lib/python3.7/site-packages (from cvxpy) (1.12.0)\n",
      "Requirement already satisfied: future in /home/pirl/anaconda3/lib/python3.7/site-packages (from osqp>=0.4.1->cvxpy) (0.17.1)\n",
      "Requirement already satisfied: dill>=0.3.1 in /home/pirl/anaconda3/lib/python3.7/site-packages (from multiprocess->cvxpy) (0.3.1.1)\n"
     ]
    }
   ],
   "source": [
    "!pip install cvxpy"
   ]
  },
  {
   "cell_type": "code",
   "execution_count": 12,
   "metadata": {
    "ExecuteTime": {
     "end_time": "2020-01-23T08:07:15.152546Z",
     "start_time": "2020-01-23T08:07:14.963850Z"
    }
   },
   "outputs": [
    {
     "name": "stdout",
     "output_type": "stream",
     "text": [
      "[[2.]\n",
      " [3.]]\n",
      "-10.5\n"
     ]
    }
   ],
   "source": [
    "import numpy as np\n",
    "import cvxpy as cvx\n",
    "\n",
    "f = np.array([[3], [3/2]])\n",
    "lb = np.array([[-1], [0]])\n",
    "ub = np.array([[2], [3]])\n",
    "\n",
    "x = cvx.Variable([2,1])\n",
    "\n",
    "obj = cvx.Minimize(-f.T*x)\n",
    "constraints = [lb <= x, x <= ub]\n",
    "\n",
    "prob = cvx.Problem(obj, constraints)\n",
    "result = prob.solve()\n",
    "\n",
    "print(x.value)\n",
    "print(result)"
   ]
  },
  {
   "cell_type": "code",
   "execution_count": 13,
   "metadata": {
    "ExecuteTime": {
     "end_time": "2020-01-23T08:07:15.170679Z",
     "start_time": "2020-01-23T08:07:15.154008Z"
    }
   },
   "outputs": [
    {
     "name": "stdout",
     "output_type": "stream",
     "text": [
      "[[-1.15591357e-25]\n",
      " [ 5.00000000e+00]]\n",
      "20.000000000000004\n"
     ]
    }
   ],
   "source": [
    "f = np.array([[3], [4]])\n",
    "H = np.array([[1/2, 0], [0, 0]])\n",
    "\n",
    "A = np.array([[-1, -3], \n",
    "              [2, 5], \n",
    "              [3, 4]])\n",
    "\n",
    "b = np.array([[-15], \n",
    "              [100], \n",
    "              [80]])\n",
    "\n",
    "lb = np.array([[0], \n",
    "               [0]])\n",
    "\n",
    "x = cvx.Variable([2,1])\n",
    "\n",
    "obj = cvx.Minimize(cvx.quad_form(x, H) + f.T*x)\n",
    "constraints = [A*x <= b, lb <= x]\n",
    "\n",
    "prob = cvx.Problem(obj, constraints)\n",
    "result = prob.solve()\n",
    "\n",
    "print(x.value)\n",
    "print(result)"
   ]
  },
  {
   "cell_type": "code",
   "execution_count": 14,
   "metadata": {
    "ExecuteTime": {
     "end_time": "2020-01-23T08:07:15.332594Z",
     "start_time": "2020-01-23T08:07:15.172254Z"
    }
   },
   "outputs": [
    {
     "ename": "TypeError",
     "evalue": "'builtin_function_or_method' object is not subscriptable",
     "output_type": "error",
     "traceback": [
      "\u001b[0;31m---------------------------------------------------------------------------\u001b[0m",
      "\u001b[0;31mTypeError\u001b[0m                                 Traceback (most recent call last)",
      "\u001b[0;32m<ipython-input-14-c4a9f56eda41>\u001b[0m in \u001b[0;36m<module>\u001b[0;34m\u001b[0m\n\u001b[1;32m      5\u001b[0m \u001b[0;34m\u001b[0m\u001b[0m\n\u001b[1;32m      6\u001b[0m \u001b[0mb\u001b[0m \u001b[0;34m=\u001b[0m \u001b[0;36m3\u001b[0m\u001b[0;34m\u001b[0m\u001b[0;34m\u001b[0m\u001b[0m\n\u001b[0;32m----> 7\u001b[0;31m \u001b[0mlb\u001b[0m \u001b[0;34m=\u001b[0m \u001b[0mnp\u001b[0m\u001b[0;34m.\u001b[0m\u001b[0marray\u001b[0m\u001b[0;34m[\u001b[0m\u001b[0;34m[\u001b[0m\u001b[0;36m0\u001b[0m\u001b[0;34m,\u001b[0m \u001b[0;36m0\u001b[0m\u001b[0;34m]\u001b[0m\u001b[0;34m]\u001b[0m\u001b[0;34m\u001b[0m\u001b[0;34m\u001b[0m\u001b[0m\n\u001b[0m",
      "\u001b[0;31mTypeError\u001b[0m: 'builtin_function_or_method' object is not subscriptable"
     ]
    }
   ],
   "source": [
    "f = np.array([[-6],[-6]])\n",
    "H = np.array([[1, 0],[0, 1]])\n",
    "\n",
    "A = np.array([1, 1])\n",
    "\n",
    "b = 3\n",
    "lb = np.array[[0, 0]]\n"
   ]
  },
  {
   "cell_type": "code",
   "execution_count": null,
   "metadata": {
    "ExecuteTime": {
     "end_time": "2020-01-23T08:07:15.335034Z",
     "start_time": "2020-01-23T08:07:12.346Z"
    }
   },
   "outputs": [],
   "source": [
    "a = np.array([[0],[1]])\n",
    "b = np.array([[4],[2]])\n",
    "\n",
    "Aeq = np.array([0, 1])\n",
    "beq = 0\n",
    "\n",
    "x = cvx.Variable([2,1])\n",
    "obj = cvx.Minimize(cvx.norm(a-x,2) + cvx.norm(b-x, 2))\n",
    "constraints = [Aeq*x == beq]\n",
    "\n",
    "prob = cvx.Problem(obj, constraints)\n",
    "result = prob.solve()\n",
    "\n",
    "print(x.value)\n",
    "print(result)"
   ]
  },
  {
   "cell_type": "code",
   "execution_count": null,
   "metadata": {
    "ExecuteTime": {
     "end_time": "2020-01-23T08:07:15.335950Z",
     "start_time": "2020-01-23T08:07:12.348Z"
    }
   },
   "outputs": [],
   "source": [
    "import numpy as np\n",
    "import matplotlib.pyplot as plt"
   ]
  },
  {
   "cell_type": "code",
   "execution_count": null,
   "metadata": {
    "ExecuteTime": {
     "end_time": "2020-01-23T08:07:15.336719Z",
     "start_time": "2020-01-23T08:07:12.350Z"
    }
   },
   "outputs": [],
   "source": [
    "# data points in column vector [input, output]\n",
    "x = np.array([0.1, 0.4, 0.7, 1.2, 1.3, 1.7, 2.2, 2.8, 3.0, 4.0, 4.3, 4.4, 4.9]).reshape(-1, 1)\n",
    "y = np.array([0.5, 0.9, 1.1, 1.5, 1.5, 2.0, 2.2, 2.8, 2.7, 3.0, 3.5, 3.7, 3.9]).reshape(-1, 1)\n",
    "\n",
    "plt.figure(figsize = (10,8))\n",
    "plt.plot(x, y, 'ko')\n",
    "plt.title('Data', fontsize = 15)\n",
    "plt.xlabel('X', fontsize = 15)\n",
    "plt.ylabel('Y', fontsize = 15)\n",
    "plt.axis('equal')\n",
    "plt.grid(alpha = 0.3)\n",
    "plt.xlim([0, 5])\n",
    "plt.show()"
   ]
  },
  {
   "cell_type": "code",
   "execution_count": null,
   "metadata": {
    "ExecuteTime": {
     "end_time": "2020-01-23T08:07:15.337391Z",
     "start_time": "2020-01-23T08:07:12.352Z"
    }
   },
   "outputs": [],
   "source": [
    "#A = np.hstack([np.ones([m, 1]), x])\n",
    "A = np.hstack([x**0, x])\n",
    "\n",
    "print(A)"
   ]
  },
  {
   "cell_type": "code",
   "execution_count": null,
   "metadata": {
    "ExecuteTime": {
     "end_time": "2020-01-23T08:07:15.338180Z",
     "start_time": "2020-01-23T08:07:12.354Z"
    }
   },
   "outputs": [],
   "source": [
    "A = np.asmatrix(A)\n",
    "\n",
    "theta = (A.T*A).I*A.T*y\n",
    "\n",
    "print('theta:\\n', theta)"
   ]
  },
  {
   "cell_type": "code",
   "execution_count": null,
   "metadata": {
    "ExecuteTime": {
     "end_time": "2020-01-23T08:07:15.339034Z",
     "start_time": "2020-01-23T08:07:12.356Z"
    }
   },
   "outputs": [],
   "source": [
    "# to plot\n",
    "plt.figure(figsize = (10, 8))\n",
    "plt.title('Regression', fontsize = 15)\n",
    "plt.xlabel('X', fontsize = 15)\n",
    "plt.ylabel('Y', fontsize = 15)\n",
    "plt.plot(x, y, 'ko', label = \"data\")\n",
    "\n",
    "# to plot a straight line (fitted line)\n",
    "xp = np.arange(0, 5, 0.01).reshape(-1, 1)\n",
    "yp = theta[0,0] + theta[1,0]*xp\n",
    "\n",
    "plt.plot(xp, yp, 'r', linewidth = 2, label = \"regression\")\n",
    "plt.legend(fontsize = 15)\n",
    "plt.axis('equal')\n",
    "plt.grid(alpha = 0.3)\n",
    "plt.xlim([0, 5])\n",
    "plt.show()"
   ]
  },
  {
   "cell_type": "code",
   "execution_count": null,
   "metadata": {
    "ExecuteTime": {
     "end_time": "2020-01-23T08:07:15.339842Z",
     "start_time": "2020-01-23T08:07:12.358Z"
    }
   },
   "outputs": [],
   "source": [
    "theta = np.random.randn(2,1)\n",
    "theta = np.asmatrix(theta)\n",
    "\n",
    "alpha = 0.001\n",
    "\n",
    "for _ in range(1000):\n",
    "    df = 2*(A.T*A*theta - A.T*y)\n",
    "    theta = theta - alpha*df\n",
    "\n",
    "print (theta)"
   ]
  },
  {
   "cell_type": "code",
   "execution_count": null,
   "metadata": {
    "ExecuteTime": {
     "end_time": "2020-01-23T08:07:15.340629Z",
     "start_time": "2020-01-23T08:07:12.360Z"
    }
   },
   "outputs": [],
   "source": [
    "# to plot\n",
    "plt.figure(figsize = (10, 8))\n",
    "plt.title('Regression', fontsize = 15)\n",
    "plt.xlabel('X', fontsize = 15)\n",
    "plt.ylabel('Y', fontsize = 15)\n",
    "plt.plot(x, y, 'ko', label = \"data\")\n",
    "\n",
    "# to plot a straight line (fitted line)\n",
    "xp = np.arange(0, 5, 0.01).reshape(-1, 1)\n",
    "yp = theta[0,0] + theta[1,0]*xp\n",
    "\n",
    "plt.plot(xp, yp, 'r', linewidth = 2, label = \"regression\")\n",
    "plt.legend(fontsize = 15)\n",
    "plt.axis('equal')\n",
    "plt.grid(alpha = 0.3)\n",
    "plt.xlim([0, 5])\n",
    "plt.show()"
   ]
  },
  {
   "cell_type": "code",
   "execution_count": null,
   "metadata": {
    "ExecuteTime": {
     "end_time": "2020-01-23T08:07:15.341426Z",
     "start_time": "2020-01-23T08:07:12.362Z"
    }
   },
   "outputs": [],
   "source": [
    "from mpl_toolkits.mplot3d import Axes3D"
   ]
  },
  {
   "cell_type": "code",
   "execution_count": null,
   "metadata": {
    "ExecuteTime": {
     "end_time": "2020-01-23T08:07:15.342158Z",
     "start_time": "2020-01-23T08:07:12.364Z"
    }
   },
   "outputs": [],
   "source": [
    "# y = theta0 + theta1*x1 + theta2*x2 + noise\n",
    "\n",
    "n = 200\n",
    "x1 = np.random.randn(n, 1)\n",
    "x2 = np.random.randn(n, 1)\n",
    "noise = 0.5*np.random.randn(n, 1);\n",
    "\n",
    "y = 2 + 1*x1 + 3*x2 + noise\n",
    "\n",
    "fig = plt.figure(figsize = (10, 8))\n",
    "ax = fig.add_subplot(1, 1, 1, projection = '3d')\n",
    "ax.set_title('Generated Data', fontsize = 15)\n",
    "ax.set_xlabel('$X_1$', fontsize = 15)\n",
    "ax.set_ylabel('$X_2$', fontsize = 15)\n",
    "ax.set_zlabel('Y', fontsize = 15)\n",
    "ax.scatter(x1, x2, y, marker = '.', label = 'Data')\n",
    "#ax.view_init(30,30)\n",
    "plt.legend(fontsize = 15)\n",
    "plt.show()"
   ]
  },
  {
   "cell_type": "code",
   "execution_count": null,
   "metadata": {
    "ExecuteTime": {
     "end_time": "2020-01-23T08:07:15.342873Z",
     "start_time": "2020-01-23T08:07:12.366Z"
    }
   },
   "outputs": [],
   "source": [
    "A = np.hstack([np.ones((n, 1)), x1, x2])\n",
    "A = np.asmatrix(A)\n",
    "theta = (A.T*A).I*A.T*y\n",
    "\n",
    "X1, X2 = np.meshgrid(np.arange(np.min(x1), np.max(x1), 0.5), \n",
    "                     np.arange(np.min(x2), np.max(x2), 0.5))\n",
    "YP = theta[0,0] + theta[1,0]*X1 + theta[2,0]*X2\n",
    "\n",
    "fig = plt.figure(figsize = (10, 8))\n",
    "ax = fig.add_subplot(1, 1, 1, projection = '3d')\n",
    "ax.set_title('Regression', fontsize = 15)\n",
    "ax.set_xlabel('$X_1$', fontsize = 15)\n",
    "ax.set_ylabel('$X_2$', fontsize = 15)\n",
    "ax.set_zlabel('Y', fontsize = 15)\n",
    "ax.scatter(x1, x2, y, marker = '.', label = 'Data')\n",
    "ax.plot_wireframe(X1, X2, YP, color = 'k', alpha = 0.3, label = 'Regression Plane')\n",
    "#ax.view_init(30,30)\n",
    "plt.legend(fontsize = 15)\n",
    "plt.show()"
   ]
  },
  {
   "cell_type": "code",
   "execution_count": 16,
   "metadata": {
    "ExecuteTime": {
     "end_time": "2020-01-23T08:07:38.897888Z",
     "start_time": "2020-01-23T08:07:38.326921Z"
    }
   },
   "outputs": [],
   "source": [
    "import pandas as pd \n",
    "import numpy as np\n",
    "import seaborn as sns\n",
    "import matplotlib.pyplot as plt"
   ]
  },
  {
   "cell_type": "code",
   "execution_count": 17,
   "metadata": {
    "ExecuteTime": {
     "end_time": "2020-01-23T08:07:39.144037Z",
     "start_time": "2020-01-23T08:07:38.899557Z"
    }
   },
   "outputs": [
    {
     "data": {
      "text/html": [
       "<div>\n",
       "<style scoped>\n",
       "    .dataframe tbody tr th:only-of-type {\n",
       "        vertical-align: middle;\n",
       "    }\n",
       "\n",
       "    .dataframe tbody tr th {\n",
       "        vertical-align: top;\n",
       "    }\n",
       "\n",
       "    .dataframe thead th {\n",
       "        text-align: right;\n",
       "    }\n",
       "</style>\n",
       "<table border=\"1\" class=\"dataframe\">\n",
       "  <thead>\n",
       "    <tr style=\"text-align: right;\">\n",
       "      <th></th>\n",
       "      <th>Formatted Date</th>\n",
       "      <th>Summary</th>\n",
       "      <th>Precip Type</th>\n",
       "      <th>Temperature (C)</th>\n",
       "      <th>Apparent Temperature (C)</th>\n",
       "      <th>Humidity</th>\n",
       "      <th>Wind Speed (km/h)</th>\n",
       "      <th>Wind Bearing (degrees)</th>\n",
       "      <th>Visibility (km)</th>\n",
       "      <th>Loud Cover</th>\n",
       "      <th>Pressure (millibars)</th>\n",
       "      <th>Daily Summary</th>\n",
       "    </tr>\n",
       "  </thead>\n",
       "  <tbody>\n",
       "    <tr>\n",
       "      <td>0</td>\n",
       "      <td>2006-04-01 00:00:00.000 +0200</td>\n",
       "      <td>Partly Cloudy</td>\n",
       "      <td>rain</td>\n",
       "      <td>9.472222</td>\n",
       "      <td>7.388889</td>\n",
       "      <td>0.89</td>\n",
       "      <td>14.1197</td>\n",
       "      <td>251.0</td>\n",
       "      <td>15.8263</td>\n",
       "      <td>0.0</td>\n",
       "      <td>1015.13</td>\n",
       "      <td>Partly cloudy throughout the day.</td>\n",
       "    </tr>\n",
       "    <tr>\n",
       "      <td>1</td>\n",
       "      <td>2006-04-01 01:00:00.000 +0200</td>\n",
       "      <td>Partly Cloudy</td>\n",
       "      <td>rain</td>\n",
       "      <td>9.355556</td>\n",
       "      <td>7.227778</td>\n",
       "      <td>0.86</td>\n",
       "      <td>14.2646</td>\n",
       "      <td>259.0</td>\n",
       "      <td>15.8263</td>\n",
       "      <td>0.0</td>\n",
       "      <td>1015.63</td>\n",
       "      <td>Partly cloudy throughout the day.</td>\n",
       "    </tr>\n",
       "    <tr>\n",
       "      <td>2</td>\n",
       "      <td>2006-04-01 02:00:00.000 +0200</td>\n",
       "      <td>Mostly Cloudy</td>\n",
       "      <td>rain</td>\n",
       "      <td>9.377778</td>\n",
       "      <td>9.377778</td>\n",
       "      <td>0.89</td>\n",
       "      <td>3.9284</td>\n",
       "      <td>204.0</td>\n",
       "      <td>14.9569</td>\n",
       "      <td>0.0</td>\n",
       "      <td>1015.94</td>\n",
       "      <td>Partly cloudy throughout the day.</td>\n",
       "    </tr>\n",
       "    <tr>\n",
       "      <td>3</td>\n",
       "      <td>2006-04-01 03:00:00.000 +0200</td>\n",
       "      <td>Partly Cloudy</td>\n",
       "      <td>rain</td>\n",
       "      <td>8.288889</td>\n",
       "      <td>5.944444</td>\n",
       "      <td>0.83</td>\n",
       "      <td>14.1036</td>\n",
       "      <td>269.0</td>\n",
       "      <td>15.8263</td>\n",
       "      <td>0.0</td>\n",
       "      <td>1016.41</td>\n",
       "      <td>Partly cloudy throughout the day.</td>\n",
       "    </tr>\n",
       "    <tr>\n",
       "      <td>4</td>\n",
       "      <td>2006-04-01 04:00:00.000 +0200</td>\n",
       "      <td>Mostly Cloudy</td>\n",
       "      <td>rain</td>\n",
       "      <td>8.755556</td>\n",
       "      <td>6.977778</td>\n",
       "      <td>0.83</td>\n",
       "      <td>11.0446</td>\n",
       "      <td>259.0</td>\n",
       "      <td>15.8263</td>\n",
       "      <td>0.0</td>\n",
       "      <td>1016.51</td>\n",
       "      <td>Partly cloudy throughout the day.</td>\n",
       "    </tr>\n",
       "    <tr>\n",
       "      <td>...</td>\n",
       "      <td>...</td>\n",
       "      <td>...</td>\n",
       "      <td>...</td>\n",
       "      <td>...</td>\n",
       "      <td>...</td>\n",
       "      <td>...</td>\n",
       "      <td>...</td>\n",
       "      <td>...</td>\n",
       "      <td>...</td>\n",
       "      <td>...</td>\n",
       "      <td>...</td>\n",
       "      <td>...</td>\n",
       "    </tr>\n",
       "    <tr>\n",
       "      <td>96448</td>\n",
       "      <td>2016-09-09 19:00:00.000 +0200</td>\n",
       "      <td>Partly Cloudy</td>\n",
       "      <td>rain</td>\n",
       "      <td>26.016667</td>\n",
       "      <td>26.016667</td>\n",
       "      <td>0.43</td>\n",
       "      <td>10.9963</td>\n",
       "      <td>31.0</td>\n",
       "      <td>16.1000</td>\n",
       "      <td>0.0</td>\n",
       "      <td>1014.36</td>\n",
       "      <td>Partly cloudy starting in the morning.</td>\n",
       "    </tr>\n",
       "    <tr>\n",
       "      <td>96449</td>\n",
       "      <td>2016-09-09 20:00:00.000 +0200</td>\n",
       "      <td>Partly Cloudy</td>\n",
       "      <td>rain</td>\n",
       "      <td>24.583333</td>\n",
       "      <td>24.583333</td>\n",
       "      <td>0.48</td>\n",
       "      <td>10.0947</td>\n",
       "      <td>20.0</td>\n",
       "      <td>15.5526</td>\n",
       "      <td>0.0</td>\n",
       "      <td>1015.16</td>\n",
       "      <td>Partly cloudy starting in the morning.</td>\n",
       "    </tr>\n",
       "    <tr>\n",
       "      <td>96450</td>\n",
       "      <td>2016-09-09 21:00:00.000 +0200</td>\n",
       "      <td>Partly Cloudy</td>\n",
       "      <td>rain</td>\n",
       "      <td>22.038889</td>\n",
       "      <td>22.038889</td>\n",
       "      <td>0.56</td>\n",
       "      <td>8.9838</td>\n",
       "      <td>30.0</td>\n",
       "      <td>16.1000</td>\n",
       "      <td>0.0</td>\n",
       "      <td>1015.66</td>\n",
       "      <td>Partly cloudy starting in the morning.</td>\n",
       "    </tr>\n",
       "    <tr>\n",
       "      <td>96451</td>\n",
       "      <td>2016-09-09 22:00:00.000 +0200</td>\n",
       "      <td>Partly Cloudy</td>\n",
       "      <td>rain</td>\n",
       "      <td>21.522222</td>\n",
       "      <td>21.522222</td>\n",
       "      <td>0.60</td>\n",
       "      <td>10.5294</td>\n",
       "      <td>20.0</td>\n",
       "      <td>16.1000</td>\n",
       "      <td>0.0</td>\n",
       "      <td>1015.95</td>\n",
       "      <td>Partly cloudy starting in the morning.</td>\n",
       "    </tr>\n",
       "    <tr>\n",
       "      <td>96452</td>\n",
       "      <td>2016-09-09 23:00:00.000 +0200</td>\n",
       "      <td>Partly Cloudy</td>\n",
       "      <td>rain</td>\n",
       "      <td>20.438889</td>\n",
       "      <td>20.438889</td>\n",
       "      <td>0.61</td>\n",
       "      <td>5.8765</td>\n",
       "      <td>39.0</td>\n",
       "      <td>15.5204</td>\n",
       "      <td>0.0</td>\n",
       "      <td>1016.16</td>\n",
       "      <td>Partly cloudy starting in the morning.</td>\n",
       "    </tr>\n",
       "  </tbody>\n",
       "</table>\n",
       "<p>96453 rows × 12 columns</p>\n",
       "</div>"
      ],
      "text/plain": [
       "                      Formatted Date        Summary Precip Type  \\\n",
       "0      2006-04-01 00:00:00.000 +0200  Partly Cloudy        rain   \n",
       "1      2006-04-01 01:00:00.000 +0200  Partly Cloudy        rain   \n",
       "2      2006-04-01 02:00:00.000 +0200  Mostly Cloudy        rain   \n",
       "3      2006-04-01 03:00:00.000 +0200  Partly Cloudy        rain   \n",
       "4      2006-04-01 04:00:00.000 +0200  Mostly Cloudy        rain   \n",
       "...                              ...            ...         ...   \n",
       "96448  2016-09-09 19:00:00.000 +0200  Partly Cloudy        rain   \n",
       "96449  2016-09-09 20:00:00.000 +0200  Partly Cloudy        rain   \n",
       "96450  2016-09-09 21:00:00.000 +0200  Partly Cloudy        rain   \n",
       "96451  2016-09-09 22:00:00.000 +0200  Partly Cloudy        rain   \n",
       "96452  2016-09-09 23:00:00.000 +0200  Partly Cloudy        rain   \n",
       "\n",
       "       Temperature (C)  Apparent Temperature (C)  Humidity  Wind Speed (km/h)  \\\n",
       "0             9.472222                  7.388889      0.89            14.1197   \n",
       "1             9.355556                  7.227778      0.86            14.2646   \n",
       "2             9.377778                  9.377778      0.89             3.9284   \n",
       "3             8.288889                  5.944444      0.83            14.1036   \n",
       "4             8.755556                  6.977778      0.83            11.0446   \n",
       "...                ...                       ...       ...                ...   \n",
       "96448        26.016667                 26.016667      0.43            10.9963   \n",
       "96449        24.583333                 24.583333      0.48            10.0947   \n",
       "96450        22.038889                 22.038889      0.56             8.9838   \n",
       "96451        21.522222                 21.522222      0.60            10.5294   \n",
       "96452        20.438889                 20.438889      0.61             5.8765   \n",
       "\n",
       "       Wind Bearing (degrees)  Visibility (km)  Loud Cover  \\\n",
       "0                       251.0          15.8263         0.0   \n",
       "1                       259.0          15.8263         0.0   \n",
       "2                       204.0          14.9569         0.0   \n",
       "3                       269.0          15.8263         0.0   \n",
       "4                       259.0          15.8263         0.0   \n",
       "...                       ...              ...         ...   \n",
       "96448                    31.0          16.1000         0.0   \n",
       "96449                    20.0          15.5526         0.0   \n",
       "96450                    30.0          16.1000         0.0   \n",
       "96451                    20.0          16.1000         0.0   \n",
       "96452                    39.0          15.5204         0.0   \n",
       "\n",
       "       Pressure (millibars)                           Daily Summary  \n",
       "0                   1015.13       Partly cloudy throughout the day.  \n",
       "1                   1015.63       Partly cloudy throughout the day.  \n",
       "2                   1015.94       Partly cloudy throughout the day.  \n",
       "3                   1016.41       Partly cloudy throughout the day.  \n",
       "4                   1016.51       Partly cloudy throughout the day.  \n",
       "...                     ...                                     ...  \n",
       "96448               1014.36  Partly cloudy starting in the morning.  \n",
       "96449               1015.16  Partly cloudy starting in the morning.  \n",
       "96450               1015.66  Partly cloudy starting in the morning.  \n",
       "96451               1015.95  Partly cloudy starting in the morning.  \n",
       "96452               1016.16  Partly cloudy starting in the morning.  \n",
       "\n",
       "[96453 rows x 12 columns]"
      ]
     },
     "execution_count": 17,
     "metadata": {},
     "output_type": "execute_result"
    }
   ],
   "source": [
    "xlsx_path = './weatherHistory.csv'\n",
    "weather_data_csv = pd.read_csv(xlsx_path)\n",
    "\n",
    "weather_data_csv"
   ]
  },
  {
   "cell_type": "code",
   "execution_count": 18,
   "metadata": {
    "ExecuteTime": {
     "end_time": "2020-01-23T08:07:39.177030Z",
     "start_time": "2020-01-23T08:07:39.145487Z"
    }
   },
   "outputs": [
    {
     "name": "stdout",
     "output_type": "stream",
     "text": [
      "cols :  ['Temperature (C)', 'Apparent Temperature (C)', 'Humidity', 'Wind Speed (km/h)', 'Wind Bearing (degrees)', 'Visibility (km)', 'Pressure (millibars)']\n"
     ]
    },
    {
     "data": {
      "text/html": [
       "<div>\n",
       "<style scoped>\n",
       "    .dataframe tbody tr th:only-of-type {\n",
       "        vertical-align: middle;\n",
       "    }\n",
       "\n",
       "    .dataframe tbody tr th {\n",
       "        vertical-align: top;\n",
       "    }\n",
       "\n",
       "    .dataframe thead th {\n",
       "        text-align: right;\n",
       "    }\n",
       "</style>\n",
       "<table border=\"1\" class=\"dataframe\">\n",
       "  <thead>\n",
       "    <tr style=\"text-align: right;\">\n",
       "      <th></th>\n",
       "      <th>Temperature (C)</th>\n",
       "      <th>Humidity</th>\n",
       "      <th>Wind Speed (km/h)</th>\n",
       "      <th>Wind Bearing (degrees)</th>\n",
       "      <th>Visibility (km)</th>\n",
       "      <th>Pressure (millibars)</th>\n",
       "      <th>Apparent Temperature (C)</th>\n",
       "    </tr>\n",
       "  </thead>\n",
       "  <tbody>\n",
       "    <tr>\n",
       "      <td>0</td>\n",
       "      <td>9.472222</td>\n",
       "      <td>0.89</td>\n",
       "      <td>14.1197</td>\n",
       "      <td>251.0</td>\n",
       "      <td>15.8263</td>\n",
       "      <td>1015.13</td>\n",
       "      <td>7.388889</td>\n",
       "    </tr>\n",
       "    <tr>\n",
       "      <td>1</td>\n",
       "      <td>9.355556</td>\n",
       "      <td>0.86</td>\n",
       "      <td>14.2646</td>\n",
       "      <td>259.0</td>\n",
       "      <td>15.8263</td>\n",
       "      <td>1015.63</td>\n",
       "      <td>7.227778</td>\n",
       "    </tr>\n",
       "    <tr>\n",
       "      <td>2</td>\n",
       "      <td>9.377778</td>\n",
       "      <td>0.89</td>\n",
       "      <td>3.9284</td>\n",
       "      <td>204.0</td>\n",
       "      <td>14.9569</td>\n",
       "      <td>1015.94</td>\n",
       "      <td>9.377778</td>\n",
       "    </tr>\n",
       "    <tr>\n",
       "      <td>3</td>\n",
       "      <td>8.288889</td>\n",
       "      <td>0.83</td>\n",
       "      <td>14.1036</td>\n",
       "      <td>269.0</td>\n",
       "      <td>15.8263</td>\n",
       "      <td>1016.41</td>\n",
       "      <td>5.944444</td>\n",
       "    </tr>\n",
       "    <tr>\n",
       "      <td>4</td>\n",
       "      <td>8.755556</td>\n",
       "      <td>0.83</td>\n",
       "      <td>11.0446</td>\n",
       "      <td>259.0</td>\n",
       "      <td>15.8263</td>\n",
       "      <td>1016.51</td>\n",
       "      <td>6.977778</td>\n",
       "    </tr>\n",
       "    <tr>\n",
       "      <td>...</td>\n",
       "      <td>...</td>\n",
       "      <td>...</td>\n",
       "      <td>...</td>\n",
       "      <td>...</td>\n",
       "      <td>...</td>\n",
       "      <td>...</td>\n",
       "      <td>...</td>\n",
       "    </tr>\n",
       "    <tr>\n",
       "      <td>96448</td>\n",
       "      <td>26.016667</td>\n",
       "      <td>0.43</td>\n",
       "      <td>10.9963</td>\n",
       "      <td>31.0</td>\n",
       "      <td>16.1000</td>\n",
       "      <td>1014.36</td>\n",
       "      <td>26.016667</td>\n",
       "    </tr>\n",
       "    <tr>\n",
       "      <td>96449</td>\n",
       "      <td>24.583333</td>\n",
       "      <td>0.48</td>\n",
       "      <td>10.0947</td>\n",
       "      <td>20.0</td>\n",
       "      <td>15.5526</td>\n",
       "      <td>1015.16</td>\n",
       "      <td>24.583333</td>\n",
       "    </tr>\n",
       "    <tr>\n",
       "      <td>96450</td>\n",
       "      <td>22.038889</td>\n",
       "      <td>0.56</td>\n",
       "      <td>8.9838</td>\n",
       "      <td>30.0</td>\n",
       "      <td>16.1000</td>\n",
       "      <td>1015.66</td>\n",
       "      <td>22.038889</td>\n",
       "    </tr>\n",
       "    <tr>\n",
       "      <td>96451</td>\n",
       "      <td>21.522222</td>\n",
       "      <td>0.60</td>\n",
       "      <td>10.5294</td>\n",
       "      <td>20.0</td>\n",
       "      <td>16.1000</td>\n",
       "      <td>1015.95</td>\n",
       "      <td>21.522222</td>\n",
       "    </tr>\n",
       "    <tr>\n",
       "      <td>96452</td>\n",
       "      <td>20.438889</td>\n",
       "      <td>0.61</td>\n",
       "      <td>5.8765</td>\n",
       "      <td>39.0</td>\n",
       "      <td>15.5204</td>\n",
       "      <td>1016.16</td>\n",
       "      <td>20.438889</td>\n",
       "    </tr>\n",
       "  </tbody>\n",
       "</table>\n",
       "<p>96453 rows × 7 columns</p>\n",
       "</div>"
      ],
      "text/plain": [
       "       Temperature (C)  Humidity  Wind Speed (km/h)  Wind Bearing (degrees)  \\\n",
       "0             9.472222      0.89            14.1197                   251.0   \n",
       "1             9.355556      0.86            14.2646                   259.0   \n",
       "2             9.377778      0.89             3.9284                   204.0   \n",
       "3             8.288889      0.83            14.1036                   269.0   \n",
       "4             8.755556      0.83            11.0446                   259.0   \n",
       "...                ...       ...                ...                     ...   \n",
       "96448        26.016667      0.43            10.9963                    31.0   \n",
       "96449        24.583333      0.48            10.0947                    20.0   \n",
       "96450        22.038889      0.56             8.9838                    30.0   \n",
       "96451        21.522222      0.60            10.5294                    20.0   \n",
       "96452        20.438889      0.61             5.8765                    39.0   \n",
       "\n",
       "       Visibility (km)  Pressure (millibars)  Apparent Temperature (C)  \n",
       "0              15.8263               1015.13                  7.388889  \n",
       "1              15.8263               1015.63                  7.227778  \n",
       "2              14.9569               1015.94                  9.377778  \n",
       "3              15.8263               1016.41                  5.944444  \n",
       "4              15.8263               1016.51                  6.977778  \n",
       "...                ...                   ...                       ...  \n",
       "96448          16.1000               1014.36                 26.016667  \n",
       "96449          15.5526               1015.16                 24.583333  \n",
       "96450          16.1000               1015.66                 22.038889  \n",
       "96451          16.1000               1015.95                 21.522222  \n",
       "96452          15.5204               1016.16                 20.438889  \n",
       "\n",
       "[96453 rows x 7 columns]"
      ]
     },
     "execution_count": 18,
     "metadata": {},
     "output_type": "execute_result"
    }
   ],
   "source": [
    "# Data Drop\n",
    "weather_data = weather_data_csv.drop(['Formatted Date', 'Summary', 'Precip Type', 'Loud Cover', 'Daily Summary'], axis = 1)\n",
    "\n",
    "# Column rearrange\n",
    "cols = list(weather_data.columns.values)\n",
    "print(\"cols : \", cols)\n",
    "\n",
    "output_column = cols[1]\n",
    "cols.pop(1)\n",
    "cols.append(output_column)\n",
    "\n",
    "weather_data = weather_data[cols]\n",
    "weather_data"
   ]
  },
  {
   "cell_type": "code",
   "execution_count": 19,
   "metadata": {
    "ExecuteTime": {
     "end_time": "2020-01-23T08:07:39.750223Z",
     "start_time": "2020-01-23T08:07:39.179428Z"
    }
   },
   "outputs": [
    {
     "name": "stdout",
     "output_type": "stream",
     "text": [
      "[    0     1     2 ... 96450 96451 96452]\n"
     ]
    },
    {
     "data": {
      "text/plain": [
       "[<matplotlib.lines.Line2D at 0x7fcf63332550>]"
      ]
     },
     "execution_count": 19,
     "metadata": {},
     "output_type": "execute_result"
    },
    {
     "data": {
      "image/png": "[encoded data removed]",
      "text/plain": [
       "<Figure size 720x576 with 1 Axes>"
      ]
     },
     "metadata": {
      "needs_background": "light"
     },
     "output_type": "display_data"
    }
   ],
   "source": [
    "x_axis = np.arange(0, len(weather_data['Apparent Temperature (C)']), 1);\n",
    "print(x_axis)\n",
    "\n",
    "plt.figure(figsize = (10, 8))\n",
    "plt.title(\"Apparent Temp\", fontsize = 15)\n",
    "plt.plot(x_axis, weather_data['Apparent Temperature (C)'])"
   ]
  },
  {
   "cell_type": "code",
   "execution_count": 20,
   "metadata": {
    "ExecuteTime": {
     "end_time": "2020-01-23T08:07:39.796774Z",
     "start_time": "2020-01-23T08:07:39.751594Z"
    }
   },
   "outputs": [
    {
     "data": {
      "text/html": [
       "<div>\n",
       "<style scoped>\n",
       "    .dataframe tbody tr th:only-of-type {\n",
       "        vertical-align: middle;\n",
       "    }\n",
       "\n",
       "    .dataframe tbody tr th {\n",
       "        vertical-align: top;\n",
       "    }\n",
       "\n",
       "    .dataframe thead th {\n",
       "        text-align: right;\n",
       "    }\n",
       "</style>\n",
       "<table border=\"1\" class=\"dataframe\">\n",
       "  <thead>\n",
       "    <tr style=\"text-align: right;\">\n",
       "      <th></th>\n",
       "      <th>Temperature (C)</th>\n",
       "      <th>Humidity</th>\n",
       "      <th>Wind Speed (km/h)</th>\n",
       "      <th>Wind Bearing (degrees)</th>\n",
       "      <th>Visibility (km)</th>\n",
       "      <th>Pressure (millibars)</th>\n",
       "      <th>Apparent Temperature (C)</th>\n",
       "    </tr>\n",
       "  </thead>\n",
       "  <tbody>\n",
       "    <tr>\n",
       "      <td>54864</td>\n",
       "      <td>-20.000000</td>\n",
       "      <td>0.78</td>\n",
       "      <td>11.2700</td>\n",
       "      <td>20.0</td>\n",
       "      <td>0.0000</td>\n",
       "      <td>1033.30</td>\n",
       "      <td>-27.716667</td>\n",
       "    </tr>\n",
       "    <tr>\n",
       "      <td>54845</td>\n",
       "      <td>-20.000000</td>\n",
       "      <td>0.82</td>\n",
       "      <td>8.0500</td>\n",
       "      <td>340.0</td>\n",
       "      <td>1.4490</td>\n",
       "      <td>1032.60</td>\n",
       "      <td>-26.227778</td>\n",
       "    </tr>\n",
       "    <tr>\n",
       "      <td>54866</td>\n",
       "      <td>-20.555556</td>\n",
       "      <td>0.78</td>\n",
       "      <td>6.4400</td>\n",
       "      <td>30.0</td>\n",
       "      <td>1.4490</td>\n",
       "      <td>1032.10</td>\n",
       "      <td>-25.922222</td>\n",
       "    </tr>\n",
       "    <tr>\n",
       "      <td>55489</td>\n",
       "      <td>-20.050000</td>\n",
       "      <td>0.78</td>\n",
       "      <td>6.2146</td>\n",
       "      <td>170.0</td>\n",
       "      <td>1.7066</td>\n",
       "      <td>1034.74</td>\n",
       "      <td>-25.200000</td>\n",
       "    </tr>\n",
       "    <tr>\n",
       "      <td>55492</td>\n",
       "      <td>-20.277778</td>\n",
       "      <td>0.79</td>\n",
       "      <td>5.6672</td>\n",
       "      <td>158.0</td>\n",
       "      <td>1.8032</td>\n",
       "      <td>1033.53</td>\n",
       "      <td>-25.072222</td>\n",
       "    </tr>\n",
       "    <tr>\n",
       "      <td>...</td>\n",
       "      <td>...</td>\n",
       "      <td>...</td>\n",
       "      <td>...</td>\n",
       "      <td>...</td>\n",
       "      <td>...</td>\n",
       "      <td>...</td>\n",
       "      <td>...</td>\n",
       "    </tr>\n",
       "    <tr>\n",
       "      <td>65534</td>\n",
       "      <td>37.072222</td>\n",
       "      <td>0.31</td>\n",
       "      <td>15.1501</td>\n",
       "      <td>205.0</td>\n",
       "      <td>10.3523</td>\n",
       "      <td>1012.63</td>\n",
       "      <td>38.255556</td>\n",
       "    </tr>\n",
       "    <tr>\n",
       "      <td>9903</td>\n",
       "      <td>36.972222</td>\n",
       "      <td>0.32</td>\n",
       "      <td>10.5294</td>\n",
       "      <td>224.0</td>\n",
       "      <td>9.9820</td>\n",
       "      <td>1018.76</td>\n",
       "      <td>38.377778</td>\n",
       "    </tr>\n",
       "    <tr>\n",
       "      <td>65535</td>\n",
       "      <td>37.872222</td>\n",
       "      <td>0.27</td>\n",
       "      <td>15.7136</td>\n",
       "      <td>212.0</td>\n",
       "      <td>9.9820</td>\n",
       "      <td>1011.88</td>\n",
       "      <td>38.416667</td>\n",
       "    </tr>\n",
       "    <tr>\n",
       "      <td>65533</td>\n",
       "      <td>37.266667</td>\n",
       "      <td>0.32</td>\n",
       "      <td>13.7494</td>\n",
       "      <td>175.0</td>\n",
       "      <td>9.9820</td>\n",
       "      <td>1013.15</td>\n",
       "      <td>38.661111</td>\n",
       "    </tr>\n",
       "    <tr>\n",
       "      <td>66111</td>\n",
       "      <td>34.955556</td>\n",
       "      <td>0.47</td>\n",
       "      <td>12.3970</td>\n",
       "      <td>213.0</td>\n",
       "      <td>11.2700</td>\n",
       "      <td>1011.12</td>\n",
       "      <td>39.344444</td>\n",
       "    </tr>\n",
       "  </tbody>\n",
       "</table>\n",
       "<p>96453 rows × 7 columns</p>\n",
       "</div>"
      ],
      "text/plain": [
       "       Temperature (C)  Humidity  Wind Speed (km/h)  Wind Bearing (degrees)  \\\n",
       "54864       -20.000000      0.78            11.2700                    20.0   \n",
       "54845       -20.000000      0.82             8.0500                   340.0   \n",
       "54866       -20.555556      0.78             6.4400                    30.0   \n",
       "55489       -20.050000      0.78             6.2146                   170.0   \n",
       "55492       -20.277778      0.79             5.6672                   158.0   \n",
       "...                ...       ...                ...                     ...   \n",
       "65534        37.072222      0.31            15.1501                   205.0   \n",
       "9903         36.972222      0.32            10.5294                   224.0   \n",
       "65535        37.872222      0.27            15.7136                   212.0   \n",
       "65533        37.266667      0.32            13.7494                   175.0   \n",
       "66111        34.955556      0.47            12.3970                   213.0   \n",
       "\n",
       "       Visibility (km)  Pressure (millibars)  Apparent Temperature (C)  \n",
       "54864           0.0000               1033.30                -27.716667  \n",
       "54845           1.4490               1032.60                -26.227778  \n",
       "54866           1.4490               1032.10                -25.922222  \n",
       "55489           1.7066               1034.74                -25.200000  \n",
       "55492           1.8032               1033.53                -25.072222  \n",
       "...                ...                   ...                       ...  \n",
       "65534          10.3523               1012.63                 38.255556  \n",
       "9903            9.9820               1018.76                 38.377778  \n",
       "65535           9.9820               1011.88                 38.416667  \n",
       "65533           9.9820               1013.15                 38.661111  \n",
       "66111          11.2700               1011.12                 39.344444  \n",
       "\n",
       "[96453 rows x 7 columns]"
      ]
     },
     "execution_count": 20,
     "metadata": {},
     "output_type": "execute_result"
    }
   ],
   "source": [
    "# Data sort\n",
    "weather_data = weather_data.sort_values(by = 'Apparent Temperature (C)', axis = 0)\n",
    "weather_data"
   ]
  },
  {
   "cell_type": "code",
   "execution_count": 21,
   "metadata": {
    "ExecuteTime": {
     "end_time": "2020-01-23T08:07:40.177601Z",
     "start_time": "2020-01-23T08:07:39.798366Z"
    }
   },
   "outputs": [
    {
     "data": {
      "text/plain": [
       "[<matplotlib.lines.Line2D at 0x7fcf631e8ad0>]"
      ]
     },
     "execution_count": 21,
     "metadata": {},
     "output_type": "execute_result"
    },
    {
     "data": {
      "image/png": "[encoded data removed]",
      "text/plain": [
       "<Figure size 720x576 with 1 Axes>"
      ]
     },
     "metadata": {
      "needs_background": "light"
     },
     "output_type": "display_data"
    }
   ],
   "source": [
    "plt.figure(figsize = (10, 8))\n",
    "plt.title(\"Apparent Temp\", fontsize = 15)\n",
    "plt.xlabel('Data index', fontsize = 15)\n",
    "plt.ylabel('Apparent Temperature', fontsize = 15)\n",
    "plt.plot(x_axis, weather_data['Apparent Temperature (C)'], 'o', markersize = 1)"
   ]
  },
  {
   "cell_type": "code",
   "execution_count": 22,
   "metadata": {
    "ExecuteTime": {
     "end_time": "2020-01-23T08:07:40.396994Z",
     "start_time": "2020-01-23T08:07:40.387630Z"
    }
   },
   "outputs": [
    {
     "data": {
      "text/plain": [
       "(96453, 7)"
      ]
     },
     "execution_count": 22,
     "metadata": {},
     "output_type": "execute_result"
    }
   ],
   "source": [
    "inout_data = weather_data.values\n",
    "\n",
    "inout_data.shape"
   ]
  },
  {
   "cell_type": "code",
   "execution_count": 23,
   "metadata": {
    "ExecuteTime": {
     "end_time": "2020-01-23T08:07:41.261821Z",
     "start_time": "2020-01-23T08:07:41.251886Z"
    }
   },
   "outputs": [
    {
     "name": "stdout",
     "output_type": "stream",
     "text": [
      "(96453, 6)\n",
      "(96453, 1)\n"
     ]
    }
   ],
   "source": [
    "input_data = inout_data[:, 0:-1]\n",
    "output_data = inout_data[:, -1].reshape([-1, 1])\n",
    "\n",
    "print(input_data.shape)\n",
    "print(output_data.shape)"
   ]
  },
  {
   "cell_type": "code",
   "execution_count": 25,
   "metadata": {
    "ExecuteTime": {
     "end_time": "2020-01-23T08:12:17.012987Z",
     "start_time": "2020-01-23T08:12:16.378220Z"
    }
   },
   "outputs": [
    {
     "data": {
      "image/png": "[encoded data removed]",
      "text/plain": [
       "<Figure size 720x576 with 1 Axes>"
      ]
     },
     "metadata": {
      "needs_background": "light"
     },
     "output_type": "display_data"
    }
   ],
   "source": [
    "#Least Square\n",
    "input_data_matrix = np.asmatrix(input_data)\n",
    "\n",
    "theta = (input_data_matrix.T*input_data_matrix).I*input_data_matrix.T*output_data\n",
    "\n",
    "y_hat = input_data_matrix*theta\n",
    "\n",
    "plt.figure(figsize = (10, 8))\n",
    "plt.title('Linear Algebra', fontsize = 15)\n",
    "plt.xlabel('Data index', fontsize = 15)\n",
    "plt.ylabel('Temperature', fontsize = 15)\n",
    "plt.plot(y_hat, 'o', markersize = 1, label = 'Prediction')\n",
    "plt.plot(output_data, 'o', markersize = 1, label = 'Real')\n",
    "plt.legend(fontsize = 15, markerscale=10)\n",
    "plt.show()"
   ]
  },
  {
   "cell_type": "code",
   "execution_count": null,
   "metadata": {},
   "outputs": [],
   "source": [
    "# Gradient Descent\n",
    "input_data_matrix = np.asmatrix(input_data)\n",
    "\n",
    "theta = np.random.randn(6, 1)\n",
    "theta = np.asmatrix(theta)\n",
    "\n",
    "print(\"initial theta : \", theta.reshape([1, -1]))\n",
    "\n",
    "# step size\n",
    "alpha_init = 0.000000000001\n",
    "\n",
    "#Find the theta using Gradient Descent\n",
    "for _ in range(100000):\n",
    "    df = \n",
    "    \n",
    "print(\"fitted theta : \", theta.reshape([1, -1]))"
   ]
  }
 ],
 "metadata": {
  "kernelspec": {
   "display_name": "Python 3",
   "language": "python",
   "name": "python3"
  },
  "language_info": {
   "codemirror_mode": {
    "name": "ipython",
    "version": 3
   },
   "file_extension": ".py",
   "mimetype": "text/x-python",
   "name": "python",
   "nbconvert_exporter": "python",
   "pygments_lexer": "ipython3",
   "version": "3.7.4"
  }
 },
 "nbformat": 4,
 "nbformat_minor": 2
}

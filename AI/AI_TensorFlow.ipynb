{
 "cells": [
  {
   "cell_type": "code",
   "execution_count": 1,
   "metadata": {
    "ExecuteTime": {
     "end_time": "2020-01-29T02:24:33.032893Z",
     "start_time": "2020-01-29T02:24:26.957790Z"
    }
   },
   "outputs": [],
   "source": [
    "import tensorflow as tf\n",
    "\n",
    "a = tf.constant([1,2,3])\n",
    "b = tf.constant(4, shape=[1,3])\n",
    "\n",
    "A = a + b\n",
    "B = a*b"
   ]
  },
  {
   "cell_type": "code",
   "execution_count": 2,
   "metadata": {
    "ExecuteTime": {
     "end_time": "2020-01-29T02:24:33.057625Z",
     "start_time": "2020-01-29T02:24:33.038517Z"
    }
   },
   "outputs": [
    {
     "data": {
      "text/plain": [
       "<tf.Tensor 'add:0' shape=(1, 3) dtype=int32>"
      ]
     },
     "execution_count": 2,
     "metadata": {},
     "output_type": "execute_result"
    }
   ],
   "source": [
    "A"
   ]
  },
  {
   "cell_type": "code",
   "execution_count": 3,
   "metadata": {
    "ExecuteTime": {
     "end_time": "2020-01-29T02:24:33.291371Z",
     "start_time": "2020-01-29T02:24:33.060051Z"
    }
   },
   "outputs": [
    {
     "data": {
      "text/plain": [
       "<tf.Tensor 'mul:0' shape=(1, 3) dtype=int32>"
      ]
     },
     "execution_count": 3,
     "metadata": {},
     "output_type": "execute_result"
    }
   ],
   "source": [
    "B"
   ]
  },
  {
   "cell_type": "code",
   "execution_count": 5,
   "metadata": {
    "ExecuteTime": {
     "end_time": "2020-01-29T02:24:40.227929Z",
     "start_time": "2020-01-29T02:24:39.117263Z"
    }
   },
   "outputs": [
    {
     "data": {
      "text/plain": [
       "array([[5, 6, 7]], dtype=int32)"
      ]
     },
     "execution_count": 5,
     "metadata": {},
     "output_type": "execute_result"
    }
   ],
   "source": [
    "sess = tf.Session()\n",
    "sess.run(A)"
   ]
  },
  {
   "cell_type": "code",
   "execution_count": 6,
   "metadata": {
    "ExecuteTime": {
     "end_time": "2020-01-29T02:24:43.517489Z",
     "start_time": "2020-01-29T02:24:43.466401Z"
    }
   },
   "outputs": [
    {
     "data": {
      "text/plain": [
       "array([[ 4,  8, 12]], dtype=int32)"
      ]
     },
     "execution_count": 6,
     "metadata": {},
     "output_type": "execute_result"
    }
   ],
   "source": [
    "sess.run(B)"
   ]
  },
  {
   "cell_type": "code",
   "execution_count": 7,
   "metadata": {
    "ExecuteTime": {
     "end_time": "2020-01-29T02:24:49.780253Z",
     "start_time": "2020-01-29T02:24:49.754262Z"
    }
   },
   "outputs": [
    {
     "name": "stdout",
     "output_type": "stream",
     "text": [
      "[ 4 10 18]\n"
     ]
    }
   ],
   "source": [
    "a = tf.constant([1,2,3])\n",
    "b = tf.constant([4,5,6])\n",
    "\n",
    "result = tf.multiply(a, b)\n",
    "\n",
    "with tf.Session() as sess:\n",
    "    output = sess.run(result)\n",
    "    print(output)"
   ]
  },
  {
   "cell_type": "code",
   "execution_count": 9,
   "metadata": {
    "ExecuteTime": {
     "end_time": "2020-01-29T02:25:06.894609Z",
     "start_time": "2020-01-29T02:25:06.860657Z"
    }
   },
   "outputs": [
    {
     "name": "stdout",
     "output_type": "stream",
     "text": [
      "Tensor(\"add_1:0\", shape=(2,), dtype=float32)\n"
     ]
    }
   ],
   "source": [
    "x1 = tf.Variable([1, 1], dtype = tf.float32)\n",
    "x2 = tf.Variable([2, 2], dtype = tf.float32)\n",
    "y = x1 + x2\n",
    "\n",
    "print(y)"
   ]
  },
  {
   "cell_type": "code",
   "execution_count": 10,
   "metadata": {
    "ExecuteTime": {
     "end_time": "2020-01-29T02:25:16.035603Z",
     "start_time": "2020-01-29T02:25:15.867733Z"
    }
   },
   "outputs": [
    {
     "data": {
      "text/plain": [
       "array([3., 3.], dtype=float32)"
      ]
     },
     "execution_count": 10,
     "metadata": {},
     "output_type": "execute_result"
    }
   ],
   "source": [
    "sess = tf.Session()\n",
    "\n",
    "init = tf.global_variables_initializer()\n",
    "sess.run(init)\n",
    "\n",
    "sess.run(y)"
   ]
  },
  {
   "cell_type": "code",
   "execution_count": 11,
   "metadata": {
    "ExecuteTime": {
     "end_time": "2020-01-29T02:25:32.862812Z",
     "start_time": "2020-01-29T02:25:32.842925Z"
    }
   },
   "outputs": [
    {
     "data": {
      "text/plain": [
       "array([[1., 2.],\n",
       "       [3., 4.]], dtype=float32)"
      ]
     },
     "execution_count": 11,
     "metadata": {},
     "output_type": "execute_result"
    }
   ],
   "source": [
    "sess = tf.Session()\n",
    "x = tf.placeholder(tf.float32, shape = [2,2])\n",
    "\n",
    "sess.run(x, feed_dict = {x : [[1,2],[3,4]]})"
   ]
  },
  {
   "cell_type": "code",
   "execution_count": 12,
   "metadata": {
    "ExecuteTime": {
     "end_time": "2020-01-29T02:25:39.349838Z",
     "start_time": "2020-01-29T02:25:39.323553Z"
    }
   },
   "outputs": [
    {
     "data": {
      "text/plain": [
       "array([4., 6.], dtype=float32)"
      ]
     },
     "execution_count": 12,
     "metadata": {},
     "output_type": "execute_result"
    }
   ],
   "source": [
    "a = tf.placeholder(tf.float32, shape = [2])\n",
    "b = tf.placeholder(tf.float32, shape = [2])\n",
    "\n",
    "sum = a + b\n",
    "\n",
    "sess.run(sum, feed_dict = {a : [1,2], b : [3,4]})"
   ]
  },
  {
   "cell_type": "code",
   "execution_count": 13,
   "metadata": {
    "ExecuteTime": {
     "end_time": "2020-01-29T02:25:46.148652Z",
     "start_time": "2020-01-29T02:25:46.123522Z"
    }
   },
   "outputs": [
    {
     "name": "stdout",
     "output_type": "stream",
     "text": [
      "[3 3 3]\n"
     ]
    }
   ],
   "source": [
    "x1 = tf.constant(1, shape = [3])\n",
    "x2 = tf.constant(2, shape = [3])\n",
    "output = tf.add(x1, x2)\n",
    "\n",
    "with tf.Session() as sess:\n",
    "    result = sess.run(output)\n",
    "    print(result)"
   ]
  },
  {
   "cell_type": "code",
   "execution_count": 14,
   "metadata": {
    "ExecuteTime": {
     "end_time": "2020-01-29T02:26:04.412202Z",
     "start_time": "2020-01-29T02:26:04.378887Z"
    }
   },
   "outputs": [
    {
     "name": "stdout",
     "output_type": "stream",
     "text": [
      "[[3 3 3]\n",
      " [3 3 3]]\n"
     ]
    }
   ],
   "source": [
    "x1 = tf.constant(1, shape = [2, 3])\n",
    "x2 = tf.constant(2, shape = [2, 3])\n",
    "output = tf.add(x1, x2)\n",
    "\n",
    "with tf.Session() as sess:\n",
    "    result = sess.run(output)\n",
    "    print(result)"
   ]
  },
  {
   "cell_type": "code",
   "execution_count": 15,
   "metadata": {
    "ExecuteTime": {
     "end_time": "2020-01-29T02:27:31.497597Z",
     "start_time": "2020-01-29T02:27:31.481922Z"
    }
   },
   "outputs": [],
   "source": [
    "x1 = tf.constant([[1, 2], \n",
    "                  [3, 4]])\n",
    "x2 = tf.constant([[2],[3]])"
   ]
  },
  {
   "cell_type": "code",
   "execution_count": 17,
   "metadata": {
    "ExecuteTime": {
     "end_time": "2020-01-29T02:28:22.590645Z",
     "start_time": "2020-01-29T02:28:22.494566Z"
    }
   },
   "outputs": [
    {
     "name": "stdout",
     "output_type": "stream",
     "text": [
      "[[ 8]\n",
      " [18]]\n"
     ]
    }
   ],
   "source": [
    "output1 = tf.matmul(x1, x2)\n",
    "\n",
    "with tf.Session() as sess:\n",
    "    result = sess.run(output1)\n",
    "    print(result)"
   ]
  },
  {
   "cell_type": "code",
   "execution_count": 18,
   "metadata": {
    "ExecuteTime": {
     "end_time": "2020-01-29T02:29:03.008221Z",
     "start_time": "2020-01-29T02:29:02.921641Z"
    }
   },
   "outputs": [
    {
     "name": "stdout",
     "output_type": "stream",
     "text": [
      "[[ 2  4]\n",
      " [ 9 12]]\n"
     ]
    }
   ],
   "source": [
    "output2 = x1*x2\n",
    "\n",
    "with tf.Session() as sess:\n",
    "    result = sess.run(output2)\n",
    "    print(result)"
   ]
  },
  {
   "cell_type": "code",
   "execution_count": 19,
   "metadata": {
    "ExecuteTime": {
     "end_time": "2020-01-29T02:29:23.863710Z",
     "start_time": "2020-01-29T02:29:23.854470Z"
    }
   },
   "outputs": [],
   "source": [
    "x = [1,2,3,4,5,6,7,8]"
   ]
  },
  {
   "cell_type": "code",
   "execution_count": 21,
   "metadata": {
    "ExecuteTime": {
     "end_time": "2020-01-29T02:29:56.006319Z",
     "start_time": "2020-01-29T02:29:55.954001Z"
    }
   },
   "outputs": [
    {
     "data": {
      "text/plain": [
       "array([[1, 2],\n",
       "       [3, 4],\n",
       "       [5, 6],\n",
       "       [7, 8]], dtype=int32)"
      ]
     },
     "execution_count": 21,
     "metadata": {},
     "output_type": "execute_result"
    }
   ],
   "source": [
    "x_re = tf.reshape(x, [4,2])\n",
    "\n",
    "sess = tf.Session()\n",
    "sess.run(x_re)"
   ]
  },
  {
   "cell_type": "code",
   "execution_count": 22,
   "metadata": {
    "ExecuteTime": {
     "end_time": "2020-01-29T02:30:31.629480Z",
     "start_time": "2020-01-29T02:30:31.601398Z"
    }
   },
   "outputs": [
    {
     "data": {
      "text/plain": [
       "array([[1, 2, 3, 4],\n",
       "       [5, 6, 7, 8]], dtype=int32)"
      ]
     },
     "execution_count": 22,
     "metadata": {},
     "output_type": "execute_result"
    }
   ],
   "source": [
    "x_re = tf.reshape(x, [2,-1])\n",
    "\n",
    "sess = tf.Session()\n",
    "sess.run(x_re)"
   ]
  },
  {
   "cell_type": "code",
   "execution_count": 23,
   "metadata": {
    "ExecuteTime": {
     "end_time": "2020-01-29T02:35:20.448745Z",
     "start_time": "2020-01-29T02:35:19.806666Z"
    }
   },
   "outputs": [],
   "source": [
    "# TensorFlow as Optimization Solver\n",
    "import numpy as np\n",
    "import matplotlib.pyplot as plt\n",
    "import tensorflow as tf\n",
    "%matplotlib inline"
   ]
  },
  {
   "cell_type": "code",
   "execution_count": 24,
   "metadata": {
    "ExecuteTime": {
     "end_time": "2020-01-29T02:35:21.787126Z",
     "start_time": "2020-01-29T02:35:21.028681Z"
    }
   },
   "outputs": [
    {
     "name": "stdout",
     "output_type": "stream",
     "text": [
      "12.96\n",
      "10.497601\n",
      "8.503056\n",
      "6.887476\n",
      "5.5788546\n",
      "4.5188723\n",
      "3.660286\n",
      "2.9648323\n",
      "2.401514\n",
      "1.9452267\n",
      "1.575634\n",
      "1.2762632\n",
      "1.0337734\n",
      "0.83735657\n",
      "0.6782589\n",
      "0.54938984\n",
      "0.44500542\n",
      "0.36045456\n",
      "0.29196835\n",
      "0.23649406\n",
      "0.19155979\n",
      "0.15516376\n",
      "0.12568283\n",
      "0.101802826\n",
      "0.0824604\n",
      "0.06679344\n",
      "0.054101944\n",
      "0.043823242\n",
      "0.03549671\n",
      "0.028752327\n",
      "0.02328968\n",
      "0.018864632\n",
      "0.01527977\n",
      "0.012376785\n",
      "0.010025024\n",
      "0.008120537\n",
      "0.0065774918\n",
      "0.0053281784\n",
      "0.0043153763\n",
      "0.0034952164\n",
      "0.002831459\n",
      "0.0022935867\n",
      "0.0018577576\n",
      "0.0015048981\n",
      "0.0012187958\n",
      "0.0009870529\n",
      "0.00080013275\n",
      "0.00064754486\n",
      "0.0005245209\n",
      "0.00042533875\n",
      "\n",
      " optimal w = 3.979385\n"
     ]
    },
    {
     "data": {
      "image/png": "[encoded data removed]",
      "text/plain": [
       "<Figure size 720x576 with 1 Axes>"
      ]
     },
     "metadata": {
      "needs_background": "light"
     },
     "output_type": "display_data"
    }
   ],
   "source": [
    "w = tf.Variable(0, dtype = tf.float32)\n",
    "cost = w*w - 8*w + 16\n",
    "\n",
    "LR = 0.05\n",
    "optm = tf.train.GradientDescentOptimizer(LR).minimize(cost)\n",
    "\n",
    "# 오퍼레이션을 하기 전 변수들을 초기화\n",
    "init = tf.global_variables_initializer()\n",
    "\n",
    "sess = tf.Session()\n",
    "sess.run(init)\n",
    "\n",
    "cost_record = []\n",
    "for _ in range(50):\n",
    "    sess.run(optm)\n",
    "    print(sess.run(cost))\n",
    "    cost_record.append(sess.run(cost))\n",
    "    \n",
    "print(\"\\n optimal w =\", sess.run(w))\n",
    "\n",
    "plt.figure(figsize = (10,8))\n",
    "plt.plot(cost_record)\n",
    "plt.xlabel('iteration', fontsize = 15)\n",
    "plt.ylabel('cost', fontsize = 15)\n",
    "plt.show()"
   ]
  },
  {
   "cell_type": "code",
   "execution_count": null,
   "metadata": {},
   "outputs": [],
   "source": []
  }
 ],
 "metadata": {
  "kernelspec": {
   "display_name": "Python 3",
   "language": "python",
   "name": "python3"
  },
  "language_info": {
   "codemirror_mode": {
    "name": "ipython",
    "version": 3
   },
   "file_extension": ".py",
   "mimetype": "text/x-python",
   "name": "python",
   "nbconvert_exporter": "python",
   "pygments_lexer": "ipython3",
   "version": "3.5.6"
  }
 },
 "nbformat": 4,
 "nbformat_minor": 2
}

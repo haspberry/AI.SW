{
 "cells": [
  {
   "cell_type": "markdown",
   "metadata": {},
   "source": [
    "# Library"
   ]
  },
  {
   "cell_type": "code",
   "execution_count": 1,
   "metadata": {},
   "outputs": [],
   "source": [
    "import torch\n",
    "import numpy as np\n",
    "from matplotlib import pyplot as plt\n",
    "\n",
    "import torchvision.utils as utils\n",
    "import torchvision.datasets as datasets\n",
    "import torchvision.transforms as transforms"
   ]
  },
  {
   "cell_type": "markdown",
   "metadata": {},
   "source": [
    "# Set torch basic"
   ]
  },
  {
   "cell_type": "code",
   "execution_count": 2,
   "metadata": {},
   "outputs": [],
   "source": [
    "# CUDA Check\n",
    "if torch.cuda.is_available():\n",
    "    device = torch.device(\"cuda\")\n",
    "else:\n",
    "    device = torch.device(\"cpu\")\n",
    "\n",
    "# Set dtype\n",
    "dtype = torch.double"
   ]
  },
  {
   "cell_type": "markdown",
   "metadata": {},
   "source": [
    "# Load the data"
   ]
  },
  {
   "cell_type": "code",
   "execution_count": 3,
   "metadata": {},
   "outputs": [
    {
     "name": "stdout",
     "output_type": "stream",
     "text": [
      "Dataset MNIST\n",
      "    Number of datapoints: 60000\n",
      "    Root location: data/\n",
      "    Split: Train\n",
      "Dataset MNIST\n",
      "    Number of datapoints: 10000\n",
      "    Root location: data/\n",
      "    Split: Test\n"
     ]
    }
   ],
   "source": [
    "mnist_train = datasets.MNIST(\n",
    "    root='data/',\n",
    "    train=True,\n",
    "    download=True)\n",
    "\n",
    "mnist_test = datasets.MNIST(\n",
    "    root='data/',\n",
    "    train=False,\n",
    "    download=True)\n",
    "\n",
    "\n",
    "print(mnist_train)\n",
    "print(mnist_test)"
   ]
  },
  {
   "cell_type": "markdown",
   "metadata": {},
   "source": [
    "# Analyze MNIST data"
   ]
  },
  {
   "cell_type": "code",
   "execution_count": 4,
   "metadata": {},
   "outputs": [
    {
     "name": "stdout",
     "output_type": "stream",
     "text": [
      "Train data shape :  torch.Size([60000, 28, 28])\n",
      "Train label shape :  torch.Size([60000])\n",
      "Test data shape :  torch.Size([10000, 28, 28])\n",
      "Test label shape :  torch.Size([10000])\n"
     ]
    },
    {
     "data": {
      "image/png": "[encoded data removed]",
      "text/plain": [
       "<Figure size 432x288 with 1 Axes>"
      ]
     },
     "metadata": {
      "needs_background": "light"
     },
     "output_type": "display_data"
    },
    {
     "name": "stdout",
     "output_type": "stream",
     "text": [
      "0's image data\n",
      "\n",
      "tensor([[  0,   0,   0,   0,   0,   0,   0,   0,   0,   0,   0,   0,   0,   0,\n",
      "           0,   0,   0,   0,   0,   0,   0,   0,   0,   0,   0,   0,   0,   0],\n",
      "        [  0,   0,   0,   0,   0,   0,   0,   0,   0,   0,   0,   0,   0,   0,\n",
      "           0,   0,   0,   0,   0,   0,   0,   0,   0,   0,   0,   0,   0,   0],\n",
      "        [  0,   0,   0,   0,   0,   0,   0,   0,   0,   0,   0,   0,   0,   0,\n",
      "           0,   0,   0,   0,   0,   0,   0,   0,   0,   0,   0,   0,   0,   0],\n",
      "        [  0,   0,   0,   0,   0,   0,   0,   0,   0,   0,   0,   0,   0,   0,\n",
      "           0,   0,   0,   0,   0,   0,   0,   0,   0,   0,   0,   0,   0,   0],\n",
      "        [  0,   0,   0,   0,   0,   0,   0,   0,   0,   0,   0,   0,   0,   0,\n",
      "           0,   0,   0,   0,   0,   0,   0,   0,   0,   0,   0,   0,   0,   0],\n",
      "        [  0,   0,   0,   0,   0,   0,   0,   0,   0,   0,  27, 188, 167,  34,\n",
      "          82, 144, 116,  34,   2,   0,   0,   0,   0,   0,   0,   0,   0,   0],\n",
      "        [  0,   0,   0,   0,   0,   0,   0,   0,   6,  91, 237, 253, 253, 253,\n",
      "         253, 255, 253, 253, 170,  23,   0,   0,   0,   0,   0,   0,   0,   0],\n",
      "        [  0,   0,   0,   0,   0,   0,   0,   0, 157, 253, 253, 253, 253, 253,\n",
      "         253, 254, 253, 253, 253, 201,  22,   0,   0,   0,   0,   0,   0,   0],\n",
      "        [  0,   0,   0,   0,   0,   0,   0,  53, 249, 253, 253, 253, 253, 247,\n",
      "         134,  73, 121, 212, 253, 253, 168,  12,   0,   0,   0,   0,   0,   0],\n",
      "        [  0,   0,   0,   0,   0,   0,   0, 100, 253, 253, 253, 203, 150,  90,\n",
      "           0,   0,   0,   0, 195, 253, 253, 156,   0,   0,   0,   0,   0,   0],\n",
      "        [  0,   0,   0,   0,   0,   0,   0, 186, 253, 253, 145,   5,   0,   0,\n",
      "           0,   0,   0,   0,   5, 185, 253, 242,   0,   0,   0,   0,   0,   0],\n",
      "        [  0,   0,   0,   0,   0,   0,   0, 210, 253, 253,  55,   0,   0,   0,\n",
      "           0,   0,   0,   0,   0, 161, 253, 252,  91,   0,   0,   0,   0,   0],\n",
      "        [  0,   0,   0,   0,   0,   0,   0, 210, 253, 253,  55,   0,   0,   0,\n",
      "           0,   0,   0,   0,   0,  46, 244, 253,  99,   0,   0,   0,   0,   0],\n",
      "        [  0,   0,   0,   0,   0,   0,   0, 210, 253, 253,  55,   0,   0,   0,\n",
      "           0,   0,   0,   0,   0,   0, 199, 253, 132,   0,   0,   0,   0,   0],\n",
      "        [  0,   0,   0,   0,   0,   0,   0, 162, 253, 253,  55,   0,   0,   0,\n",
      "           0,   0,   0,   0,   0,   0, 199, 253, 209,   0,   0,   0,   0,   0],\n",
      "        [  0,   0,   0,   0,   0,   0,   0, 101, 254, 254,  70,   0,   0,   0,\n",
      "           0,   0,   0,   0,   0,   0, 200, 255, 210,   0,   0,   0,   0,   0],\n",
      "        [  0,   0,   0,   0,   0,   0,   0, 100, 253, 253, 165,   0,   0,   0,\n",
      "           0,   0,   0,   0,   0,   0, 199, 253, 209,   0,   0,   0,   0,   0],\n",
      "        [  0,   0,   0,   0,   0,   0,   0, 100, 253, 253, 165,   0,   0,   0,\n",
      "           0,   0,   0,   0,   0,   0, 199, 253, 209,   0,   0,   0,   0,   0],\n",
      "        [  0,   0,   0,   0,   0,   0,   0,   4, 186, 253, 250,  79,   0,   0,\n",
      "           0,   0,   0,   0,   0,  63, 251, 253, 151,   0,   0,   0,   0,   0],\n",
      "        [  0,   0,   0,   0,   0,   0,   0,   0, 109, 253, 253, 156,   0,   0,\n",
      "           0,   0,   0,   0,   0, 166, 253, 246,  35,   0,   0,   0,   0,   0],\n",
      "        [  0,   0,   0,   0,   0,   0,   0,   0,  15, 223, 253, 251, 117,   0,\n",
      "           0,   0,   0,   0,  18, 235, 253, 242,   0,   0,   0,   0,   0,   0],\n",
      "        [  0,   0,   0,   0,   0,   0,   0,   0,   0,  39, 227, 253, 250, 150,\n",
      "          74,   5,   0,   5, 225, 253, 250,  87,   0,   0,   0,   0,   0,   0],\n",
      "        [  0,   0,   0,   0,   0,   0,   0,   0,   0,   0, 117, 230, 253, 253,\n",
      "         253, 198, 155, 193, 253, 253, 165,   0,   0,   0,   0,   0,   0,   0],\n",
      "        [  0,   0,   0,   0,   0,   0,   0,   0,   0,   0,   0,  37, 189, 253,\n",
      "         253, 254, 253, 253, 253, 203,  67,   0,   0,   0,   0,   0,   0,   0],\n",
      "        [  0,   0,   0,   0,   0,   0,   0,   0,   0,   0,   0,   0,   6,  33,\n",
      "         128, 206, 253, 253, 147,  50,   0,   0,   0,   0,   0,   0,   0,   0],\n",
      "        [  0,   0,   0,   0,   0,   0,   0,   0,   0,   0,   0,   0,   0,   0,\n",
      "           0,   0,   0,   0,   0,   0,   0,   0,   0,   0,   0,   0,   0,   0],\n",
      "        [  0,   0,   0,   0,   0,   0,   0,   0,   0,   0,   0,   0,   0,   0,\n",
      "           0,   0,   0,   0,   0,   0,   0,   0,   0,   0,   0,   0,   0,   0],\n",
      "        [  0,   0,   0,   0,   0,   0,   0,   0,   0,   0,   0,   0,   0,   0,\n",
      "           0,   0,   0,   0,   0,   0,   0,   0,   0,   0,   0,   0,   0,   0]],\n",
      "       dtype=torch.uint8)\n"
     ]
    }
   ],
   "source": [
    "# Rename tensors\n",
    "X_train = mnist_train.data\n",
    "y_train = mnist_train.targets\n",
    "X_test = mnist_test.data\n",
    "y_test = mnist_test.targets\n",
    "\n",
    "# Check the shape of data and labels\n",
    "print(\"Train data shape : \", X_train.shape)\n",
    "print(\"Train label shape : \", y_train.shape)\n",
    "print(\"Test data shape : \", X_test.shape)\n",
    "print(\"Test label shape : \", y_test.shape)\n",
    "\n",
    "# Show a image example\n",
    "idx = np.random.randint(0, X_train.size(0))\n",
    "plt.figure()\n",
    "plt.imshow(X_train[idx], cmap=\"gray\")\n",
    "plt.title(str(y_train[idx].numpy()))\n",
    "plt.show()\n",
    "\n",
    "# Show image with computer's perspective\n",
    "print(str(y_train[idx].numpy()) + \"'s image data\\n\")\n",
    "print(X_train[idx])\n",
    "\n",
    "# Convert data to double tensor\n",
    "X_train = X_train.to(dtype=dtype, device=device)\n",
    "y_train = y_train.to(device=device)\n",
    "X_test = X_test.to(dtype=dtype, device=device)\n",
    "y_test = y_test.to(device=device)"
   ]
  },
  {
   "cell_type": "markdown",
   "metadata": {},
   "source": [
    "# Data vectorization and normalization"
   ]
  },
  {
   "cell_type": "code",
   "execution_count": 5,
   "metadata": {},
   "outputs": [
    {
     "name": "stdout",
     "output_type": "stream",
     "text": [
      "Data shape :  torch.Size([28, 28])\n",
      "44693th data in X_train\n",
      " tensor([0.0000, 0.0000, 0.0000, 0.0000, 0.0000, 0.0000, 0.0000, 0.0000, 0.0000,\n",
      "        0.0000, 0.0000, 0.0000, 0.0000, 0.0000, 0.0000, 0.0000, 0.0000, 0.0000,\n",
      "        0.0000, 0.0000, 0.0000, 0.0000, 0.0000, 0.0000, 0.0000, 0.0000, 0.0000,\n",
      "        0.0000, 0.0000, 0.0000, 0.0000, 0.0000, 0.0000, 0.0000, 0.0000, 0.0000,\n",
      "        0.0000, 0.0000, 0.0000, 0.0000, 0.0000, 0.0000, 0.0000, 0.0000, 0.0000,\n",
      "        0.0000, 0.0000, 0.0000, 0.0000, 0.0000, 0.0000, 0.0000, 0.0000, 0.0000,\n",
      "        0.0000, 0.0000, 0.0000, 0.0000, 0.0000, 0.0000, 0.0000, 0.0000, 0.0000,\n",
      "        0.0000, 0.0000, 0.0000, 0.0000, 0.0000, 0.0000, 0.0000, 0.0000, 0.0000,\n",
      "        0.0000, 0.0000, 0.0000, 0.0000, 0.0000, 0.0000, 0.0000, 0.0000, 0.0000,\n",
      "        0.0000, 0.0000, 0.0000, 0.0000, 0.0000, 0.0000, 0.0000, 0.0000, 0.0000,\n",
      "        0.0000, 0.0000, 0.0000, 0.0000, 0.0000, 0.0000, 0.0000, 0.0000, 0.0000,\n",
      "        0.0000, 0.0000, 0.0000, 0.0000, 0.0000, 0.0000, 0.0000, 0.0000, 0.0000,\n",
      "        0.0000, 0.0000, 0.0000, 0.0000, 0.0000, 0.0000, 0.0000, 0.0000, 0.0000,\n",
      "        0.0000, 0.0000, 0.0000, 0.0000, 0.0000, 0.0000, 0.0588, 0.4235, 0.5412,\n",
      "        0.5412, 0.1765, 0.3608, 0.0000, 0.0000, 0.0000, 0.0000, 0.0000, 0.0000,\n",
      "        0.0000, 0.0000, 0.0000, 0.0000, 0.0000, 0.0000, 0.0000, 0.0000, 0.0000,\n",
      "        0.0000, 0.0000, 0.0000, 0.0000, 0.0000, 0.0000, 0.1412, 0.8588, 0.9882,\n",
      "        0.9882, 0.9882, 0.9922, 0.3608, 0.0000, 0.0000, 0.0000, 0.0000, 0.0000,\n",
      "        0.0000, 0.0000, 0.0000, 0.0000, 0.0000, 0.0000, 0.0000, 0.0000, 0.0000,\n",
      "        0.0000, 0.0000, 0.0000, 0.0000, 0.0000, 0.0000, 0.3333, 0.8706, 0.9882,\n",
      "        0.9882, 0.9882, 0.9882, 0.6784, 0.0980, 0.1255, 0.0000, 0.0000, 0.0000,\n",
      "        0.0000, 0.0000, 0.0000, 0.0000, 0.0000, 0.0000, 0.0000, 0.0000, 0.0000,\n",
      "        0.0000, 0.0000, 0.0000, 0.0000, 0.0000, 0.0000, 0.2980, 0.8549, 0.9608,\n",
      "        0.6275, 0.3020, 0.4745, 0.7843, 0.8157, 0.8118, 0.8941, 0.6471, 0.2000,\n",
      "        0.0000, 0.0000, 0.0000, 0.0000, 0.0000, 0.0000, 0.0000, 0.0000, 0.0000,\n",
      "        0.0000, 0.0000, 0.0000, 0.0000, 0.0000, 0.0000, 0.1255, 0.8941, 0.9882,\n",
      "        0.4941, 0.0000, 0.6588, 0.9333, 0.9882, 0.9529, 0.8275, 0.9882, 0.9882,\n",
      "        0.9490, 0.6196, 0.0000, 0.0000, 0.0000, 0.0000, 0.0000, 0.0000, 0.0000,\n",
      "        0.0000, 0.0000, 0.0000, 0.0000, 0.0000, 0.0000, 0.1020, 0.8706, 0.9176,\n",
      "        0.2863, 0.0000, 0.0000, 0.7255, 0.9922, 0.5020, 0.0000, 0.0000, 0.1255,\n",
      "        0.6157, 0.9843, 1.0000, 0.6039, 0.0000, 0.0000, 0.0000, 0.0000, 0.0000,\n",
      "        0.0000, 0.0000, 0.0000, 0.0000, 0.0000, 0.0000, 0.0196, 0.5333, 0.9882,\n",
      "        0.1765, 0.0000, 0.0000, 0.0000, 0.2627, 0.7922, 0.0863, 0.0000, 0.0000,\n",
      "        0.0000, 0.0000, 0.3294, 0.9098, 0.9255, 0.1725, 0.0000, 0.0000, 0.0000,\n",
      "        0.0000, 0.0000, 0.0000, 0.0000, 0.0000, 0.0000, 0.0000, 0.4235, 0.9882,\n",
      "        0.9137, 0.1294, 0.0000, 0.0000, 0.0000, 0.0000, 0.0980, 0.0235, 0.0000,\n",
      "        0.0000, 0.0000, 0.0000, 0.0000, 0.5412, 0.9882, 0.5961, 0.0000, 0.0000,\n",
      "        0.0000, 0.0000, 0.0000, 0.0000, 0.0000, 0.0000, 0.0000, 0.0000, 0.7059,\n",
      "        0.9216, 0.2510, 0.0000, 0.0000, 0.0000, 0.0000, 0.0000, 0.0000, 0.0000,\n",
      "        0.0000, 0.0000, 0.0000, 0.0000, 0.0000, 0.1412, 0.8588, 0.9412, 0.1451,\n",
      "        0.0000, 0.0000, 0.0000, 0.0000, 0.0000, 0.0000, 0.0000, 0.0000, 0.0000,\n",
      "        0.7882, 0.9725, 0.2471, 0.0000, 0.0000, 0.0000, 0.0000, 0.0000, 0.0000,\n",
      "        0.0000, 0.0000, 0.0000, 0.0000, 0.0000, 0.0000, 0.0000, 0.1412, 0.8667,\n",
      "        0.7529, 0.0431, 0.0000, 0.0000, 0.0000, 0.0000, 0.0000, 0.0000, 0.0000,\n",
      "        0.0000, 1.0000, 0.8118, 0.0000, 0.0000, 0.0000, 0.0000, 0.0000, 0.0000,\n",
      "        0.0000, 0.0000, 0.0000, 0.0000, 0.0000, 0.0000, 0.0000, 0.0000, 0.0000,\n",
      "        0.7255, 0.9922, 0.3373, 0.0000, 0.0000, 0.0000, 0.0000, 0.0000, 0.0000,\n",
      "        0.0000, 0.0000, 0.9922, 0.8078, 0.0000, 0.0000, 0.0000, 0.0000, 0.0000,\n",
      "        0.0000, 0.0000, 0.0000, 0.0000, 0.0000, 0.0000, 0.0000, 0.0000, 0.0000,\n",
      "        0.0000, 0.7216, 0.9882, 0.5373, 0.0000, 0.0000, 0.0000, 0.0000, 0.0000,\n",
      "        0.0000, 0.0000, 0.0000, 0.9922, 0.6000, 0.0000, 0.0000, 0.0000, 0.0000,\n",
      "        0.0000, 0.0000, 0.0000, 0.0000, 0.0000, 0.0000, 0.0000, 0.0000, 0.0000,\n",
      "        0.0000, 0.0000, 0.7216, 0.9882, 0.5373, 0.0000, 0.0000, 0.0000, 0.0000,\n",
      "        0.0000, 0.0000, 0.0000, 0.0000, 0.9922, 0.8745, 0.0980, 0.0000, 0.0000,\n",
      "        0.0000, 0.0000, 0.0000, 0.0000, 0.0000, 0.0000, 0.0000, 0.0000, 0.0000,\n",
      "        0.0000, 0.0000, 0.0667, 0.8196, 0.9882, 0.1686, 0.0000, 0.0000, 0.0000,\n",
      "        0.0000, 0.0000, 0.0000, 0.0000, 0.0000, 0.5804, 0.9882, 0.4745, 0.0000,\n",
      "        0.0000, 0.0000, 0.0000, 0.0000, 0.0000, 0.0000, 0.0000, 0.0000, 0.0000,\n",
      "        0.0000, 0.0000, 0.0431, 0.7569, 0.9882, 0.6588, 0.0078, 0.0000, 0.0000,\n",
      "        0.0000, 0.0000, 0.0000, 0.0000, 0.0000, 0.0000, 0.2980, 0.9922, 0.8706,\n",
      "        0.3804, 0.0118, 0.0000, 0.0000, 0.0000, 0.0000, 0.0000, 0.0000, 0.0000,\n",
      "        0.0000, 0.0000, 0.2902, 0.7922, 0.9922, 0.8039, 0.0824, 0.0000, 0.0000,\n",
      "        0.0000, 0.0000, 0.0000, 0.0000, 0.0000, 0.0000, 0.0000, 0.0353, 0.6784,\n",
      "        0.9882, 0.9882, 0.4588, 0.0000, 0.0000, 0.0000, 0.0000, 0.0000, 0.0000,\n",
      "        0.0000, 0.0510, 0.3490, 0.9569, 0.9922, 0.8745, 0.2196, 0.0000, 0.0000,\n",
      "        0.0000, 0.0000, 0.0000, 0.0000, 0.0000, 0.0000, 0.0000, 0.0000, 0.0000,\n",
      "        0.0510, 0.5961, 0.9412, 0.9882, 0.7255, 0.4353, 0.2000, 0.0000, 0.0000,\n",
      "        0.0275, 0.5569, 0.7961, 0.9882, 0.9882, 0.6784, 0.0980, 0.0000, 0.0000,\n",
      "        0.0000, 0.0000, 0.0000, 0.0000, 0.0000, 0.0000, 0.0000, 0.0000, 0.0000,\n",
      "        0.0000, 0.0000, 0.0000, 0.3137, 0.7922, 0.9922, 0.9882, 0.9412, 0.8118,\n",
      "        0.8118, 0.8314, 0.9882, 0.9882, 0.6902, 0.4235, 0.0000, 0.0000, 0.0000,\n",
      "        0.0000, 0.0000, 0.0000, 0.0000, 0.0000, 0.0000, 0.0000, 0.0000, 0.0000,\n",
      "        0.0000, 0.0000, 0.0000, 0.0000, 0.0000, 0.0431, 0.5373, 0.8275, 0.9882,\n",
      "        0.9882, 0.9882, 0.9922, 0.6157, 0.0863, 0.0157, 0.0000, 0.0000, 0.0000,\n",
      "        0.0000, 0.0000, 0.0000, 0.0000, 0.0000, 0.0000, 0.0000, 0.0000, 0.0000,\n",
      "        0.0000, 0.0000, 0.0000, 0.0000, 0.0000, 0.0000, 0.0000, 0.0000, 0.0000,\n",
      "        0.0000, 0.0000, 0.0000, 0.0000, 0.0000, 0.0000, 0.0000, 0.0000, 0.0000,\n",
      "        0.0000, 0.0000, 0.0000, 0.0000, 0.0000, 0.0000, 0.0000, 0.0000, 0.0000,\n",
      "        0.0000, 0.0000, 0.0000, 0.0000, 0.0000, 0.0000, 0.0000, 0.0000, 0.0000,\n",
      "        0.0000, 0.0000, 0.0000, 0.0000, 0.0000, 0.0000, 0.0000, 0.0000, 0.0000,\n",
      "        0.0000, 0.0000, 0.0000, 0.0000, 0.0000, 0.0000, 0.0000, 0.0000, 0.0000,\n",
      "        0.0000, 0.0000, 0.0000, 0.0000, 0.0000, 0.0000, 0.0000, 0.0000, 0.0000,\n",
      "        0.0000, 0.0000, 0.0000, 0.0000, 0.0000, 0.0000, 0.0000, 0.0000, 0.0000,\n",
      "        0.0000, 0.0000, 0.0000, 0.0000, 0.0000, 0.0000, 0.0000, 0.0000, 0.0000,\n",
      "        0.0000, 0.0000, 0.0000, 0.0000, 0.0000, 0.0000, 0.0000, 0.0000, 0.0000,\n",
      "        0.0000, 0.0000, 0.0000, 0.0000, 0.0000, 0.0000, 0.0000, 0.0000, 0.0000,\n",
      "        0.0000, 0.0000, 0.0000, 0.0000, 0.0000, 0.0000, 0.0000, 0.0000, 0.0000,\n",
      "        0.0000], device='cuda:0', dtype=torch.float64)\n"
     ]
    }
   ],
   "source": [
    "# DO NOT EXECUTE THIS CELL REPEATEDLY! UNEXPECTED RESULTS CAN BE SHOWN!\n",
    "# Calculate vector size\n",
    "def calculate_vector_size(data_size):\n",
    "    size = 1\n",
    "    for s in data_size:\n",
    "        size *= s   \n",
    "    return size\n",
    "\n",
    "# Normalize with minimax normalizer\n",
    "def normalize(data, min_value, max_value):\n",
    "    return (data - min_value) / (max_value - min_value)\n",
    "\n",
    "# Check data shape\n",
    "shape = X_train.shape[1:] # 0 index is number of data\n",
    "print(\"Data shape : \", shape)\n",
    "\n",
    "# Vectorize the data\n",
    "X_train = X_train.view(-1, calculate_vector_size(shape)) # Actually this is 28 * 28\n",
    "X_test = X_test.view(-1, calculate_vector_size(shape)) # Same!\n",
    "\n",
    "# Normalized the data\n",
    "# Each pixel has 0 ~ 255 value for their intensivity\n",
    "X_train = normalize(X_train, 0, 255)\n",
    "X_test = normalize(X_test, 0, 255)\n",
    "\n",
    "# Check changes on data\n",
    "idx = np.random.randint(0, y_train.shape[0])\n",
    "print(str(idx + 1) + \"th data in X_train\\n\", X_train[idx])"
   ]
  },
  {
   "cell_type": "markdown",
   "metadata": {},
   "source": [
    "# How to make one-hot vector"
   ]
  },
  {
   "cell_type": "code",
   "execution_count": 6,
   "metadata": {
    "scrolled": true
   },
   "outputs": [
    {
     "name": "stdout",
     "output_type": "stream",
     "text": [
      "10 x 10 identity matrix \n",
      " tensor([[1., 0., 0., 0., 0., 0., 0., 0., 0., 0.],\n",
      "        [0., 1., 0., 0., 0., 0., 0., 0., 0., 0.],\n",
      "        [0., 0., 1., 0., 0., 0., 0., 0., 0., 0.],\n",
      "        [0., 0., 0., 1., 0., 0., 0., 0., 0., 0.],\n",
      "        [0., 0., 0., 0., 1., 0., 0., 0., 0., 0.],\n",
      "        [0., 0., 0., 0., 0., 1., 0., 0., 0., 0.],\n",
      "        [0., 0., 0., 0., 0., 0., 1., 0., 0., 0.],\n",
      "        [0., 0., 0., 0., 0., 0., 0., 1., 0., 0.],\n",
      "        [0., 0., 0., 0., 0., 0., 0., 0., 1., 0.],\n",
      "        [0., 0., 0., 0., 0., 0., 0., 0., 0., 1.]])\n",
      "Sparse label \n",
      " tensor([1, 3, 5, 7, 9])\n",
      "One-hot vector \n",
      " tensor([[0., 1., 0., 0., 0., 0., 0., 0., 0., 0.],\n",
      "        [0., 0., 0., 1., 0., 0., 0., 0., 0., 0.],\n",
      "        [0., 0., 0., 0., 0., 1., 0., 0., 0., 0.],\n",
      "        [0., 0., 0., 0., 0., 0., 0., 1., 0., 0.],\n",
      "        [0., 0., 0., 0., 0., 0., 0., 0., 0., 1.]])\n",
      "One-hot vector (Simple version) \n",
      " tensor([[0, 1, 0, 0, 0, 0, 0, 0, 0, 0],\n",
      "        [0, 0, 0, 1, 0, 0, 0, 0, 0, 0],\n",
      "        [0, 0, 0, 0, 0, 1, 0, 0, 0, 0],\n",
      "        [0, 0, 0, 0, 0, 0, 0, 1, 0, 0],\n",
      "        [0, 0, 0, 0, 0, 0, 0, 0, 0, 1]])\n",
      "train label one hot vector's shape :  torch.Size([60000, 10])\n",
      "train one hot vector example, 54933th label\n",
      "tensor([0., 0., 0., 0., 0., 0., 1., 0., 0., 0.], device='cuda:0',\n",
      "       dtype=torch.float64)\n",
      "test label one hot vector's shape :  torch.Size([10000, 10])\n",
      "test one hot vector example, 8085th label\n",
      "tensor([1., 0., 0., 0., 0., 0., 0., 0., 0., 0.], device='cuda:0',\n",
      "       dtype=torch.float64)\n"
     ]
    }
   ],
   "source": [
    "# Generate 10 x 10 identity matrix\n",
    "print(\"10 x 10 identity matrix \\n\", torch.eye(10))\n",
    "\n",
    "# Sparse label\n",
    "sparse_label = torch.tensor([1, 3, 5, 7, 9])\n",
    "print(\"Sparse label \\n\", sparse_label)\n",
    "\n",
    "# Sparse label -> one-hot vector\n",
    "print(\"One-hot vector \\n\", torch.eye(10)[sparse_label]) # Output is double tensor\n",
    "\n",
    "# Simple method\n",
    "print(\"One-hot vector (Simple version) \\n\", torch.nn.functional.one_hot(sparse_label)) # Output is long tensor\n",
    "\n",
    "# Change the labels to one hot vector without torch.nn.functional\n",
    "y_train_one_hot = torch.eye(10)[y_train].to(dtype=dtype, device=device)\n",
    "y_test_one_hot = torch.eye(10)[y_test].to(dtype=dtype, device=device)\n",
    "\n",
    "# Check the changes\n",
    "print(\"train label one hot vector's shape : \", y_train_one_hot.shape)\n",
    "idx = np.random.randint(0, y_train.shape[0])\n",
    "print(\"train one hot vector example, \" + str(idx) + \"th label\")\n",
    "print(y_train_one_hot[idx])\n",
    "\n",
    "print(\"test label one hot vector's shape : \", y_test_one_hot.shape)\n",
    "idx = np.random.randint(0, y_test.shape[0])\n",
    "print(\"test one hot vector example, \" + str(idx) + \"th label\")\n",
    "print(y_test_one_hot[idx])\n"
   ]
  },
  {
   "cell_type": "markdown",
   "metadata": {},
   "source": [
    "# Set hyperparameters"
   ]
  },
  {
   "cell_type": "code",
   "execution_count": 7,
   "metadata": {},
   "outputs": [],
   "source": [
    "learning_rate = 0.3\n",
    "training_epochs = 100\n",
    "display_step = 10\n",
    "\n",
    "D_in = calculate_vector_size(shape)\n",
    "D_out = 10 # number of class"
   ]
  },
  {
   "cell_type": "markdown",
   "metadata": {},
   "source": [
    "# Construct the model"
   ]
  },
  {
   "cell_type": "code",
   "execution_count": 8,
   "metadata": {},
   "outputs": [],
   "source": [
    "# Construct the model\n",
    "class LogisticModel(torch.nn.Module):\n",
    "    def __init__(self, D_in, D_out):\n",
    "        super(LogisticModel, self).__init__()\n",
    "        self.linear = torch.nn.Linear(in_features=D_in, out_features=D_out)\n",
    "        self.softmax = torch.nn.Softmax(dim = 1)\n",
    "    \n",
    "    def forward(self, x):\n",
    "        output = self.linear(x)\n",
    "        output = self.softmax(output)\n",
    "        return output\n",
    "    \n",
    "# Define the loss using one-hot vector\n",
    "class Cross_Entropy_Loss(torch.nn.Module):\n",
    "    def __init__(self):\n",
    "        super(Cross_Entropy_Loss, self).__init__()\n",
    "    def forward(self, y_pred, y):\n",
    "        # Loss for each example\n",
    "        loss = torch.sum(-1 * y * torch.log(y_pred), axis=1)\n",
    "        # Mean loss\n",
    "        loss = torch.mean(loss)\n",
    "        return loss\n",
    "    \n",
    "# Define the model\n",
    "model = LogisticModel(D_in, D_out).to(dtype=dtype, device=device)\n",
    "criterion = Cross_Entropy_Loss()\n",
    "optimizer = torch.optim.SGD(model.parameters(), lr=learning_rate)"
   ]
  },
  {
   "cell_type": "markdown",
   "metadata": {},
   "source": [
    "# Train the model"
   ]
  },
  {
   "cell_type": "code",
   "execution_count": 9,
   "metadata": {},
   "outputs": [
    {
     "name": "stdout",
     "output_type": "stream",
     "text": [
      "Training...\n",
      "step 10:  1.037371311637308\n",
      "step 20:  0.7507831104449724\n",
      "step 30:  0.6374484067267825\n",
      "step 40:  0.5747481327616889\n",
      "step 50:  0.5340892062813013\n",
      "step 60:  0.505166707376562\n",
      "step 70:  0.48330764911225715\n",
      "step 80:  0.4660662848479799\n",
      "step 90:  0.45202955469493855\n",
      "step 100:  0.4403195798385588\n",
      "Finish training\n"
     ]
    }
   ],
   "source": [
    "losses = []\n",
    "\n",
    "print(\"Training...\")\n",
    "\n",
    "for epoch in range(training_epochs):\n",
    "    optimizer.zero_grad()\n",
    "    \n",
    "    y_pred = model(X_train)\n",
    "    loss = criterion(y_pred, y_train_one_hot)\n",
    "\n",
    "    losses.append(loss.item())\n",
    "    \n",
    "    if (epoch + 1) % display_step == 0:\n",
    "        print(\"step \" + str(epoch+1) + \": \", losses[-1])\n",
    "    \n",
    "    loss.backward()\n",
    "    optimizer.step()\n",
    "    \n",
    "print(\"Finish training\")"
   ]
  },
  {
   "cell_type": "markdown",
   "metadata": {},
   "source": [
    "# Plot the loss"
   ]
  },
  {
   "cell_type": "code",
   "execution_count": 10,
   "metadata": {
    "scrolled": true
   },
   "outputs": [
    {
     "data": {
      "image/png": "[encoded data removed]",
      "text/plain": [
       "<Figure size 432x288 with 1 Axes>"
      ]
     },
     "metadata": {
      "needs_background": "light"
     },
     "output_type": "display_data"
    }
   ],
   "source": [
    "plt.figure()\n",
    "plt.plot(losses, label=\"loss\")\n",
    "plt.title(\"Loss\")\n",
    "plt.legend()\n",
    "plt.show()"
   ]
  },
  {
   "cell_type": "markdown",
   "metadata": {},
   "source": [
    "# Check the accuracy"
   ]
  },
  {
   "cell_type": "code",
   "execution_count": 12,
   "metadata": {},
   "outputs": [
    {
     "name": "stdout",
     "output_type": "stream",
     "text": [
      "Test accuracy :  89.23 %\n"
     ]
    }
   ],
   "source": [
    "with torch.no_grad():\n",
    "    test_corrects = 0\n",
    "    test_total = 0\n",
    "    \n",
    "    outputs = model(X_test)\n",
    "    _, predictions = torch.max(outputs, axis=1)\n",
    "    test_corrects += (y_test == predictions).sum().item()\n",
    "    test_total += X_test.size(0)\n",
    "    print(\"Test accuracy : \", (test_corrects / test_total) * 100, \"%\")"
   ]
  },
  {
   "cell_type": "markdown",
   "metadata": {},
   "source": [
    "# Confusion matrix"
   ]
  },
  {
   "cell_type": "code",
   "execution_count": 13,
   "metadata": {},
   "outputs": [
    {
     "name": "stdout",
     "output_type": "stream",
     "text": [
      "Predicted label results\n",
      "tensor([7, 2, 1,  ..., 4, 8, 6], device='cuda:0')\n",
      "Target label results\n",
      "tensor([7, 2, 1,  ..., 4, 5, 6], device='cuda:0')\n",
      "Confusion matrix result\n",
      "[[ 956    0    2    3    0    1   10    1    7    0]\n",
      " [   0 1102    2    4    1    2    4    0   20    0]\n",
      " [  13    9  869   26   19    0   20   23   45    8]\n",
      " [   6    1   18  890    1   34    7   16   24   13]\n",
      " [   1    6    5    0  898    1   12    1    8   50]\n",
      " [  19    8    4   48   17  710   21    7   45   13]\n",
      " [  16    3    8    2   13   18  890    1    7    0]\n",
      " [   2   23   35    2   13    0    1  903    5   44]\n",
      " [   9   10   11   31    9   29   14   14  830   17]\n",
      " [  11    8   10   11   46   16    0   24    8  875]]\n"
     ]
    }
   ],
   "source": [
    "# confusion_matrix's input is numpy object!\n",
    "from sklearn.metrics import confusion_matrix\n",
    "\n",
    "with torch.no_grad():\n",
    "    y_test_pred_probability = model(X_test)\n",
    "    y_test_pred = torch.argmax(y_test_pred_probability, axis=1)\n",
    "    \n",
    "    print(\"Predicted label results\")\n",
    "    print(y_test_pred)\n",
    "    print(\"Target label results\")\n",
    "    print(y_test)\n",
    "    \n",
    "    print(\"Confusion matrix result\")\n",
    "    print(confusion_matrix(y_test.cpu().numpy(), y_test_pred.cpu().numpy()))"
   ]
  },
  {
   "cell_type": "markdown",
   "metadata": {},
   "source": [
    "# Prediction examples"
   ]
  },
  {
   "cell_type": "code",
   "execution_count": 14,
   "metadata": {},
   "outputs": [
    {
     "data": {
      "image/png": "[encoded data removed]",
      "text/plain": [
       "<Figure size 432x288 with 2 Axes>"
      ]
     },
     "metadata": {
      "needs_background": "light"
     },
     "output_type": "display_data"
    },
    {
     "name": "stdout",
     "output_type": "stream",
     "text": [
      "Predicted Probability \n",
      " tensor([[2.6931e-05, 9.7739e-01, 3.1856e-03, 1.0149e-02, 2.3354e-04, 8.0615e-04,\n",
      "         8.2746e-04, 1.4531e-03, 4.3226e-03, 1.6012e-03]], device='cuda:0',\n",
      "       dtype=torch.float64)\n",
      "Predicted label :  1\n",
      "True label :  1\n"
     ]
    },
    {
     "data": {
      "image/png": "[encoded data removed]",
      "text/plain": [
       "<Figure size 432x288 with 2 Axes>"
      ]
     },
     "metadata": {
      "needs_background": "light"
     },
     "output_type": "display_data"
    },
    {
     "name": "stdout",
     "output_type": "stream",
     "text": [
      "Predicted Probability \n",
      " tensor([[0.0638, 0.0042, 0.2429, 0.0010, 0.1271, 0.0488, 0.4451, 0.0025, 0.0359,\n",
      "         0.0286]], device='cuda:0', dtype=torch.float64)\n",
      "Predicted label :  6\n",
      "True label :  5\n"
     ]
    },
    {
     "data": {
      "image/png": "[encoded data removed]",
      "text/plain": [
       "<Figure size 432x288 with 2 Axes>"
      ]
     },
     "metadata": {
      "needs_background": "light"
     },
     "output_type": "display_data"
    },
    {
     "name": "stdout",
     "output_type": "stream",
     "text": [
      "Predicted Probability \n",
      " tensor([[6.5249e-01, 1.8469e-05, 6.9222e-02, 8.9536e-03, 1.3763e-03, 2.3566e-02,\n",
      "         1.6311e-01, 2.5659e-02, 1.9419e-02, 3.6189e-02]], device='cuda:0',\n",
      "       dtype=torch.float64)\n",
      "Predicted label :  0\n",
      "True label :  0\n"
     ]
    },
    {
     "data": {
      "image/png": "[encoded data removed]",
      "text/plain": [
       "<Figure size 432x288 with 2 Axes>"
      ]
     },
     "metadata": {
      "needs_background": "light"
     },
     "output_type": "display_data"
    },
    {
     "name": "stdout",
     "output_type": "stream",
     "text": [
      "Predicted Probability \n",
      " tensor([[9.5572e-01, 1.6722e-06, 3.0864e-03, 1.0506e-02, 3.2444e-04, 1.4343e-02,\n",
      "         2.8178e-03, 4.4603e-03, 7.8027e-04, 7.9593e-03]], device='cuda:0',\n",
      "       dtype=torch.float64)\n",
      "Predicted label :  0\n",
      "True label :  0\n"
     ]
    },
    {
     "data": {
      "image/png": "[encoded data removed]",
      "text/plain": [
       "<Figure size 432x288 with 2 Axes>"
      ]
     },
     "metadata": {
      "needs_background": "light"
     },
     "output_type": "display_data"
    },
    {
     "name": "stdout",
     "output_type": "stream",
     "text": [
      "Predicted Probability \n",
      " tensor([[1.0559e-04, 6.9598e-01, 1.1370e-02, 4.0704e-02, 4.6416e-03, 4.5398e-02,\n",
      "         2.0248e-02, 6.8888e-03, 1.4480e-01, 2.9867e-02]], device='cuda:0',\n",
      "       dtype=torch.float64)\n",
      "Predicted label :  1\n",
      "True label :  1\n"
     ]
    },
    {
     "data": {
      "image/png": "[encoded data removed]",
      "text/plain": [
       "<Figure size 432x288 with 2 Axes>"
      ]
     },
     "metadata": {
      "needs_background": "light"
     },
     "output_type": "display_data"
    },
    {
     "name": "stdout",
     "output_type": "stream",
     "text": [
      "Predicted Probability \n",
      " tensor([[1.6992e-01, 2.4626e-04, 3.5750e-01, 4.0039e-03, 2.0854e-01, 1.6326e-02,\n",
      "         1.3820e-01, 5.4264e-02, 4.1381e-02, 9.6153e-03]], device='cuda:0',\n",
      "       dtype=torch.float64)\n",
      "Predicted label :  2\n",
      "True label :  4\n"
     ]
    },
    {
     "data": {
      "image/png": "[encoded data removed]",
      "text/plain": [
       "<Figure size 432x288 with 2 Axes>"
      ]
     },
     "metadata": {
      "needs_background": "light"
     },
     "output_type": "display_data"
    },
    {
     "name": "stdout",
     "output_type": "stream",
     "text": [
      "Predicted Probability \n",
      " tensor([[4.5500e-03, 1.2507e-05, 2.2275e-05, 7.8205e-05, 1.1077e-02, 7.6225e-03,\n",
      "         3.2955e-05, 9.4546e-01, 1.5823e-03, 2.9560e-02]], device='cuda:0',\n",
      "       dtype=torch.float64)\n",
      "Predicted label :  7\n",
      "True label :  7\n"
     ]
    },
    {
     "data": {
      "image/png": "[encoded data removed]",
      "text/plain": [
       "<Figure size 432x288 with 2 Axes>"
      ]
     },
     "metadata": {
      "needs_background": "light"
     },
     "output_type": "display_data"
    },
    {
     "name": "stdout",
     "output_type": "stream",
     "text": [
      "Predicted Probability \n",
      " tensor([[1.4572e-04, 4.8464e-04, 4.3766e-03, 2.4442e-02, 7.1902e-03, 2.3806e-02,\n",
      "         1.6079e-03, 7.5309e-03, 8.9661e-01, 3.3803e-02]], device='cuda:0',\n",
      "       dtype=torch.float64)\n",
      "Predicted label :  8\n",
      "True label :  8\n"
     ]
    },
    {
     "data": {
      "image/png": "[encoded data removed]",
      "text/plain": [
       "<Figure size 432x288 with 2 Axes>"
      ]
     },
     "metadata": {
      "needs_background": "light"
     },
     "output_type": "display_data"
    },
    {
     "name": "stdout",
     "output_type": "stream",
     "text": [
      "Predicted Probability \n",
      " tensor([[5.2475e-05, 4.9928e-07, 1.6290e-03, 1.7821e-06, 4.3221e-03, 5.4480e-05,\n",
      "         9.9324e-01, 2.7578e-06, 2.3618e-04, 4.5834e-04]], device='cuda:0',\n",
      "       dtype=torch.float64)\n",
      "Predicted label :  6\n",
      "True label :  6\n"
     ]
    },
    {
     "data": {
      "image/png": "[encoded data removed]",
      "text/plain": [
       "<Figure size 432x288 with 2 Axes>"
      ]
     },
     "metadata": {
      "needs_background": "light"
     },
     "output_type": "display_data"
    },
    {
     "name": "stdout",
     "output_type": "stream",
     "text": [
      "Predicted Probability \n",
      " tensor([[4.7995e-01, 6.4217e-04, 4.0136e-01, 8.3663e-02, 2.7604e-04, 3.9416e-03,\n",
      "         1.6802e-03, 1.1486e-02, 1.5355e-02, 1.6436e-03]], device='cuda:0',\n",
      "       dtype=torch.float64)\n",
      "Predicted label :  0\n",
      "True label :  0\n"
     ]
    }
   ],
   "source": [
    "# Show 10 prediction examples\n",
    "with torch.no_grad():\n",
    "    for i in range(10):\n",
    "        # Make random index\n",
    "        idx = np.random.randint(0, y_test.shape[0])\n",
    "        # Make a prediction\n",
    "        y_test_pred_probability = model(X_test[idx].unsqueeze(dim=0))\n",
    "        y_test_pred = torch.argmax(y_test_pred_probability, axis=1)\n",
    "        \n",
    "        # Show a image\n",
    "        _, (ax1, ax2) = plt.subplots(1, 2)\n",
    "        \n",
    "        ax1.imshow(X_test[idx].cpu().view(shape), cmap=\"gray\")\n",
    "        ax2.bar(np.arange(10), y_test_pred_probability.cpu().detach().squeeze())\n",
    "        plt.show()\n",
    "        \n",
    "        print(\"Predicted Probability \\n\", y_test_pred_probability)\n",
    "        print(\"Predicted label : \", y_test_pred.item())\n",
    "        print(\"True label : \", y_test[idx].item())"
   ]
  },
  {
   "cell_type": "markdown",
   "metadata": {},
   "source": [
    "# Simpler implementation (with torch.nn.CrossEntropyLoss())"
   ]
  },
  {
   "cell_type": "code",
   "execution_count": 17,
   "metadata": {},
   "outputs": [
    {
     "name": "stdout",
     "output_type": "stream",
     "text": [
      "Training...\n",
      "step 10:  1.0328568503900695\n",
      "step 20:  0.751768942650713\n",
      "step 30:  0.6394982290008394\n",
      "step 40:  0.5770478461221845\n",
      "step 50:  0.5364156752653514\n",
      "step 60:  0.5074467134535419\n",
      "step 70:  0.4855159359247222\n",
      "step 80:  0.46819522991791496\n",
      "step 90:  0.4540785834823891\n",
      "step 100:  0.4422910364745702\n",
      "Finish training\n"
     ]
    }
   ],
   "source": [
    "model = torch.nn.Sequential(\n",
    "    torch.nn.Linear(calculate_vector_size(shape), 10)).to(dtype=dtype, device=device)\n",
    "\n",
    "criterion = torch.nn.CrossEntropyLoss() # CrossEntropyLoss = (log)Softmax + NLLLoss (Automatically calculate softmax function)\n",
    "optimizer = torch.optim.SGD(model.parameters(), lr=learning_rate)\n",
    "\n",
    "losses = []\n",
    "\n",
    "print(\"Training...\")\n",
    "\n",
    "for epoch in range(training_epochs):\n",
    "    optimizer.zero_grad()\n",
    "    \n",
    "    y_train_pred = model(X_train)\n",
    "    loss = criterion(y_train_pred, y_train)\n",
    "\n",
    "    losses.append(loss.item())\n",
    "    \n",
    "    if (epoch + 1) % display_step == 0:\n",
    "        print(\"step \" + str(epoch+1) + \": \", losses[-1])\n",
    "    \n",
    "    loss.backward()\n",
    "    optimizer.step()\n",
    "    \n",
    "print(\"Finish training\")"
   ]
  },
  {
   "cell_type": "markdown",
   "metadata": {},
   "source": [
    "# Plot the loss (Review)"
   ]
  },
  {
   "cell_type": "code",
   "execution_count": 18,
   "metadata": {},
   "outputs": [
    {
     "data": {
      "image/png": "[encoded data removed]",
      "text/plain": [
       "<Figure size 432x288 with 1 Axes>"
      ]
     },
     "metadata": {
      "needs_background": "light"
     },
     "output_type": "display_data"
    }
   ],
   "source": [
    "plt.figure()\n",
    "plt.plot(losses, label=\"loss\")\n",
    "plt.title(\"Loss\")\n",
    "plt.legend()\n",
    "plt.show()"
   ]
  },
  {
   "cell_type": "code",
   "execution_count": 19,
   "metadata": {},
   "outputs": [
    {
     "name": "stdout",
     "output_type": "stream",
     "text": [
      "Test accuracy :  89.14999999999999 %\n"
     ]
    }
   ],
   "source": [
    "with torch.no_grad():\n",
    "    test_corrects = 0\n",
    "    test_total = 0\n",
    "    \n",
    "    outputs = model(X_test)\n",
    "    _, predictions = torch.max(outputs, axis=1)\n",
    "    test_corrects += (y_test == predictions).sum().item()\n",
    "    test_total += X_test.size(0)\n",
    "    print(\"Test accuracy : \", (test_corrects / test_total) * 100, \"%\")"
   ]
  },
  {
   "cell_type": "code",
   "execution_count": null,
   "metadata": {},
   "outputs": [],
   "source": []
  },
  {
   "cell_type": "code",
   "execution_count": null,
   "metadata": {},
   "outputs": [],
   "source": []
  }
 ],
 "metadata": {
  "kernelspec": {
   "display_name": "Python 3",
   "language": "python",
   "name": "python3"
  },
  "language_info": {
   "codemirror_mode": {
    "name": "ipython",
    "version": 3
   },
   "file_extension": ".py",
   "mimetype": "text/x-python",
   "name": "python",
   "nbconvert_exporter": "python",
   "pygments_lexer": "ipython3",
   "version": "3.7.6"
  }
 },
 "nbformat": 4,
 "nbformat_minor": 2
}

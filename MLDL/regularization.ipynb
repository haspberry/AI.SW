{
 "cells": [
  {
   "cell_type": "markdown",
   "metadata": {},
   "source": [
    "# Library"
   ]
  },
  {
   "cell_type": "code",
   "execution_count": 1,
   "metadata": {},
   "outputs": [],
   "source": [
    "import torch\n",
    "import numpy as np\n",
    "from matplotlib import pyplot as plt\n",
    "\n",
    "import torchvision.utils as utils\n",
    "import torchvision.datasets as datasets\n",
    "import torchvision.transforms as transforms\n",
    "\n",
    "from sklearn.metrics import confusion_matrix"
   ]
  },
  {
   "cell_type": "markdown",
   "metadata": {},
   "source": [
    "# Set torch constant"
   ]
  },
  {
   "cell_type": "code",
   "execution_count": 2,
   "metadata": {},
   "outputs": [],
   "source": [
    "# CUDA Check\n",
    "if torch.cuda.is_available():\n",
    "    device = torch.device(\"cuda\")\n",
    "else:\n",
    "    device = torch.device(\"cpu\")\n",
    "\n",
    "# Set dtype\n",
    "dtype = torch.double"
   ]
  },
  {
   "cell_type": "markdown",
   "metadata": {},
   "source": [
    "# Load data and check the data"
   ]
  },
  {
   "cell_type": "code",
   "execution_count": 3,
   "metadata": {},
   "outputs": [
    {
     "name": "stdout",
     "output_type": "stream",
     "text": [
      "Dataset MNIST\n",
      "    Number of datapoints: 60000\n",
      "    Root location: data/\n",
      "    Split: Train\n",
      "    StandardTransform\n",
      "Transform: ToTensor()\n",
      "Dataset MNIST\n",
      "    Number of datapoints: 10000\n",
      "    Root location: data/\n",
      "    Split: Test\n",
      "    StandardTransform\n",
      "Transform: ToTensor()\n"
     ]
    }
   ],
   "source": [
    "mnist_train = datasets.MNIST(\n",
    "    root=\"data/\",\n",
    "    train=True,\n",
    "    transform=transforms.ToTensor(),\n",
    "    download=True)\n",
    "\n",
    "mnist_test = datasets.MNIST(\n",
    "    root=\"data/\",\n",
    "    train=False,\n",
    "    transform=transforms.ToTensor(),\n",
    "    download=True)\n",
    "\n",
    "print(mnist_train)\n",
    "print(mnist_test)"
   ]
  },
  {
   "cell_type": "code",
   "execution_count": 4,
   "metadata": {},
   "outputs": [
    {
     "name": "stdout",
     "output_type": "stream",
     "text": [
      "Original train example # 33023\n",
      "tensor([[  0,   0,   0,   0,   0,   0,   0,   0,   0,   0,   0,   0,   0,   0,\n",
      "           0,   0,   0,   0,   0,   0,   0,   0,   0,   0,   0,   0,   0,   0],\n",
      "        [  0,   0,   0,   0,   0,   0,   0,   0,   0,   0,   0,   0,   0,   0,\n",
      "           0,   0,   0,   0,   0,   0,   0,   0,   0,   0,   0,   0,   0,   0],\n",
      "        [  0,   0,   0,   0,   0,   0,   0,   0,   0,   0,   0,   0,   0,   0,\n",
      "           0,   0,   0,   0,   0,   0,   0,   0,   0,   0,   0,   0,   0,   0],\n",
      "        [  0,   0,   0,   0,   0,   0,   0,   0,   0,   0,   0,   0,   0,   0,\n",
      "           0,   0,   0,   0,   0,   0,   0,   0,   0,   0,   0,   0,   0,   0],\n",
      "        [  0,   0,   0,   0,   0,   0,   0,   0,   0,   0,   0,   0,   0,   0,\n",
      "           0,   0,   0,   0,   0,   0,   0,   0,   0,   0,   0,   0,   0,   0],\n",
      "        [  0,   0,   0,   0,   0,   0,   0,   0,   0,   0,   0,   0,   0,   0,\n",
      "           0,   0,   0,   0,   0,   0,   0,   0,   0,   0,   0,   0,   0,   0],\n",
      "        [  0,   0,   0,   0,   0,   0,   0,   0,   0,   0,   0,   0,   0,   0,\n",
      "           0,  38,  85, 117, 225, 225, 226, 178,  85,  28,   0,   0,   0,   0],\n",
      "        [  0,   0,   0,   0,   0,   0,   0,   0,   0,   0,   0,   0,   0,  23,\n",
      "         197, 222, 252, 252, 252, 252, 253, 252, 252, 121,  25,   0,   0,   0],\n",
      "        [  0,   0,   0,   0,   0,   0,   0,   0,   0,   0,   0,   0,  23, 131,\n",
      "         252, 253, 252, 252, 252, 252, 253, 252, 252, 252, 189,   0,   0,   0],\n",
      "        [  0,   0,   0,   0,   0,   0,   0,   0,   0,   0,   0,   0, 197, 252,\n",
      "         252, 253, 252, 141, 112, 112, 112, 158, 252, 252, 189,   0,   0,   0],\n",
      "        [  0,   0,   0,   0,   0,   0,   0,   0,   0,   0,  51, 238, 253, 253,\n",
      "         253, 204,  15,   0,   0,   0,   0, 163, 253, 253, 174,   0,   0,   0],\n",
      "        [  0,   0,   0,   0,   0,   0,   0,   0,   0,  48, 159, 252, 252, 195,\n",
      "         167,  15,   0,   0,   0,   0,  86, 219, 252, 252, 204,   0,   0,   0],\n",
      "        [  0,   0,   0,   0,   0,   0,   0,   0,  23, 227, 253, 252, 252, 161,\n",
      "           0,   0,   0,   0,   0,   0, 143, 252, 252, 245,  87,   0,   0,   0],\n",
      "        [  0,   0,   0,   0,   0,   0,   0,   0,  44, 252, 253, 252, 120,  28,\n",
      "           0,   0,   0,   0,   0,   0, 128, 252, 252, 223,   0,   0,   0,   0],\n",
      "        [  0,   0,   0,   0,   0,   0,  48, 140, 215, 252, 253, 127,  25,   0,\n",
      "           0,   0,   0,   0,  95, 140, 253, 252, 173, 145,   0,   0,   0,   0],\n",
      "        [  0,   0,   0,   0,   0,   0,  38, 222, 253, 253, 255, 106,   0,   0,\n",
      "           0,   0,   0,   0,  92, 253, 255, 253,  56,   0,   0,   0,   0,   0],\n",
      "        [  0,   0,   0,   0,   0,   0, 131, 252, 252, 252, 106,   3,   0,   0,\n",
      "           0,   0,   0, 176, 243, 252, 253, 129,   6,   0,   0,   0,   0,   0],\n",
      "        [  0,   0,   0,   0,   0,   0, 225, 252, 252, 220,   0,   0,   0,   0,\n",
      "           0,  57, 182, 240, 252, 252, 133,   6,   0,   0,   0,   0,   0,   0],\n",
      "        [  0,   0,   0,   0,   0,  76, 243, 252, 233,  37,   0,   0,  23,  44,\n",
      "         169, 253, 252, 252, 233, 145,   0,   0,   0,   0,   0,   0,   0,   0],\n",
      "        [  0,   0,   0,   0,   0, 191, 252, 252, 145,   0, 141, 140, 227, 252,\n",
      "         252, 253, 252, 141,  37,   0,   0,   0,   0,   0,   0,   0,   0,   0],\n",
      "        [  0,   0,   0,   0,   0, 114, 253, 253, 253, 253, 255, 253, 253, 253,\n",
      "         253, 204, 140,  31,   0,   0,   0,   0,   0,   0,   0,   0,   0,   0],\n",
      "        [  0,   0,   0,   0,   0, 113, 252, 252, 252, 252, 253, 252, 252, 195,\n",
      "          89,  15,   0,   0,   0,   0,   0,   0,   0,   0,   0,   0,   0,   0],\n",
      "        [  0,   0,   0,   0,   0,  88, 214, 252, 252, 220, 196, 148,  55,  19,\n",
      "           0,   0,   0,   0,   0,   0,   0,   0,   0,   0,   0,   0,   0,   0],\n",
      "        [  0,   0,   0,   0,   0,   0,  28,  84,  84,  37,   0,   0,   0,   0,\n",
      "           0,   0,   0,   0,   0,   0,   0,   0,   0,   0,   0,   0,   0,   0],\n",
      "        [  0,   0,   0,   0,   0,   0,   0,   0,   0,   0,   0,   0,   0,   0,\n",
      "           0,   0,   0,   0,   0,   0,   0,   0,   0,   0,   0,   0,   0,   0],\n",
      "        [  0,   0,   0,   0,   0,   0,   0,   0,   0,   0,   0,   0,   0,   0,\n",
      "           0,   0,   0,   0,   0,   0,   0,   0,   0,   0,   0,   0,   0,   0],\n",
      "        [  0,   0,   0,   0,   0,   0,   0,   0,   0,   0,   0,   0,   0,   0,\n",
      "           0,   0,   0,   0,   0,   0,   0,   0,   0,   0,   0,   0,   0,   0],\n",
      "        [  0,   0,   0,   0,   0,   0,   0,   0,   0,   0,   0,   0,   0,   0,\n",
      "           0,   0,   0,   0,   0,   0,   0,   0,   0,   0,   0,   0,   0,   0]],\n",
      "       dtype=torch.uint8)\n"
     ]
    },
    {
     "data": {
      "image/png": "[encoded data removed]",
      "text/plain": [
       "<Figure size 432x288 with 1 Axes>"
      ]
     },
     "metadata": {
      "needs_background": "light"
     },
     "output_type": "display_data"
    }
   ],
   "source": [
    "# Rename the data and labels\n",
    "X_train = mnist_train.data\n",
    "y_train = mnist_train.targets\n",
    "X_test = mnist_test.data\n",
    "y_test = mnist_test.targets\n",
    "\n",
    "# Data check\n",
    "idx = np.random.randint(0, X_train.shape[0])\n",
    "\n",
    "print(\"Original train example # \" + str(idx))\n",
    "print(X_train[idx])\n",
    "\n",
    "plt.figure()\n",
    "plt.imshow(X_train[idx], cmap='gray')\n",
    "plt.title(y_train[idx].item())\n",
    "plt.show()"
   ]
  },
  {
   "cell_type": "markdown",
   "metadata": {},
   "source": [
    "# Make custom dataloader"
   ]
  },
  {
   "cell_type": "code",
   "execution_count": 5,
   "metadata": {},
   "outputs": [
    {
     "name": "stdout",
     "output_type": "stream",
     "text": [
      "Data shape :  torch.Size([28, 28])\n"
     ]
    }
   ],
   "source": [
    "# Check a example's shape\n",
    "shape = X_train.shape[1:]\n",
    "print(\"Data shape : \", shape)\n",
    "\n",
    "# Calculate vector size from shape\n",
    "def calculate_vector_size(shape):\n",
    "    v = 1\n",
    "    for s in shape:\n",
    "        v *= s\n",
    "    return v\n",
    "\n",
    "# Construct custom dataloader for train\n",
    "class MNIST_Dataset(torch.utils.data.Dataset):\n",
    "    # Initialize and preprocess the data\n",
    "    def __init__(self, is_train):\n",
    "        # MNIST data convert to cuda tensor and change the data type\n",
    "        if is_train:\n",
    "            X = X_train.to(dtype=dtype, device=device)\n",
    "            y = y_train.to(device=device)\n",
    "        else:\n",
    "            X = X_test.to(dtype=dtype, device=device)\n",
    "            y = y_test.to(device=device)\n",
    "        \n",
    "        # Normalize\n",
    "        X = self._normalize(X, 0, 255)\n",
    "        \n",
    "        # Reshape\n",
    "        vector_size = calculate_vector_size(X_train.shape[1:])\n",
    "        X = self._reshape(X, vector_size)\n",
    "        \n",
    "        # Move to the class object\n",
    "        self.X = X\n",
    "        self.y = y\n",
    "    \n",
    "    def __len__(self):\n",
    "        return self.X.shape[0]\n",
    "    \n",
    "    def __getitem__(self, idx):\n",
    "        return self.X[idx], self.y[idx]\n",
    "    \n",
    "    def _normalize(self, data, min_value, max_value):\n",
    "        return (data - min_value) / (max_value - min_value)\n",
    "    \n",
    "    def _reshape(self, data, vector_size):\n",
    "        return data.view(-1, vector_size)\n",
    "    "
   ]
  },
  {
   "cell_type": "markdown",
   "metadata": {},
   "source": [
    "# Set hyperparameters"
   ]
  },
  {
   "cell_type": "code",
   "execution_count": 6,
   "metadata": {},
   "outputs": [],
   "source": [
    "# Hyperparameters\n",
    "learning_rate = 0.1\n",
    "training_epochs = 100\n",
    "display_step = 10\n",
    "\n",
    "batch_size = 100\n",
    "\n",
    "D_in = calculate_vector_size(shape)\n",
    "H = 512\n",
    "D_out = 10"
   ]
  },
  {
   "cell_type": "markdown",
   "metadata": {},
   "source": [
    "# Make batch with dataloader"
   ]
  },
  {
   "cell_type": "code",
   "execution_count": 7,
   "metadata": {},
   "outputs": [
    {
     "name": "stdout",
     "output_type": "stream",
     "text": [
      "batch train data example shape :  torch.Size([100, 784])\n",
      "batch test data example shape :  torch.Size([100, 784])\n"
     ]
    },
    {
     "data": {
      "image/png": "[encoded data removed]",
      "text/plain": [
       "<Figure size 432x288 with 1 Axes>"
      ]
     },
     "metadata": {
      "needs_background": "light"
     },
     "output_type": "display_data"
    },
    {
     "data": {
      "image/png": "[encoded data removed]",
      "text/plain": [
       "<Figure size 432x288 with 1 Axes>"
      ]
     },
     "metadata": {
      "needs_background": "light"
     },
     "output_type": "display_data"
    }
   ],
   "source": [
    "# Show image of batch data\n",
    "def show_grid_image(img, title):\n",
    "    n_img = img.shape[0]\n",
    "    img = utils.make_grid(img.cpu().detach(), nrow = int(np.ceil(np.sqrt(n_img))))\n",
    "    \n",
    "    np_img = img.numpy()\n",
    "    \n",
    "    plt.figure()\n",
    "    plt.imshow(np.transpose(np_img, (1, 2, 0)), cmap='gray')\n",
    "    plt.title(title)\n",
    "    plt.show()\n",
    "\n",
    "# Instantiate datalodaer\n",
    "train_data_loader = torch.utils.data.DataLoader(MNIST_Dataset(is_train=True), batch_size, shuffle=True)\n",
    "test_data_loader = torch.utils.data.DataLoader(MNIST_Dataset(is_train=False), batch_size, shuffle=True)\n",
    "\n",
    "# Extract batch examples\n",
    "batch_train_data_example, batch_train_label_example = next(iter(train_data_loader))\n",
    "batch_test_data_example, batch_test_label_example = next(iter(test_data_loader))\n",
    "print(\"batch train data example shape : \", batch_train_data_example.shape)\n",
    "print(\"batch test data example shape : \", batch_test_data_example.shape)\n",
    "\n",
    "# Current batch dimension (100, 784) -> batch dimension to show image (100, 1, 28, 28)\n",
    "show_grid_image(batch_train_data_example.reshape(batch_size, 1, 28, 28), \"Batch train images example\")\n",
    "show_grid_image(batch_test_data_example.reshape(batch_size, 1, 28, 28), \"Batch test images example\")"
   ]
  },
  {
   "cell_type": "code",
   "execution_count": 8,
   "metadata": {},
   "outputs": [],
   "source": [
    "# Convert to cuda tensor and reshape the whole data\n",
    "X_train = X_train.to(dtype=dtype, device=device).view(X_train.shape[0], D_in)\n",
    "y_train = y_train.to(device=device)\n",
    "X_test = X_test.to(dtype=dtype, device=device).view(X_test.shape[0], D_in)\n",
    "y_test = y_test.to(device=device)"
   ]
  },
  {
   "cell_type": "markdown",
   "metadata": {},
   "source": [
    "# Construct the model"
   ]
  },
  {
   "cell_type": "code",
   "execution_count": 9,
   "metadata": {},
   "outputs": [],
   "source": [
    "# Initialize model parameters\n",
    "def initialize_parameters(model):\n",
    "    for p in model.parameters():\n",
    "        if (p.dim() > 1):\n",
    "            torch.nn.init.xavier_normal_(p)\n",
    "        else:\n",
    "            torch.nn.init.uniform_(p, 0.1, 0.2)\n",
    "\n",
    "# Design the model\n",
    "class MLP(torch.nn.Module):\n",
    "    def __init__(self, D_in, H, D_out):\n",
    "        super(MLP, self).__init__()\n",
    "        self.linear1 = torch.nn.Linear(in_features=D_in, out_features=H)\n",
    "        self.activation = torch.nn.Tanh()\n",
    "        self.linear2 = torch.nn.Linear(in_features=H, out_features=D_out)\n",
    "        \n",
    "    def forward(self, x):\n",
    "        output = self.linear1(x)\n",
    "        output = self.activation(output)\n",
    "        output = self.linear2(output)\n",
    "        return output\n",
    "\n",
    "# Construct the model, loss, optimizer\n",
    "model = MLP(D_in, H, D_out).to(dtype=dtype, device=device)\n",
    "criterion = torch.nn.CrossEntropyLoss()\n",
    "optimizer = torch.optim.SGD(model.parameters(), lr=learning_rate)"
   ]
  },
  {
   "cell_type": "markdown",
   "metadata": {},
   "source": [
    "# Train the model"
   ]
  },
  {
   "cell_type": "code",
   "execution_count": 10,
   "metadata": {},
   "outputs": [
    {
     "name": "stdout",
     "output_type": "stream",
     "text": [
      "Training...\n",
      "epoch 10 :  0.671453225301558\n",
      "epoch 20 :  0.33565934190231744\n",
      "epoch 30 :  0.1995351882474737\n",
      "epoch 40 :  0.12678147927766623\n",
      "epoch 50 :  0.08538193977156545\n",
      "epoch 60 :  0.06037335770663066\n",
      "epoch 70 :  0.044581471135828256\n",
      "epoch 80 :  0.03435324600167005\n",
      "epoch 90 :  0.02741480777203225\n",
      "epoch 100 :  0.022625967089773727\n",
      "Finsh training\n"
     ]
    }
   ],
   "source": [
    "losses = []\n",
    "\n",
    "model.train()\n",
    "initialize_parameters(model)\n",
    "\n",
    "print(\"Training...\")\n",
    "\n",
    "for epoch in range(training_epochs):\n",
    "    avg_loss = 0\n",
    "    \n",
    "    for data in train_data_loader:\n",
    "        # Extract the data\n",
    "        images, labels = data\n",
    "        \n",
    "        # Initialize optimizer\n",
    "        optimizer.zero_grad()\n",
    "        \n",
    "        # Calculate model outputs and loss\n",
    "        outputs = model(images)\n",
    "        loss = criterion(outputs, labels)\n",
    "        avg_loss += loss.item() / labels.size(0)\n",
    "        \n",
    "        # Calculate loss and update weights\n",
    "        loss.backward()\n",
    "        optimizer.step()\n",
    "    \n",
    "    losses.append(avg_loss)\n",
    "    \n",
    "    if (epoch + 1) % display_step == 0:\n",
    "        print(\"epoch \" + str(epoch + 1) + \" : \", losses[-1])\n",
    "    \n",
    "print(\"Finsh training\")"
   ]
  },
  {
   "cell_type": "markdown",
   "metadata": {},
   "source": [
    "# Plot the train result"
   ]
  },
  {
   "cell_type": "code",
   "execution_count": 11,
   "metadata": {},
   "outputs": [],
   "source": [
    "def plot_losses(losses):\n",
    "    # Set figure and show the graph\n",
    "    plt.figure()\n",
    "    plt.plot(losses, label=\"loss\")\n",
    "    plt.legend()\n",
    "    plt.show()\n",
    "\n",
    "def show_accuracies(model, train_data_loader, test_data_loader):\n",
    "    # We don't need to calculate the gradients\n",
    "    with torch.no_grad():\n",
    "        # Change the mode for model to evaluate\n",
    "        model.eval()\n",
    "    \n",
    "        # Show train accuracy\n",
    "        train_corrects = 0\n",
    "        train_total = 0\n",
    "    \n",
    "        # If your graphic card can't afford to compute model at once, you can use the batch!\n",
    "        for data in train_data_loader:\n",
    "            images, labels = data\n",
    "            outputs = model(images)\n",
    "            _, predictions = torch.max(outputs, axis=1)\n",
    "            train_total += labels.size(0)\n",
    "            train_corrects += (labels == predictions).sum().item()\n",
    "    \n",
    "        print(\"Train accuracy : \", (train_corrects / train_total) * 100, \"%\")\n",
    "    \n",
    "        # Show test accuracy\n",
    "        test_corrects = 0\n",
    "        test_total = 0\n",
    "    \n",
    "        # If your graphic card can't afford to compute model at once, you can use the batch!\n",
    "        for data in test_data_loader:\n",
    "            images, labels = data\n",
    "            outputs = model(images)\n",
    "            _, predictions = torch.max(outputs, axis=1)\n",
    "            test_total += labels.size(0)\n",
    "            test_corrects += (labels == predictions).sum().item()\n",
    "            \n",
    "        print(\"Test accuracy : \", (test_corrects / test_total) * 100, \"%\")\n",
    "    \n",
    "def show_confusion_matrix(model, test_data_loader):\n",
    "    # We don't need to calculate the gradients\n",
    "    with torch.no_grad():\n",
    "        # Change the mode for model to evaluate\n",
    "        model.eval()\n",
    "    \n",
    "        # Show confusion matrix\n",
    "        total_predictions = torch.empty(0).to(dtype=torch.long, device=device)\n",
    "        total_labels = torch.empty(0).to(dtype=torch.long, device=device)\n",
    "    \n",
    "        for data in test_data_loader:\n",
    "            images, labels = data\n",
    "            outputs = model(images)\n",
    "            _, predictions = torch.max(outputs, axis=1)\n",
    "            total_predictions = torch.cat((predictions, total_predictions), axis=0)\n",
    "            total_labels = torch.cat((labels, total_labels), axis=0)\n",
    "        \n",
    "        total_predictions_ = total_predictions.cpu().detach().numpy()\n",
    "        total_labels_ = total_labels.cpu().detach().numpy()\n",
    "    \n",
    "        print(\"Confusion matrix \\n\", confusion_matrix(total_labels_, total_predictions_))"
   ]
  },
  {
   "cell_type": "code",
   "execution_count": 12,
   "metadata": {},
   "outputs": [
    {
     "data": {
      "image/png": "[encoded data removed]",
      "text/plain": [
       "<Figure size 432x288 with 1 Axes>"
      ]
     },
     "metadata": {
      "needs_background": "light"
     },
     "output_type": "display_data"
    },
    {
     "name": "stdout",
     "output_type": "stream",
     "text": [
      "Train accuracy :  99.99833333333333 %\n",
      "Test accuracy :  98.09 %\n",
      "Confusion matrix \n",
      " [[ 973    0    1    0    1    1    0    2    1    1]\n",
      " [   0 1124    3    2    0    1    2    1    2    0]\n",
      " [   4    1 1009    1    2    0    4    6    5    0]\n",
      " [   0    0    2  995    0    5    0    1    3    4]\n",
      " [   1    0    2    1  965    0    3    0    0   10]\n",
      " [   4    0    0    6    2  870    3    0    4    3]\n",
      " [   5    2    0    1    5    3  938    0    4    0]\n",
      " [   1    2    5    2    1    0    0 1007    5    5]\n",
      " [   2    2    5    3    3    4    2    3  947    3]\n",
      " [   1    2    0    6    8    2    0    6    3  981]]\n"
     ]
    }
   ],
   "source": [
    "# Plot losses\n",
    "plot_losses(losses)\n",
    "\n",
    "# Show accuracy\n",
    "show_accuracies(model, train_data_loader, test_data_loader)\n",
    "\n",
    "# Show confusion matrix\n",
    "show_confusion_matrix(model, test_data_loader)"
   ]
  },
  {
   "cell_type": "markdown",
   "metadata": {},
   "source": [
    "# Save the model parameters"
   ]
  },
  {
   "cell_type": "code",
   "execution_count": 13,
   "metadata": {},
   "outputs": [
    {
     "name": "stdout",
     "output_type": "stream",
     "text": [
      "Model's state_dict:\n",
      "linear1.weight \t torch.Size([512, 784])\n",
      "linear1.bias \t torch.Size([512])\n",
      "linear2.weight \t torch.Size([10, 512])\n",
      "linear2.bias \t torch.Size([10])\n",
      "Optimizer's state_dict:\n",
      "state \t {}\n",
      "param_groups \t [{'lr': 0.1, 'momentum': 0, 'dampening': 0, 'weight_decay': 0, 'nesterov': False, 'params': [2710150193784, 2710629553000, 2710629552200, 2710629553080]}]\n"
     ]
    }
   ],
   "source": [
    "# Save the model paramters\n",
    "with torch.no_grad():\n",
    "    # Print model's state dictionary\n",
    "    print(\"Model's state_dict:\")\n",
    "    for param_tensor in model.state_dict():\n",
    "        print(param_tensor, \"\\t\", model.state_dict()[param_tensor].size())\n",
    "        \n",
    "    # Print optimizer's state dictionary\n",
    "    print(\"Optimizer's state_dict:\")\n",
    "    for var_name in optimizer.state_dict():\n",
    "        print(var_name, \"\\t\", optimizer.state_dict()[var_name])\n",
    "    \n",
    "    # Save the model parameters\n",
    "    torch.save(model.state_dict(), \"model.pt\")"
   ]
  },
  {
   "cell_type": "markdown",
   "metadata": {},
   "source": [
    "# Load the model parameters"
   ]
  },
  {
   "cell_type": "code",
   "execution_count": 14,
   "metadata": {},
   "outputs": [
    {
     "name": "stdout",
     "output_type": "stream",
     "text": [
      "Evaluate model1 (Not loaded model)\n",
      "Train accuracy :  8.275 %\n",
      "Test accuracy :  7.449999999999999 %\n",
      "Confusion matrix \n",
      " [[ 216   62    0    9   39  404    0    2  248    0]\n",
      " [  83    5    0    0 1043    1    0    0    3    0]\n",
      " [ 157   19    0   15  430  307    0    2  101    1]\n",
      " [ 280   12    0    6  445  195    6    0   63    3]\n",
      " [  26   20    0    7  288  634    4    2    1    0]\n",
      " [ 243   48    0    7  264  208   18    6   87   11]\n",
      " [  91   20    0    8  286  520    0    7   26    0]\n",
      " [ 246   95    0    8   99  538    0   15   27    0]\n",
      " [ 285   44    0    5  407  213    2    7    7    4]\n",
      " [ 203   29    0    9  216  539    0    8    5    0]]\n",
      "Evaluate model2 (Loaded model)\n",
      "Train accuracy :  99.99833333333333 %\n",
      "Test accuracy :  98.09 %\n",
      "Confusion matrix \n",
      " [[ 973    0    1    0    1    1    0    2    1    1]\n",
      " [   0 1124    3    2    0    1    2    1    2    0]\n",
      " [   4    1 1009    1    2    0    4    6    5    0]\n",
      " [   0    0    2  995    0    5    0    1    3    4]\n",
      " [   1    0    2    1  965    0    3    0    0   10]\n",
      " [   4    0    0    6    2  870    3    0    4    3]\n",
      " [   5    2    0    1    5    3  938    0    4    0]\n",
      " [   1    2    5    2    1    0    0 1007    5    5]\n",
      " [   2    2    5    3    3    4    2    3  947    3]\n",
      " [   1    2    0    6    8    2    0    6    3  981]]\n"
     ]
    }
   ],
   "source": [
    "# Not loaded model\n",
    "model1 = MLP(D_in, H, D_out)\n",
    "model1.to(dtype=dtype, device=device)\n",
    "# loaded model\n",
    "model2 = MLP(D_in, H, D_out)\n",
    "model2.to(dtype=dtype, device=device)\n",
    "# Load the model parameters\n",
    "model2.load_state_dict(torch.load(\"model.pt\"))\n",
    "\n",
    "# Evaluate the results\n",
    "# Evaluate the model1\n",
    "print(\"Evaluate model1 (Not loaded model)\")\n",
    "show_accuracies(model1, train_data_loader, test_data_loader)\n",
    "show_confusion_matrix(model1, test_data_loader)\n",
    "\n",
    "# Evaluate the model2\n",
    "print(\"Evaluate model2 (Loaded model)\")\n",
    "show_accuracies(model2, train_data_loader, test_data_loader)\n",
    "show_confusion_matrix(model2, test_data_loader)"
   ]
  },
  {
   "cell_type": "markdown",
   "metadata": {},
   "source": [
    "# Make baseline model"
   ]
  },
  {
   "cell_type": "code",
   "execution_count": 15,
   "metadata": {},
   "outputs": [],
   "source": [
    "# Hyperparameters\n",
    "learning_rate = 0.1\n",
    "training_epochs = 200\n",
    "display_step = 20\n",
    "\n",
    "batch_size = 100\n",
    "\n",
    "D_in = calculate_vector_size(shape)\n",
    "H1 = 1024\n",
    "H2 = 512\n",
    "D_out = 10"
   ]
  },
  {
   "cell_type": "code",
   "execution_count": 16,
   "metadata": {},
   "outputs": [],
   "source": [
    "# Design the model\n",
    "class MLP(torch.nn.Module):\n",
    "    def __init__(self, D_in, H1, H2, D_out):\n",
    "        super(MLP, self).__init__()\n",
    "        self.linear1 = torch.nn.Linear(in_features=D_in, out_features=H1)\n",
    "        self.activation1 = torch.nn.Tanh()\n",
    "        self.linear2 = torch.nn.Linear(in_features=H1, out_features=H2)\n",
    "        self.activation2 = torch.nn.Tanh()\n",
    "        self.linear3= torch.nn.Linear(in_features=H2, out_features=D_out)\n",
    "        \n",
    "    def forward(self, x):\n",
    "        self.h1 = self.linear1(x)\n",
    "        self.a1 = self.activation1(self.h1)\n",
    "        self.h2 = self.linear2(self.a1)\n",
    "        self.a2 = self.activation2(self.h2)\n",
    "        output = self.linear3(self.a2)\n",
    "        return output\n",
    "    \n",
    "    def get_inner_results(self):\n",
    "        return self.h1, self.a1, self.h2, self.a2\n",
    "\n",
    "# Construct the model, loss, optimizer\n",
    "model = MLP(D_in, H1, H2, D_out).to(dtype=dtype, device=device)\n",
    "criterion = torch.nn.CrossEntropyLoss()\n",
    "optimizer = torch.optim.SGD(model.parameters(), lr=learning_rate)"
   ]
  },
  {
   "cell_type": "markdown",
   "metadata": {},
   "source": [
    "# Train the model"
   ]
  },
  {
   "cell_type": "code",
   "execution_count": 17,
   "metadata": {},
   "outputs": [
    {
     "name": "stdout",
     "output_type": "stream",
     "text": [
      "Training...\n",
      "epoch 20 :  0.13373068836737526\n",
      "epoch 40 :  0.0300298360176155\n",
      "epoch 60 :  0.013155736379292274\n",
      "epoch 80 :  0.008038021183100968\n",
      "epoch 100 :  0.005625416306160209\n",
      "epoch 120 :  0.004296151706545538\n",
      "epoch 140 :  0.0034322426395336945\n",
      "epoch 160 :  0.0028423227390321454\n",
      "epoch 180 :  0.0024186427402210623\n",
      "epoch 200 :  0.0020964067539141723\n",
      "Finsh training\n"
     ]
    }
   ],
   "source": [
    "losses = []\n",
    "\n",
    "model.train()\n",
    "initialize_parameters(model)\n",
    "\n",
    "print(\"Training...\")\n",
    "\n",
    "for epoch in range(training_epochs):\n",
    "    avg_loss = 0\n",
    "    \n",
    "    for data in train_data_loader:\n",
    "        # Extract the data\n",
    "        images, labels = data\n",
    "        \n",
    "        # Initialize optimizer\n",
    "        optimizer.zero_grad()\n",
    "        \n",
    "        # Calculate model outputs and loss\n",
    "        outputs = model(images)\n",
    "        loss = criterion(outputs, labels)\n",
    "        avg_loss += loss.item() / labels.size(0)\n",
    "        \n",
    "        # Calculate loss and update weights\n",
    "        loss.backward()\n",
    "        optimizer.step()\n",
    "    \n",
    "    losses.append(avg_loss)\n",
    "    \n",
    "    if (epoch + 1) % display_step == 0:\n",
    "        print(\"epoch \" + str(epoch + 1) + \" : \", losses[-1])\n",
    "    \n",
    "print(\"Finsh training\")\n",
    "\n",
    "# Save the model parameters\n",
    "torch.save(model.state_dict(), \"mlp.pt\")"
   ]
  },
  {
   "cell_type": "markdown",
   "metadata": {},
   "source": [
    "# Train results"
   ]
  },
  {
   "cell_type": "code",
   "execution_count": 18,
   "metadata": {},
   "outputs": [
    {
     "data": {
      "image/png": "[encoded data removed]",
      "text/plain": [
       "<Figure size 432x288 with 1 Axes>"
      ]
     },
     "metadata": {
      "needs_background": "light"
     },
     "output_type": "display_data"
    },
    {
     "name": "stdout",
     "output_type": "stream",
     "text": [
      "Train accuracy :  100.0 %\n",
      "Test accuracy :  98.24000000000001 %\n",
      "Confusion matrix \n",
      " [[ 973    0    1    1    1    0    2    1    1    0]\n",
      " [   0 1125    2    2    0    1    2    1    2    0]\n",
      " [   4    1 1009    4    1    0    3    5    5    0]\n",
      " [   0    0    1  993    0    3    0    3    1    9]\n",
      " [   1    0    2    1  962    0    3    2    0   11]\n",
      " [   3    0    0    8    1  867    5    1    4    3]\n",
      " [   3    2    1    1    5    5  940    0    1    0]\n",
      " [   1    2    5    2    1    0    0 1010    2    5]\n",
      " [   2    0    2    2    2    4    0    2  956    4]\n",
      " [   1    2    0    2    8    1    0    6    0  989]]\n"
     ]
    }
   ],
   "source": [
    "# Plot losses\n",
    "plot_losses(losses)\n",
    "\n",
    "# Show accuracy\n",
    "show_accuracies(model, train_data_loader, test_data_loader)\n",
    "\n",
    "# Show confusion matrix\n",
    "show_confusion_matrix(model, test_data_loader)"
   ]
  },
  {
   "cell_type": "markdown",
   "metadata": {},
   "source": [
    "# Analyze model parameters"
   ]
  },
  {
   "cell_type": "code",
   "execution_count": 19,
   "metadata": {},
   "outputs": [],
   "source": [
    "# Plot inner distribution\n",
    "def plot_inner_dist(X, h1, a1, h2, a2):\n",
    "    # Convert tensors to numpy objects\n",
    "    X_ = X.cpu().detach().numpy()\n",
    "    h1_ = h1.cpu().detach().numpy()\n",
    "    a1_ = a1.cpu().detach().numpy()\n",
    "    h2_ = h2.cpu().detach().numpy()\n",
    "    a2_ = a2.cpu().detach().numpy()\n",
    "    \n",
    "    fig, ax = plt.subplots(3, 3, figsize=(10, 10))\n",
    "    ax[0, 0].hist(X_.reshape(-1))\n",
    "    \n",
    "    ax[1, 0].hist(h1_.reshape(-1))\n",
    "    ax[1, 1].hist(a1_.reshape(-1))\n",
    "    ax[1, 2].scatter(h1_[0], a1_[0]) # One example's result\n",
    "    \n",
    "    ax[2, 0].hist(h2_.reshape(-1))\n",
    "    ax[2, 1].hist(a2_.reshape(-1))\n",
    "    ax[2, 2].scatter(h2_[0], a2_[0]) # One example's result\n",
    "    \n",
    "    plt.show()"
   ]
  },
  {
   "cell_type": "code",
   "execution_count": 20,
   "metadata": {},
   "outputs": [
    {
     "name": "stdout",
     "output_type": "stream",
     "text": [
      "Each output's dimension\n",
      "x's shape :  torch.Size([10000, 784])\n",
      "h1's shape :  torch.Size([10000, 1024])\n",
      "a1's shape :  torch.Size([10000, 1024])\n",
      "h2's shape :  torch.Size([10000, 512])\n",
      "a2's shape :  torch.Size([10000, 512])\n"
     ]
    },
    {
     "data": {
      "image/png": "[encoded data removed]",
      "text/plain": [
       "<Figure size 720x720 with 9 Axes>"
      ]
     },
     "metadata": {
      "needs_background": "light"
     },
     "output_type": "display_data"
    }
   ],
   "source": [
    "# Change the model to evaluation model\n",
    "model.eval()\n",
    "\n",
    "# Predict from the model\n",
    "# Total data loader for test data\n",
    "total_data_loader = torch.utils.data.DataLoader(MNIST_Dataset(is_train=False), y_test.size(0), shuffle=True)\n",
    "# Calculate the model\n",
    "for data in total_data_loader:\n",
    "    images, _ = data\n",
    "    y_pred = model(images)\n",
    "\n",
    "# Get inner results from model\n",
    "h1, a1, h2, a2 = model.get_inner_results()\n",
    "\n",
    "# Check dimension of each output\n",
    "print(\"Each output's dimension\")\n",
    "print(\"x's shape : \", images.shape)\n",
    "print(\"h1's shape : \", h1.shape)\n",
    "print(\"a1's shape : \", a1.shape)\n",
    "print(\"h2's shape : \", h2.shape)\n",
    "print(\"a2's shape : \", a2.shape)\n",
    "    \n",
    "plot_inner_dist(images, h1, a1, h2, a2)"
   ]
  },
  {
   "cell_type": "markdown",
   "metadata": {},
   "source": [
    "# Add batch normalization to model"
   ]
  },
  {
   "cell_type": "code",
   "execution_count": 21,
   "metadata": {},
   "outputs": [],
   "source": [
    "# Design the model\n",
    "class MLPB(torch.nn.Module):\n",
    "    def __init__(self, D_in, H1, H2, D_out):\n",
    "        super(MLPB, self).__init__()\n",
    "        self.linear1 = torch.nn.Linear(in_features=D_in, out_features=H1)\n",
    "        self.normalization1 = torch.nn.BatchNorm1d(num_features=H1)\n",
    "        self.activation1 = torch.nn.Tanh()\n",
    "        \n",
    "        self.linear2 = torch.nn.Linear(in_features=H1, out_features=H2)\n",
    "        self.normalization2 = torch.nn.BatchNorm1d(num_features=H2)\n",
    "        self.activation2 = torch.nn.Tanh()\n",
    "        \n",
    "        self.linear3= torch.nn.Linear(in_features=H2, out_features=D_out)\n",
    "        \n",
    "    def forward(self, x):\n",
    "        self.h1 = self.linear1(x)\n",
    "        self.n1 = self.normalization1(self.h1)\n",
    "        self.a1 = self.activation1(self.h1)\n",
    "        \n",
    "        self.h2 = self.linear2(self.a1)\n",
    "        self.n2 = self.normalization2(self.h2)\n",
    "        self.a2 = self.activation2(self.h2)\n",
    "        \n",
    "        output = self.linear3(self.a2)\n",
    "        return output\n",
    "    \n",
    "    def get_inner_results(self):\n",
    "        return self.h1, self.a1, self.h2, self.a2\n",
    "\n",
    "# Construct the model, loss, optimizer\n",
    "model = MLPB(D_in, H1, H2, D_out).to(dtype=dtype, device=device)\n",
    "criterion = torch.nn.CrossEntropyLoss()\n",
    "optimizer = torch.optim.SGD(model.parameters(), lr=learning_rate)"
   ]
  },
  {
   "cell_type": "markdown",
   "metadata": {},
   "source": [
    "# Train the model"
   ]
  },
  {
   "cell_type": "code",
   "execution_count": 22,
   "metadata": {},
   "outputs": [
    {
     "name": "stdout",
     "output_type": "stream",
     "text": [
      "Training...\n",
      "epoch 20 :  0.13249049482589495\n",
      "epoch 40 :  0.029587599850614058\n",
      "epoch 60 :  0.013018194316996082\n",
      "epoch 80 :  0.007953249903401101\n",
      "epoch 100 :  0.005594003039604463\n",
      "epoch 120 :  0.0042549782949718494\n",
      "epoch 140 :  0.0034096449311510537\n",
      "epoch 160 :  0.0028261949218849865\n",
      "epoch 180 :  0.002403340671806031\n",
      "epoch 200 :  0.0020856762453869164\n",
      "Finsh training\n"
     ]
    }
   ],
   "source": [
    "losses = []\n",
    "\n",
    "model.train()\n",
    "initialize_parameters(model)\n",
    "\n",
    "print(\"Training...\")\n",
    "\n",
    "for epoch in range(training_epochs):\n",
    "    avg_loss = 0\n",
    "    \n",
    "    for data in train_data_loader:\n",
    "        # Extract the data\n",
    "        images, labels = data\n",
    "        \n",
    "        # Initialize optimizer\n",
    "        optimizer.zero_grad()\n",
    "        \n",
    "        # Calculate model outputs and loss\n",
    "        outputs = model(images)\n",
    "        loss = criterion(outputs, labels)\n",
    "        avg_loss += loss.item() / labels.size(0)\n",
    "        \n",
    "        # Calculate loss and update weights\n",
    "        loss.backward()\n",
    "        optimizer.step()\n",
    "    \n",
    "    losses.append(avg_loss)\n",
    "    \n",
    "    if (epoch + 1) % display_step == 0:\n",
    "        print(\"epoch \" + str(epoch + 1) + \" : \", losses[-1])\n",
    "    \n",
    "print(\"Finsh training\")\n",
    "\n",
    "# Save the model parameters\n",
    "torch.save(model.state_dict(), \"mlp_with_batch.pt\")"
   ]
  },
  {
   "cell_type": "markdown",
   "metadata": {},
   "source": [
    "# Train results"
   ]
  },
  {
   "cell_type": "code",
   "execution_count": 23,
   "metadata": {
    "scrolled": false
   },
   "outputs": [
    {
     "data": {
      "image/png": "[encoded data removed]",
      "text/plain": [
       "<Figure size 432x288 with 1 Axes>"
      ]
     },
     "metadata": {
      "needs_background": "light"
     },
     "output_type": "display_data"
    },
    {
     "name": "stdout",
     "output_type": "stream",
     "text": [
      "Train accuracy :  100.0 %\n",
      "Test accuracy :  98.2 %\n",
      "Confusion matrix \n",
      " [[ 972    0    1    0    1    0    2    1    2    1]\n",
      " [   0 1126    2    2    0    1    2    1    1    0]\n",
      " [   5    1 1009    2    1    0    3    5    6    0]\n",
      " [   0    0    0  994    0    3    0    4    3    6]\n",
      " [   0    0    1    1  966    1    5    1    0    7]\n",
      " [   4    0    0    6    2  869    4    1    4    2]\n",
      " [   4    2    1    1    2    4  943    0    1    0]\n",
      " [   2    2    6    1    1    0    0 1008    4    4]\n",
      " [   3    0    3    3    3    6    1    3  949    3]\n",
      " [   1    2    0    5    7    1    1    8    0  984]]\n"
     ]
    }
   ],
   "source": [
    "# Plot losses\n",
    "plot_losses(losses)\n",
    "\n",
    "# Show accuracy\n",
    "show_accuracies(model, train_data_loader, test_data_loader)\n",
    "\n",
    "# Show confusion matrix\n",
    "show_confusion_matrix(model, test_data_loader)"
   ]
  },
  {
   "cell_type": "markdown",
   "metadata": {},
   "source": [
    "# Analyze model parameters"
   ]
  },
  {
   "cell_type": "code",
   "execution_count": 24,
   "metadata": {
    "scrolled": true
   },
   "outputs": [
    {
     "name": "stdout",
     "output_type": "stream",
     "text": [
      "Each output's dimension\n",
      "x's shape :  torch.Size([10000, 784])\n",
      "h1's shape :  torch.Size([10000, 1024])\n",
      "a1's shape :  torch.Size([10000, 1024])\n",
      "h2's shape :  torch.Size([10000, 512])\n",
      "a2's shape :  torch.Size([10000, 512])\n"
     ]
    },
    {
     "data": {
      "image/png": "[encoded data removed]",
      "text/plain": [
       "<Figure size 720x720 with 9 Axes>"
      ]
     },
     "metadata": {
      "needs_background": "light"
     },
     "output_type": "display_data"
    }
   ],
   "source": [
    "# Change the model to evaluation model\n",
    "model.eval()\n",
    "\n",
    "# Predict from the model\n",
    "# Total data loader for test data\n",
    "total_data_loader = torch.utils.data.DataLoader(MNIST_Dataset(is_train=False), y_test.size(0), shuffle=True)\n",
    "# Calculate the model\n",
    "for data in total_data_loader:\n",
    "    images, _ = data\n",
    "    y_pred = model(X_test)\n",
    "\n",
    "# Get inner results from model\n",
    "h1, a1, h2, a2 = model.get_inner_results()\n",
    "\n",
    "# Check dimension of each output\n",
    "print(\"Each output's dimension\")\n",
    "print(\"x's shape : \", images.shape)\n",
    "print(\"h1's shape : \", h1.shape)\n",
    "print(\"a1's shape : \", a1.shape)\n",
    "print(\"h2's shape : \", h2.shape)\n",
    "print(\"a2's shape : \", a2.shape)\n",
    "    \n",
    "plot_inner_dist(images, h1, a1, h2, a2)"
   ]
  },
  {
   "cell_type": "markdown",
   "metadata": {},
   "source": [
    "# Batch normalization은 Internal Covariance Shift를 해결?\n",
    "\n",
    "해결하지 않는다는 주장이 최근 논문에 등장! (더군다나 ICS를 해결하는 것이 성능 향상과 관련이 없다.)\n",
    "\n",
    "\"How Batch Normalization Help Optimization?\" : \n",
    "https://arxiv.org/pdf/1805.11604.pdf\n",
    "\n",
    "\n",
    "오히려 space smoothing을 통해 학습이 잘 진행되도록 하는 역할을 함\n",
    "즉 충분히 복잡한 공간에 대해서 regularization 효과를 나타냄"
   ]
  },
  {
   "cell_type": "markdown",
   "metadata": {},
   "source": [
    "# Add dropout to model"
   ]
  },
  {
   "cell_type": "code",
   "execution_count": 25,
   "metadata": {},
   "outputs": [],
   "source": [
    "# Hyperparameters\n",
    "learning_rate = 0.1\n",
    "training_epochs = 200\n",
    "display_step = 20\n",
    "\n",
    "batch_size = 100\n",
    "dropout_rate = 0.2\n",
    "\n",
    "D_in = calculate_vector_size(shape)\n",
    "H1 = 1024\n",
    "H2 = 512\n",
    "D_out = 10"
   ]
  },
  {
   "cell_type": "code",
   "execution_count": 26,
   "metadata": {},
   "outputs": [],
   "source": [
    "# Design the model\n",
    "class MLPD(torch.nn.Module):\n",
    "    def __init__(self, D_in, H1, H2, D_out):\n",
    "        super(MLPD, self).__init__()\n",
    "        self.linear1 = torch.nn.Linear(in_features=D_in, out_features=H1)\n",
    "        self.dropout1 = torch.nn.Dropout(p=dropout_rate)\n",
    "        self.activation1 = torch.nn.Tanh()\n",
    "        self.linear2 = torch.nn.Linear(in_features=H1, out_features=H2)\n",
    "        self.dropout2 = torch.nn.Dropout(p=dropout_rate)\n",
    "        self.activation2 = torch.nn.Tanh()\n",
    "        self.linear3= torch.nn.Linear(in_features=H2, out_features=D_out)\n",
    "        \n",
    "    def forward(self, x):\n",
    "        self.h1 = self.linear1(x)\n",
    "        self.d1 = self.dropout1(self.h1)\n",
    "        self.a1 = self.activation1(self.d1)\n",
    "        self.h2 = self.linear2(self.a1)\n",
    "        self.d2 = self.dropout2(self.h2)\n",
    "        self.a2 = self.activation2(self.d2)\n",
    "        output = self.linear3(self.a2)\n",
    "        return output\n",
    "\n",
    "# Construct the model, loss, optimizer\n",
    "model = MLPD(D_in, H1, H2, D_out).to(dtype=dtype, device=device)\n",
    "criterion = torch.nn.CrossEntropyLoss()\n",
    "optimizer = torch.optim.SGD(model.parameters(), lr=learning_rate)"
   ]
  },
  {
   "cell_type": "markdown",
   "metadata": {},
   "source": [
    "# Train the model"
   ]
  },
  {
   "cell_type": "code",
   "execution_count": 27,
   "metadata": {},
   "outputs": [
    {
     "name": "stdout",
     "output_type": "stream",
     "text": [
      "Training...\n",
      "epoch 20 :  0.3029519401925543\n",
      "epoch 40 :  0.13132155685627803\n",
      "epoch 60 :  0.07421622646046526\n",
      "epoch 80 :  0.04228053108038737\n",
      "epoch 100 :  0.033994288587913216\n",
      "epoch 120 :  0.02806275795907497\n",
      "epoch 140 :  0.022530454714819338\n",
      "epoch 160 :  0.01832846552078373\n",
      "epoch 180 :  0.016488813483668416\n",
      "epoch 200 :  0.014398756696011053\n",
      "Finsh training\n"
     ]
    }
   ],
   "source": [
    "losses = []\n",
    "\n",
    "model.train()\n",
    "initialize_parameters(model)\n",
    "\n",
    "print(\"Training...\")\n",
    "\n",
    "for epoch in range(training_epochs):\n",
    "    avg_loss = 0\n",
    "    \n",
    "    for data in train_data_loader:\n",
    "        # Extract the data\n",
    "        images, labels = data\n",
    "        \n",
    "        # Initialize optimizer\n",
    "        optimizer.zero_grad()\n",
    "        \n",
    "        # Calculate model outputs and loss\n",
    "        outputs = model(images)\n",
    "        loss = criterion(outputs, labels)\n",
    "        avg_loss += loss.item() / labels.size(0)\n",
    "        \n",
    "        # Calculate loss and update weights\n",
    "        loss.backward()\n",
    "        optimizer.step()\n",
    "    \n",
    "    losses.append(avg_loss)\n",
    "    \n",
    "    if (epoch + 1) % display_step == 0:\n",
    "        print(\"epoch \" + str(epoch + 1) + \" : \", losses[-1])\n",
    "    \n",
    "print(\"Finsh training\")\n",
    "\n",
    "# Save the model parameters\n",
    "torch.save(model.state_dict(), \"mlp_with_dropout.pt\")"
   ]
  },
  {
   "cell_type": "markdown",
   "metadata": {},
   "source": [
    "# Train results"
   ]
  },
  {
   "cell_type": "code",
   "execution_count": 28,
   "metadata": {
    "scrolled": true
   },
   "outputs": [
    {
     "data": {
      "image/png": "[encoded data removed]",
      "text/plain": [
       "<Figure size 432x288 with 1 Axes>"
      ]
     },
     "metadata": {
      "needs_background": "light"
     },
     "output_type": "display_data"
    },
    {
     "name": "stdout",
     "output_type": "stream",
     "text": [
      "Train accuracy :  100.0 %\n",
      "Test accuracy :  98.41 %\n",
      "Confusion matrix \n",
      " [[ 973    0    1    0    1    0    2    1    2    0]\n",
      " [   1 1122    3    2    0    1    2    1    3    0]\n",
      " [   5    1 1012    3    1    0    1    4    5    0]\n",
      " [   0    0    2  998    0    2    0    2    3    3]\n",
      " [   1    0    0    1  968    0    4    1    0    7]\n",
      " [   3    0    0    7    1  873    2    1    3    2]\n",
      " [   3    1    2    1    1    2  946    0    2    0]\n",
      " [   1    0    9    2    0    0    0 1009    2    5]\n",
      " [   2    0    2    2    2    4    0    3  956    3]\n",
      " [   3    2    0    6    6    3    0    5    0  984]]\n"
     ]
    }
   ],
   "source": [
    "# Plot losses\n",
    "plot_losses(losses)\n",
    "\n",
    "# Show accuracy\n",
    "show_accuracies(model, train_data_loader, test_data_loader)\n",
    "\n",
    "# Show confusion matrix\n",
    "show_confusion_matrix(model, test_data_loader)"
   ]
  },
  {
   "cell_type": "markdown",
   "metadata": {},
   "source": [
    "# Add batch normalization and dropout to model"
   ]
  },
  {
   "cell_type": "code",
   "execution_count": 30,
   "metadata": {},
   "outputs": [],
   "source": [
    "# Design the model\n",
    "class MLPBD(torch.nn.Module):\n",
    "    def __init__(self, D_in, H1, H2, D_out):\n",
    "        super(MLPBD, self).__init__()\n",
    "        self.linear1 = torch.nn.Linear(in_features=D_in, out_features=H1)\n",
    "        self.normalization1 = torch.nn.BatchNorm1d(num_features=H1)\n",
    "        self.dropout1 = torch.nn.Dropout(p=dropout_rate)\n",
    "        self.activation1 = torch.nn.Tanh()\n",
    "        self.linear2 = torch.nn.Linear(in_features=H1, out_features=H2)\n",
    "        self.normalization2 = torch.nn.BatchNorm1d(num_features=H2)\n",
    "        self.dropout2 = torch.nn.Dropout(p=dropout_rate)\n",
    "        self.activation2 = torch.nn.Tanh()\n",
    "        self.linear3= torch.nn.Linear(in_features=H2, out_features=D_out)\n",
    "        \n",
    "    def forward(self, x):\n",
    "        self.h1 = self.linear1(x)\n",
    "        self.n1 = self.normalization1(self.h1)\n",
    "        self.d1 = self.dropout1(self.n1)\n",
    "        self.a1 = self.activation1(self.d1)\n",
    "        self.h2 = self.linear2(self.a1)\n",
    "        self.n2 = self.normalization2(self.h2)\n",
    "        self.d2 = self.dropout2(self.n2)\n",
    "        self.a2 = self.activation2(self.d2)\n",
    "        output = self.linear3(self.a2)\n",
    "        return output\n",
    "\n",
    "# Construct the model, loss, optimizer\n",
    "model = MLPBD(D_in, H1, H2, D_out).to(dtype=dtype, device=device)\n",
    "criterion = torch.nn.CrossEntropyLoss()\n",
    "optimizer = torch.optim.SGD(model.parameters(), lr=learning_rate)"
   ]
  },
  {
   "cell_type": "markdown",
   "metadata": {},
   "source": [
    "# Train the model"
   ]
  },
  {
   "cell_type": "code",
   "execution_count": 31,
   "metadata": {},
   "outputs": [
    {
     "name": "stdout",
     "output_type": "stream",
     "text": [
      "Training...\n",
      "epoch 20 :  0.5664835464058909\n",
      "epoch 40 :  0.2668550797045576\n",
      "epoch 60 :  0.15400119155569\n",
      "epoch 80 :  0.11162010037850774\n",
      "epoch 100 :  0.07556336345935843\n",
      "epoch 120 :  0.06170605945443893\n",
      "epoch 140 :  0.04562012867327259\n",
      "epoch 160 :  0.03946099257760861\n",
      "epoch 180 :  0.03413876720599264\n",
      "epoch 200 :  0.03268702155001269\n",
      "Finsh training\n"
     ]
    }
   ],
   "source": [
    "losses = []\n",
    "\n",
    "model.train()\n",
    "initialize_parameters(model)\n",
    "\n",
    "print(\"Training...\")\n",
    "\n",
    "for epoch in range(training_epochs):\n",
    "    avg_loss = 0\n",
    "    \n",
    "    for data in train_data_loader:\n",
    "        # Extract the data\n",
    "        images, labels = data\n",
    "        \n",
    "        # Initialize optimizer\n",
    "        optimizer.zero_grad()\n",
    "        \n",
    "        # Calculate model outputs and loss\n",
    "        outputs = model(images)\n",
    "        loss = criterion(outputs, labels)\n",
    "        avg_loss += loss.item() / labels.size(0)\n",
    "        \n",
    "        # Calculate loss and update weights\n",
    "        loss.backward()\n",
    "        optimizer.step()\n",
    "    \n",
    "    losses.append(avg_loss)\n",
    "    \n",
    "    if (epoch + 1) % display_step == 0:\n",
    "        print(\"epoch \" + str(epoch + 1) + \" : \", losses[-1])\n",
    "    \n",
    "print(\"Finsh training\")\n",
    "\n",
    "# Save the model parameters\n",
    "torch.save(model.state_dict(), \"mlp_with_batch_and_dropout.pt\")"
   ]
  },
  {
   "cell_type": "markdown",
   "metadata": {},
   "source": [
    "# Train results"
   ]
  },
  {
   "cell_type": "code",
   "execution_count": 32,
   "metadata": {},
   "outputs": [
    {
     "data": {
      "image/png": "[encoded data removed]",
      "text/plain": [
       "<Figure size 432x288 with 1 Axes>"
      ]
     },
     "metadata": {
      "needs_background": "light"
     },
     "output_type": "display_data"
    },
    {
     "name": "stdout",
     "output_type": "stream",
     "text": [
      "Train accuracy :  99.99666666666667 %\n",
      "Test accuracy :  98.15 %\n",
      "Confusion matrix \n",
      " [[ 973    0    1    1    0    1    1    1    2    0]\n",
      " [   1 1123    3    0    0    0    3    1    4    0]\n",
      " [   4    1 1006    2    3    0    2    4    9    1]\n",
      " [   0    0    2  993    1    3    0    3    4    4]\n",
      " [   1    0    0    0  969    0    4    0    2    6]\n",
      " [   3    0    0    8    0  869    5    2    4    1]\n",
      " [   6    2    0    0    4    2  944    0    0    0]\n",
      " [   1    3    6    5    2    0    0 1004    3    4]\n",
      " [   6    0    0    1    5    1    2    3  955    1]\n",
      " [   5    2    0    4    9    0    0    4    6  979]]\n"
     ]
    }
   ],
   "source": [
    "# Plot losses\n",
    "plot_losses(losses)\n",
    "\n",
    "# Show accuracy\n",
    "show_accuracies(model, train_data_loader, test_data_loader)\n",
    "\n",
    "# Show confusion matrix\n",
    "show_confusion_matrix(model, test_data_loader)"
   ]
  },
  {
   "cell_type": "code",
   "execution_count": null,
   "metadata": {},
   "outputs": [],
   "source": []
  }
 ],
 "metadata": {
  "kernelspec": {
   "display_name": "Python 3",
   "language": "python",
   "name": "python3"
  },
  "language_info": {
   "codemirror_mode": {
    "name": "ipython",
    "version": 3
   },
   "file_extension": ".py",
   "mimetype": "text/x-python",
   "name": "python",
   "nbconvert_exporter": "python",
   "pygments_lexer": "ipython3",
   "version": "3.7.6"
  }
 },
 "nbformat": 4,
 "nbformat_minor": 2
}

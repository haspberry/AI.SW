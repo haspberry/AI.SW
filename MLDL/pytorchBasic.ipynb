{
 "cells": [
  {
   "cell_type": "markdown",
   "metadata": {},
   "source": [
    "# Pytorch basic"
   ]
  },
  {
   "cell_type": "markdown",
   "metadata": {},
   "source": [
    "## Library"
   ]
  },
  {
   "cell_type": "code",
   "execution_count": 1,
   "metadata": {},
   "outputs": [],
   "source": [
    "import torch\n",
    "import numpy as np"
   ]
  },
  {
   "cell_type": "markdown",
   "metadata": {},
   "source": [
    "## Empty tensor"
   ]
  },
  {
   "cell_type": "code",
   "execution_count": 3,
   "metadata": {},
   "outputs": [
    {
     "name": "stdout",
     "output_type": "stream",
     "text": [
      "tensor([[2.3715e+12, 6.1186e-04, 4.8419e+30],\n",
      "        [7.0061e+22, 1.9010e-19, 1.8499e+20]])\n"
     ]
    }
   ],
   "source": [
    "x = torch.empty(2, 3)\n",
    "print(x)"
   ]
  },
  {
   "cell_type": "markdown",
   "metadata": {},
   "source": [
    "## Random tensor"
   ]
  },
  {
   "cell_type": "code",
   "execution_count": 4,
   "metadata": {},
   "outputs": [
    {
     "name": "stdout",
     "output_type": "stream",
     "text": [
      "tensor([[ 0.1752,  1.3646, -0.4931],\n",
      "        [-0.1431,  0.5390,  2.1050]])\n"
     ]
    }
   ],
   "source": [
    "x = torch.randn(2, 3)\n",
    "print(x)"
   ]
  },
  {
   "cell_type": "markdown",
   "metadata": {},
   "source": [
    "## Zero tensor"
   ]
  },
  {
   "cell_type": "code",
   "execution_count": 5,
   "metadata": {},
   "outputs": [
    {
     "name": "stdout",
     "output_type": "stream",
     "text": [
      "tensor([[0., 0., 0.],\n",
      "        [0., 0., 0.]])\n"
     ]
    }
   ],
   "source": [
    "x = torch.zeros(2, 3)\n",
    "print(x)"
   ]
  },
  {
   "cell_type": "code",
   "execution_count": 6,
   "metadata": {},
   "outputs": [
    {
     "name": "stdout",
     "output_type": "stream",
     "text": [
      "tensor([[1., 1., 1.],\n",
      "        [1., 1., 1.]])\n"
     ]
    }
   ],
   "source": [
    "x = torch.ones(2, 3)\n",
    "print(x)"
   ]
  },
  {
   "cell_type": "markdown",
   "metadata": {},
   "source": [
    "# Make tensor from list"
   ]
  },
  {
   "cell_type": "code",
   "execution_count": 8,
   "metadata": {},
   "outputs": [
    {
     "name": "stdout",
     "output_type": "stream",
     "text": [
      "tensor([2.6000, 3.4000])\n"
     ]
    }
   ],
   "source": [
    "x = torch.tensor([2.6, 3.4])\n",
    "print(x)"
   ]
  },
  {
   "cell_type": "markdown",
   "metadata": {},
   "source": [
    "# Check tensor size"
   ]
  },
  {
   "cell_type": "code",
   "execution_count": 9,
   "metadata": {},
   "outputs": [
    {
     "name": "stdout",
     "output_type": "stream",
     "text": [
      "torch.Size([2])\n",
      "torch.Size([2])\n"
     ]
    }
   ],
   "source": [
    "print(x.size())\n",
    "print(x.shape)"
   ]
  },
  {
   "cell_type": "markdown",
   "metadata": {},
   "source": [
    "# Add"
   ]
  },
  {
   "cell_type": "code",
   "execution_count": 10,
   "metadata": {},
   "outputs": [
    {
     "name": "stdout",
     "output_type": "stream",
     "text": [
      "x \n",
      " tensor([[[-0.4274, -0.7143],\n",
      "         [ 0.8406, -1.3398]],\n",
      "\n",
      "        [[ 0.1190,  0.0828],\n",
      "         [-1.3746,  0.0647]]])\n",
      "y \n",
      " tensor([[[ 0.4455,  0.0103],\n",
      "         [-0.6259,  0.6122]],\n",
      "\n",
      "        [[-0.2064,  0.1025],\n",
      "         [-0.0019, -0.5788]]])\n",
      "x + y\n",
      " tensor([[[ 0.0180, -0.7040],\n",
      "         [ 0.2147, -0.7276]],\n",
      "\n",
      "        [[-0.0874,  0.1853],\n",
      "         [-1.3765, -0.5141]]])\n",
      "torch.add(x, y) \n",
      " tensor([[[ 0.0180, -0.7040],\n",
      "         [ 0.2147, -0.7276]],\n",
      "\n",
      "        [[-0.0874,  0.1853],\n",
      "         [-1.3765, -0.5141]]])\n"
     ]
    }
   ],
   "source": [
    "x = torch.randn(2, 2, 2)\n",
    "y = torch.randn(2, 2, 2)\n",
    "print(\"x \\n\", x)\n",
    "print(\"y \\n\", y)\n",
    "print(\"x + y\\n\", x + y)\n",
    "print(\"torch.add(x, y) \\n\", torch.add(x, y))"
   ]
  },
  {
   "cell_type": "markdown",
   "metadata": {},
   "source": [
    "## Element-wise multiplication"
   ]
  },
  {
   "cell_type": "code",
   "execution_count": 11,
   "metadata": {},
   "outputs": [
    {
     "name": "stdout",
     "output_type": "stream",
     "text": [
      "x \n",
      " tensor([[8, 4],\n",
      "        [9, 7]])\n",
      "y \n",
      " tensor([[4, 7],\n",
      "        [1, 3]])\n",
      "x * y \n",
      " tensor([[32, 28],\n",
      "        [ 9, 21]])\n"
     ]
    }
   ],
   "source": [
    "x = torch.randint(1, 10, (2, 2))\n",
    "y = torch.randint(1, 10, (2, 2))\n",
    "print(\"x \\n\", x)\n",
    "print(\"y \\n\", y)\n",
    "print(\"x * y \\n\", x * y)"
   ]
  },
  {
   "cell_type": "markdown",
   "metadata": {},
   "source": [
    "## Matrix multiplication"
   ]
  },
  {
   "cell_type": "code",
   "execution_count": 12,
   "metadata": {},
   "outputs": [
    {
     "name": "stdout",
     "output_type": "stream",
     "text": [
      "x \n",
      " tensor([[4, 3],\n",
      "        [5, 5]])\n",
      "y \n",
      " tensor([[3, 2],\n",
      "        [6, 6]])\n",
      "x @ y \n",
      " tensor([[30, 26],\n",
      "        [45, 40]])\n",
      "torch.matmul(x, y) \n",
      " tensor([[30, 26],\n",
      "        [45, 40]])\n"
     ]
    }
   ],
   "source": [
    "x = torch.randint(1, 10, (2, 2))\n",
    "y = torch.randint(1, 10, (2, 2))\n",
    "print(\"x \\n\", x)\n",
    "print(\"y \\n\", y)\n",
    "print(\"x @ y \\n\", x @ y)\n",
    "print(\"torch.matmul(x, y) \\n\", torch.matmul(x, y))"
   ]
  },
  {
   "cell_type": "markdown",
   "metadata": {},
   "source": [
    "## Resize(Reshape in numpy)"
   ]
  },
  {
   "cell_type": "code",
   "execution_count": 13,
   "metadata": {},
   "outputs": [
    {
     "name": "stdout",
     "output_type": "stream",
     "text": [
      "x \n",
      " tensor([[7, 2, 7, 9],\n",
      "        [3, 4, 9, 2],\n",
      "        [1, 6, 5, 3],\n",
      "        [1, 8, 9, 3]])\n",
      "y \n",
      " tensor([7, 2, 7, 9, 3, 4, 9, 2, 1, 6, 5, 3, 1, 8, 9, 3])\n",
      "z \n",
      " tensor([[7, 2, 7, 9, 3, 4, 9, 2],\n",
      "        [1, 6, 5, 3, 1, 8, 9, 3]])\n"
     ]
    }
   ],
   "source": [
    "x = torch.randint(1, 10, (4, 4))\n",
    "y = x.view(16)\n",
    "z = x.view(-1, 8)\n",
    "print(\"x \\n\", x)\n",
    "print(\"y \\n\", y)\n",
    "print(\"z \\n\", z)"
   ]
  },
  {
   "cell_type": "markdown",
   "metadata": {},
   "source": [
    "## Get a content in tensor"
   ]
  },
  {
   "cell_type": "code",
   "execution_count": 14,
   "metadata": {},
   "outputs": [
    {
     "name": "stdout",
     "output_type": "stream",
     "text": [
      "tensor([-0.7008])\n",
      "-0.7008016109466553\n"
     ]
    }
   ],
   "source": [
    "x = torch.randn(1)\n",
    "print(x)\n",
    "print(x.item())"
   ]
  },
  {
   "cell_type": "markdown",
   "metadata": {},
   "source": [
    "## Convert tensor to numpy"
   ]
  },
  {
   "cell_type": "code",
   "execution_count": 16,
   "metadata": {},
   "outputs": [
    {
     "name": "stdout",
     "output_type": "stream",
     "text": [
      "tensor([1., 1., 1.])\n",
      "[1. 1. 1.]\n"
     ]
    }
   ],
   "source": [
    "x = torch.ones(3)\n",
    "a = x.numpy()\n",
    "print(x)\n",
    "print(a)"
   ]
  },
  {
   "cell_type": "markdown",
   "metadata": {},
   "source": [
    "## Convert numpy to tensor"
   ]
  },
  {
   "cell_type": "code",
   "execution_count": 17,
   "metadata": {},
   "outputs": [
    {
     "name": "stdout",
     "output_type": "stream",
     "text": [
      "x \n",
      " tensor([1., 1., 1.], dtype=torch.float64)\n",
      "y \n",
      " tensor([1., 1., 1.], dtype=torch.float64)\n",
      "x' \n",
      " tensor([1., 1., 1.], dtype=torch.float64)\n",
      "y' \n",
      " tensor([2., 2., 2.], dtype=torch.float64)\n"
     ]
    }
   ],
   "source": [
    "a = np.ones(3)\n",
    "x = torch.tensor(a)\n",
    "y = torch.from_numpy(a)\n",
    "print(\"x \\n\", x)\n",
    "print(\"y \\n\", y)\n",
    "\n",
    "np.add(a, 1, out=a)\n",
    "print(\"x' \\n\", x)\n",
    "print(\"y' \\n\", y)"
   ]
  },
  {
   "cell_type": "markdown",
   "metadata": {},
   "source": [
    "## Cuda tensor"
   ]
  },
  {
   "cell_type": "code",
   "execution_count": 18,
   "metadata": {},
   "outputs": [
    {
     "name": "stdout",
     "output_type": "stream",
     "text": [
      "a \n",
      " tensor([[1., 1., 1.],\n",
      "        [1., 1., 1.]])\n",
      "x \n",
      " tensor([[1., 1., 1.],\n",
      "        [1., 1., 1.]], device='cuda:0')\n",
      "y \n",
      " tensor([[1., 1., 1.],\n",
      "        [1., 1., 1.]], device='cuda:0')\n",
      "z \n",
      " tensor([[2., 2., 2.],\n",
      "        [2., 2., 2.]], device='cuda:0', dtype=torch.float64)\n"
     ]
    }
   ],
   "source": [
    "if torch.cuda.is_available():\n",
    "    device = torch.device(\"cuda\")\n",
    "    # Directly make cuda tensor\n",
    "    x = torch.ones(2, 3, device=device)\n",
    "    # CPU tensor\n",
    "    a = torch.ones(2, 3)\n",
    "    # Convert cpu tensor to cuda tensor\n",
    "    y = a.to(device)\n",
    "    z = (x + y).to(torch.double)\n",
    "    print(\"a \\n\", a)\n",
    "    print(\"x \\n\", x)\n",
    "    print(\"y \\n\", y)\n",
    "    print(\"z \\n\", z)"
   ]
  },
  {
   "cell_type": "markdown",
   "metadata": {},
   "source": [
    "## Autograd"
   ]
  },
  {
   "cell_type": "code",
   "execution_count": 19,
   "metadata": {},
   "outputs": [
    {
     "name": "stdout",
     "output_type": "stream",
     "text": [
      "tensor([[1., 1.],\n",
      "        [1., 1.]], requires_grad=True)\n"
     ]
    }
   ],
   "source": [
    "x = torch.ones(2, 2, requires_grad=True)\n",
    "print(x)"
   ]
  },
  {
   "cell_type": "code",
   "execution_count": 20,
   "metadata": {},
   "outputs": [
    {
     "name": "stdout",
     "output_type": "stream",
     "text": [
      "tensor([[3., 3.],\n",
      "        [3., 3.]], grad_fn=<AddBackward0>)\n"
     ]
    }
   ],
   "source": [
    "y = x + 2\n",
    "print(y)"
   ]
  },
  {
   "cell_type": "code",
   "execution_count": 21,
   "metadata": {},
   "outputs": [
    {
     "name": "stdout",
     "output_type": "stream",
     "text": [
      "<AddBackward0 object at 0x0000029BA86715C8>\n"
     ]
    }
   ],
   "source": [
    "print(y.grad_fn)"
   ]
  },
  {
   "cell_type": "code",
   "execution_count": 22,
   "metadata": {},
   "outputs": [
    {
     "name": "stdout",
     "output_type": "stream",
     "text": [
      "tensor([[27., 27.],\n",
      "        [27., 27.]], grad_fn=<MulBackward0>) tensor(27., grad_fn=<MeanBackward0>)\n"
     ]
    }
   ],
   "source": [
    "z = y * y * 3\n",
    "out = z.mean()\n",
    "\n",
    "print(z, out)"
   ]
  },
  {
   "cell_type": "markdown",
   "metadata": {},
   "source": [
    "## Gradients"
   ]
  },
  {
   "cell_type": "code",
   "execution_count": 23,
   "metadata": {},
   "outputs": [],
   "source": [
    "out.backward()"
   ]
  },
  {
   "cell_type": "code",
   "execution_count": 24,
   "metadata": {},
   "outputs": [
    {
     "name": "stdout",
     "output_type": "stream",
     "text": [
      "tensor([[4.5000, 4.5000],\n",
      "        [4.5000, 4.5000]])\n"
     ]
    }
   ],
   "source": [
    "print(x.grad)"
   ]
  },
  {
   "cell_type": "code",
   "execution_count": null,
   "metadata": {},
   "outputs": [],
   "source": []
  }
 ],
 "metadata": {
  "kernelspec": {
   "display_name": "Python 3",
   "language": "python",
   "name": "python3"
  },
  "language_info": {
   "codemirror_mode": {
    "name": "ipython",
    "version": 3
   },
   "file_extension": ".py",
   "mimetype": "text/x-python",
   "name": "python",
   "nbconvert_exporter": "python",
   "pygments_lexer": "ipython3",
   "version": "3.8.1"
  }
 },
 "nbformat": 4,
 "nbformat_minor": 2
}

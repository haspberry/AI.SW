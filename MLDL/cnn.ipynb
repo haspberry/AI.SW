{
 "cells": [
  {
   "cell_type": "markdown",
   "metadata": {},
   "source": [
    "# Library"
   ]
  },
  {
   "cell_type": "code",
   "execution_count": 1,
   "metadata": {},
   "outputs": [],
   "source": [
    "import torch\n",
    "import numpy as np\n",
    "from matplotlib import pyplot as plt\n",
    "\n",
    "import torchvision.utils as utils\n",
    "import torchvision.datasets as datasets\n",
    "import torchvision.transforms as transforms\n",
    "\n",
    "from sklearn.metrics import confusion_matrix"
   ]
  },
  {
   "cell_type": "markdown",
   "metadata": {},
   "source": [
    "# Set torch constants"
   ]
  },
  {
   "cell_type": "code",
   "execution_count": 2,
   "metadata": {},
   "outputs": [],
   "source": [
    "# CUDA Check\n",
    "if torch.cuda.is_available():\n",
    "    device = torch.device(\"cuda\")\n",
    "else:\n",
    "    device = torch.device(\"cpu\")\n",
    "\n",
    "# Set dtype\n",
    "dtype = torch.double"
   ]
  },
  {
   "cell_type": "markdown",
   "metadata": {},
   "source": [
    "# Load the data and check the data"
   ]
  },
  {
   "cell_type": "code",
   "execution_count": 3,
   "metadata": {},
   "outputs": [
    {
     "name": "stdout",
     "output_type": "stream",
     "text": [
      "Dataset MNIST\n",
      "    Number of datapoints: 60000\n",
      "    Root location: data/\n",
      "    Split: Train\n",
      "    StandardTransform\n",
      "Transform: ToTensor()\n",
      "Dataset MNIST\n",
      "    Number of datapoints: 10000\n",
      "    Root location: data/\n",
      "    Split: Test\n",
      "    StandardTransform\n",
      "Transform: ToTensor()\n"
     ]
    }
   ],
   "source": [
    "mnist_train = datasets.MNIST(\n",
    "    root=\"data/\",\n",
    "    train=True,\n",
    "    transform=transforms.ToTensor(),\n",
    "    download=True)\n",
    "\n",
    "mnist_test = datasets.MNIST(\n",
    "    root=\"data/\",\n",
    "    train=False,\n",
    "    transform=transforms.ToTensor(),\n",
    "    download=True)\n",
    "\n",
    "print(mnist_train)\n",
    "print(mnist_test)"
   ]
  },
  {
   "cell_type": "code",
   "execution_count": 4,
   "metadata": {},
   "outputs": [
    {
     "name": "stdout",
     "output_type": "stream",
     "text": [
      "Original train example # 29538\n",
      "tensor([[  0,   0,   0,   0,   0,   0,   0,   0,   0,   0,   0,   0,   0,   0,\n",
      "           0,   0,   0,   0,   0,   0,   0,   0,   0,   0,   0,   0,   0,   0],\n",
      "        [  0,   0,   0,   0,   0,   0,   0,   0,   0,   0,   0,   0,   0,   0,\n",
      "           0,   0,   0,   0,   0,   0,   0,   0,   0,   0,   0,   0,   0,   0],\n",
      "        [  0,   0,   0,   0,   0,   0,   0,   0,   0,   0,   0,   0,   0,   0,\n",
      "           0,   0,   0,   0,   0,   0,   0,   0,   0,   0,   0,   0,   0,   0],\n",
      "        [  0,   0,   0,   0,   0,   0,   0,   0,   0,   0,   0,   0,   0,   0,\n",
      "           0,   0,   0,   0,   0,   0,   0,   0,   0,   0,   0,   0,   0,   0],\n",
      "        [  0,   0,   0,   0,   0,   0,   0,   0,   0,   0,   0,   0,   0,   0,\n",
      "           0,   0,   0,   0,   0,   0,   0,   0,   0,   0,   0,   0,   0,   0],\n",
      "        [  0,   0,   0,   0,   0,   0,   0,   0,   0,   0,   0,   0,   0,   0,\n",
      "           0,   0,   0,   0,   0,   0,   0,   0,   0,   0,   0,   0,   0,   0],\n",
      "        [  0,   0,   0,   0,   0,   0,   0,   0,   0,   0,   0,   0,   0,   0,\n",
      "           0,  13, 218, 240,  36, 255, 254,  67,   0,   0,   0,   0,   0,   0],\n",
      "        [  0,   0,   0,   0,   0,   0,   0,   0,   0,   0,   0,   0,   0,   0,\n",
      "           0, 132, 253, 124, 138, 253, 190,  33,   0,   0,   0,   0,   0,   0],\n",
      "        [  0,   0,   0,   0,   0,   0,   0,   0,   0,   0,   0,   0,   0,   2,\n",
      "         130, 252, 178, 112, 252, 222,  24,   0,   0,   0,   0,   0,   0,   0],\n",
      "        [  0,   0,   0,   0,   0,   0,   0,   0,   0,   0,   0,   0,   3, 134,\n",
      "         253, 203,  35,  98, 249,  67,   0,   0,   0,   0,   0,   0,   0,   0],\n",
      "        [  0,   0,   0,   0,   0,   0,   0,   0,   0,   0,   0,  28, 138, 253,\n",
      "         224,  11,   0, 178, 226,   0,   0,   0,   0,   0,   0,   0,   0,   0],\n",
      "        [  0,   0,   0,   0,   0,   0,   0,   0,   0,   0,  28, 211, 253, 219,\n",
      "          40,   0,  59, 249, 222,   0,   0,   0,   0,   0,   0,   0,   0,   0],\n",
      "        [  0,   0,   0,   0,   0,   0,   0,   0,   0,  28, 217, 253, 149,   0,\n",
      "           0,   0, 168, 253,  98,   0,   0,   0,   0,   0,   0,   0,   0,   0],\n",
      "        [  0,   0,   0,   0,   0,   0,   0,   0,  63, 222, 237, 130,   5,   0,\n",
      "           0,   8, 197, 253, 105, 167,  15,   0,   0,   0,   0,   0,   0,   0],\n",
      "        [  0,   0,   0,   0,   0,   0,   0,  75, 212, 248,  58,   0,   0,   4,\n",
      "          17, 129, 253, 253, 252, 135,   4,   0,   0,   0,   0,   0,   0,   0],\n",
      "        [  0,   0,   0,   0,   0,   0,  27, 217, 253, 150,   0,  42, 108, 182,\n",
      "         253, 253, 253, 191,  82,   0,   0,   0,   0,   0,   0,   0,   0,   0],\n",
      "        [  0,   0,   0,   0,   0,   0, 199, 253, 219,  98, 159, 241, 253, 253,\n",
      "         180, 248, 253,  71,   0,   0,   0,   0,   0,   0,   0,   0,   0,   0],\n",
      "        [  0,   0,   0,   0,   0,   0, 222, 253, 253, 253, 253, 237,  80,  16,\n",
      "           4, 238, 253,  48,   0,   0,   0,   0,   0,   0,   0,   0,   0,   0],\n",
      "        [  0,   0,   0,   0,   0,   0, 170, 194, 194, 189,  86,  20,   0,   0,\n",
      "           0, 238, 253,  48,   0,   0,   0,   0,   0,   0,   0,   0,   0,   0],\n",
      "        [  0,   0,   0,   0,   0,   0,   0,   0,   0,   0,   0,   0,   0,   0,\n",
      "           0, 238, 253,  48,   0,   0,   0,   0,   0,   0,   0,   0,   0,   0],\n",
      "        [  0,   0,   0,   0,   0,   0,   0,   0,   0,   0,   0,   0,   0,   0,\n",
      "          10, 240, 196,   2,   0,   0,   0,   0,   0,   0,   0,   0,   0,   0],\n",
      "        [  0,   0,   0,   0,   0,   0,   0,   0,   0,   0,   0,   0,   0,   0,\n",
      "          93, 253, 121,   0,   0,   0,   0,   0,   0,   0,   0,   0,   0,   0],\n",
      "        [  0,   0,   0,   0,   0,   0,   0,   0,   0,   0,   0,   0,   0,   0,\n",
      "          93, 253,  86,   0,   0,   0,   0,   0,   0,   0,   0,   0,   0,   0],\n",
      "        [  0,   0,   0,   0,   0,   0,   0,   0,   0,   0,   0,   0,   0,   0,\n",
      "          81, 251, 146,   0,   0,   0,   0,   0,   0,   0,   0,   0,   0,   0],\n",
      "        [  0,   0,   0,   0,   0,   0,   0,   0,   0,   0,   0,   0,   0,   0,\n",
      "           0, 238, 194,   0,   0,   0,   0,   0,   0,   0,   0,   0,   0,   0],\n",
      "        [  0,   0,   0,   0,   0,   0,   0,   0,   0,   0,   0,   0,   0,   0,\n",
      "           0, 238, 102,   0,   0,   0,   0,   0,   0,   0,   0,   0,   0,   0],\n",
      "        [  0,   0,   0,   0,   0,   0,   0,   0,   0,   0,   0,   0,   0,   0,\n",
      "           0,   0,   0,   0,   0,   0,   0,   0,   0,   0,   0,   0,   0,   0],\n",
      "        [  0,   0,   0,   0,   0,   0,   0,   0,   0,   0,   0,   0,   0,   0,\n",
      "           0,   0,   0,   0,   0,   0,   0,   0,   0,   0,   0,   0,   0,   0]],\n",
      "       dtype=torch.uint8)\n"
     ]
    },
    {
     "data": {
      "image/png": "[encoded data removed]",
      "text/plain": [
       "<Figure size 432x288 with 1 Axes>"
      ]
     },
     "metadata": {
      "needs_background": "light"
     },
     "output_type": "display_data"
    }
   ],
   "source": [
    "# Rename the data and labels\n",
    "X_train = mnist_train.data\n",
    "y_train = mnist_train.targets\n",
    "X_test = mnist_test.data\n",
    "y_test = mnist_test.targets\n",
    "\n",
    "# Data check\n",
    "idx = np.random.randint(0, X_train.shape[0])\n",
    "\n",
    "print(\"Original train example # \" + str(idx))\n",
    "print(X_train[idx])\n",
    "\n",
    "plt.figure()\n",
    "plt.imshow(X_train[idx], cmap='gray')\n",
    "plt.title(y_train[idx].item())\n",
    "plt.show()"
   ]
  },
  {
   "cell_type": "markdown",
   "metadata": {},
   "source": [
    "# Make custom dataloader"
   ]
  },
  {
   "cell_type": "code",
   "execution_count": 5,
   "metadata": {},
   "outputs": [
    {
     "name": "stdout",
     "output_type": "stream",
     "text": [
      "Data shape :  torch.Size([28, 28])\n"
     ]
    }
   ],
   "source": [
    "# Check a example's shape\n",
    "shape = X_train.shape[1:]\n",
    "print(\"Data shape : \", shape)\n",
    "\n",
    "# Construct custom dataloader for train\n",
    "class MNIST_Dataset(torch.utils.data.Dataset):\n",
    "    # Initialize and preprocess the data\n",
    "    def __init__(self, is_train):\n",
    "        # MNIST data convert to cuda tensor and change the data type\n",
    "        # Train case and test case should be differentiated!\n",
    "        if is_train:\n",
    "            X = X_train.to(dtype=dtype, device=device)\n",
    "            y = y_train.to(device=device)\n",
    "        else:\n",
    "            X = X_test.to(dtype=dtype, device=device)\n",
    "            y = y_test.to(device=device)\n",
    "        \n",
    "        # Normalize\n",
    "        X = self._normalize(X, 0, 255)\n",
    "        \n",
    "        # Reshape the data\n",
    "        X = self._reshape(X)\n",
    "        \n",
    "        # Move to the class object\n",
    "        self.X = X\n",
    "        self.y = y\n",
    "    \n",
    "    def __len__(self):\n",
    "        # Return the data lenght\n",
    "        \n",
    "        return self.y.shape[0]\n",
    "    \n",
    "    def __getitem__(self, idx):\n",
    "        # Return a idx'th item in dataset\n",
    "        \n",
    "        return self.X[idx], self.y[idx]\n",
    "    \n",
    "    def _normalize(self, data, min_value, max_value):\n",
    "        # Nomalize the dataset with minimax normalizer\n",
    "        \n",
    "        # Arugments\n",
    "        # data : tensor object for images\n",
    "        # min_value : the smallest value in the data\n",
    "        # max_value : the largest value in the data\n",
    "        \n",
    "        return (data - min_value) / (max_value - min_value)\n",
    "    \n",
    "    def _reshape(self, data):\n",
    "        # Reshape the data\n",
    "        \n",
    "        # Arguments\n",
    "        # data : dataset's tensor object with original image's dimension\n",
    "        # shape : (batch size, 1, 28, 28)\n",
    "        \n",
    "        return data.view(-1, 1, 28, 28)"
   ]
  },
  {
   "cell_type": "markdown",
   "metadata": {},
   "source": [
    "# Set hyperparameters"
   ]
  },
  {
   "cell_type": "code",
   "execution_count": 7,
   "metadata": {},
   "outputs": [],
   "source": [
    "# Hyperparameters\n",
    "learning_rate = 0.1\n",
    "training_epochs = 25\n",
    "display_step = 5\n",
    "\n",
    "batch_size = 100\n",
    "\n",
    "D_in = (1, 28, 28)"
   ]
  },
  {
   "cell_type": "markdown",
   "metadata": {},
   "source": [
    "# Make batch with dataloader"
   ]
  },
  {
   "cell_type": "code",
   "execution_count": 8,
   "metadata": {},
   "outputs": [
    {
     "name": "stdout",
     "output_type": "stream",
     "text": [
      "batch train data example shape :  torch.Size([100, 1, 28, 28])\n",
      "batch test data example :  torch.Size([100, 1, 28, 28])\n"
     ]
    },
    {
     "data": {
      "image/png": "[encoded data removed]",
      "text/plain": [
       "<Figure size 432x288 with 1 Axes>"
      ]
     },
     "metadata": {
      "needs_background": "light"
     },
     "output_type": "display_data"
    },
    {
     "data": {
      "image/png": "[encoded data removed]",
      "text/plain": [
       "<Figure size 432x288 with 1 Axes>"
      ]
     },
     "metadata": {
      "needs_background": "light"
     },
     "output_type": "display_data"
    }
   ],
   "source": [
    "# Show image of batch data\n",
    "def show_grid_image(img, title):\n",
    "    n_img = img.shape[0]\n",
    "    img = utils.make_grid(img.cpu().detach(), nrow = int(np.ceil(np.sqrt(n_img))))\n",
    "    \n",
    "    np_img = img.numpy()\n",
    "    \n",
    "    plt.figure()\n",
    "    plt.imshow(np.transpose(np_img, (1, 2, 0)), cmap='gray')\n",
    "    plt.title(title)\n",
    "    plt.show()\n",
    "\n",
    "# Instantiate datalodaer\n",
    "train_data_loader = torch.utils.data.DataLoader(MNIST_Dataset(is_train=True), batch_size, shuffle=True)\n",
    "test_data_loader = torch.utils.data.DataLoader(MNIST_Dataset(is_train=False), batch_size, shuffle=True)\n",
    "\n",
    "# Extract batch examples\n",
    "batch_train_data_example, batch_train_label_example = next(iter(train_data_loader))\n",
    "batch_test_data_example, batcifar_trainch_test_label_example = next(iter(test_data_loader))\n",
    "print(\"batch train data example shape : \", batch_train_data_example.shape)\n",
    "print(\"batch test data example : \", batch_test_data_example.shape)\n",
    "\n",
    "# Show the batch images\n",
    "show_grid_image(batch_train_data_example, \"Batch train images example\")\n",
    "show_grid_image(batch_test_data_example, \"Batch train images example\")"
   ]
  },
  {
   "cell_type": "markdown",
   "metadata": {},
   "source": [
    "# Initialize parameters"
   ]
  },
  {
   "cell_type": "code",
   "execution_count": 11,
   "metadata": {},
   "outputs": [],
   "source": [
    "# Initialize model parameters\n",
    "def initialize_parameters(model):\n",
    "    for p in model.parameters():\n",
    "        if (p.dim() > 1):\n",
    "            torch.nn.init.xavier_normal_(p)\n",
    "        else:\n",
    "            torch.nn.init.uniform_(p, 0.1, 0.2)"
   ]
  },
  {
   "cell_type": "markdown",
   "metadata": {},
   "source": [
    "# Construct the model"
   ]
  },
  {
   "cell_type": "code",
   "execution_count": 14,
   "metadata": {},
   "outputs": [],
   "source": [
    "# Construct a convolution neural netwok\n",
    "class CNN(torch.nn.Module):\n",
    "    def __init__(self):\n",
    "        # Initialize model parameters\n",
    "        super(CNN, self).__init__()\n",
    "        # Layer1 structure - Input: (-, 28, 28, 1)\n",
    "        # (-, 32, 32, 1) --Conv2d--> (-, 28, 28, 32) NEW!\n",
    "        # (-, 28, 28, 32) --ReLU--> (-, 28, 28, 32)\n",
    "        # (-, 28, 28, 32) --MaxPool2d--> (-, 14, 14, 32) NEW!\n",
    "        \n",
    "        self.layer1 = torch.nn.Sequential(\n",
    "            torch.nn.Conv2d(1, 32, kernel_size=3, stride=1, padding=1),\n",
    "            torch.nn.ReLU(),\n",
    "            torch.nn.MaxPool2d(kernel_size=2, stride=2)\n",
    "        )\n",
    "        \n",
    "        # Layer 2 structure - Input: (-, 14, 14, 32)\n",
    "        # (-, 14, 14, 32) --Conv2d--> (-, 14, 14, 64)\n",
    "        # (-, 14, 14, 64) --ReLU--> (-, 14, 14, 64)\n",
    "        # (-, 14, 14, 64) --MaxPool2d--> (-, 7, 7, 64)\n",
    "        \n",
    "        self.layer2 = torch.nn.Sequential(\n",
    "            torch.nn.Conv2d(32, 64, kernel_size=3, stride=1, padding=1),\n",
    "            torch.nn.ReLU(),\n",
    "            torch.nn.MaxPool2d(kernel_size=2, stride=2)\n",
    "        )\n",
    "        \n",
    "        # Fully connected structure - Input: (-, 7, 7, 64)\n",
    "        # Make input be flat\n",
    "        \n",
    "        self.fc = torch.nn.Linear(7 * 7 * 64, 10, bias=True)\n",
    "        \n",
    "    def forward(self, x):\n",
    "        # Calculate the forward process\n",
    "        \n",
    "        output = self.layer1(x)\n",
    "        output = self.layer2(output)\n",
    "        output = self.fc(output.view(output.size(0), -1))\n",
    "        \n",
    "        return output\n",
    "\n",
    "# Make the model\n",
    "model = CNN().to(dtype=dtype, device=device)\n",
    "\n",
    "# Set loss function and optimizer\n",
    "criterion = torch.nn.CrossEntropyLoss(reduction=\"mean\")\n",
    "optimizer = torch.optim.SGD(model.parameters(), lr=learning_rate)"
   ]
  },
  {
   "cell_type": "markdown",
   "metadata": {},
   "source": [
    "# Train the model"
   ]
  },
  {
   "cell_type": "code",
   "execution_count": 15,
   "metadata": {},
   "outputs": [
    {
     "name": "stdout",
     "output_type": "stream",
     "text": [
      "Training...\n",
      "epoch 5 :  0.2937536279678188\n",
      "epoch 10 :  0.18215640602228314\n",
      "epoch 15 :  0.12662821042722516\n",
      "epoch 20 :  0.09242489106829126\n",
      "epoch 25 :  0.06437668034566307\n",
      "Finsh training\n"
     ]
    }
   ],
   "source": [
    "losses = []\n",
    "\n",
    "model.train()\n",
    "initialize_parameters(model)\n",
    "\n",
    "print(\"Training...\")\n",
    "\n",
    "for epoch in range(training_epochs):\n",
    "    avg_loss = 0\n",
    "    \n",
    "    for data in train_data_loader:\n",
    "        images, labels = data\n",
    "        \n",
    "        optimizer.zero_grad()\n",
    "        \n",
    "        outputs = model(images)\n",
    "        loss = criterion(outputs, labels)\n",
    "        avg_loss += loss.item() / batch_size\n",
    "        \n",
    "        loss.backward()\n",
    "        optimizer.step()\n",
    "    \n",
    "    losses.append(avg_loss)\n",
    "    \n",
    "    if (epoch + 1) % display_step == 0:\n",
    "        print(\"epoch \" + str(epoch + 1) + \" : \", losses[-1])\n",
    "    \n",
    "print(\"Finsh training\")\n",
    "\n",
    "# Save the model parameters\n",
    "torch.save(model.state_dict(), \"cnn.pt\")"
   ]
  },
  {
   "cell_type": "markdown",
   "metadata": {},
   "source": [
    "# Train results"
   ]
  },
  {
   "cell_type": "code",
   "execution_count": 16,
   "metadata": {},
   "outputs": [],
   "source": [
    "def plot_losses(losses):\n",
    "    # Set figure and show the graph\n",
    "    plt.figure()\n",
    "    plt.plot(losses, label=\"loss\")\n",
    "    plt.legend()\n",
    "    plt.show()\n",
    "\n",
    "def show_accuracies(model, train_data_loader, test_data_loader):\n",
    "    # We don't need to calculate the gradients\n",
    "    with torch.no_grad():\n",
    "        # Change the mode for model to evaluate\n",
    "        model.eval()\n",
    "    \n",
    "        # Show train accuracy\n",
    "        train_corrects = 0\n",
    "        train_total = 0\n",
    "        \n",
    "        # If your graphic card can't afford to compute model at once, you can use the batch!\n",
    "        for data in train_data_loader:\n",
    "            # Extract the images and labels from data\n",
    "            images, labels = data\n",
    "            \n",
    "            outputs = model(images)\n",
    "            _, predictions = torch.max(outputs, axis=1)\n",
    "            train_total += labels.size(0)\n",
    "            train_corrects += (labels == predictions).sum().item()\n",
    "    \n",
    "        print(\"Train accuracy : \", (train_corrects / train_total) * 100, \"%\")\n",
    "    \n",
    "        # Show test accuracy\n",
    "        test_corrects = 0\n",
    "        test_total = 0\n",
    "    \n",
    "        # If your graphic card can't afford to compute model at once, you can use the batch!\n",
    "        for data in test_data_loader:\n",
    "            # Extract the images and labels from data\n",
    "            images, labels = data\n",
    "            \n",
    "            outputs = model(images)\n",
    "            _, predictions = torch.max(outputs, axis=1)\n",
    "            test_total += labels.size(0)\n",
    "            test_corrects += (labels == predictions).sum().item()\n",
    "    \n",
    "        print(\"Test accuracy : \", (test_corrects / test_total) * 100, \"%\")\n",
    "\n",
    "def show_confusion_matrix(model, test_data_loader):\n",
    "    # Change the mode for model to evaluate\n",
    "    model.eval()\n",
    "    \n",
    "    # Show confusion matrix\n",
    "    total_predictions = torch.empty(0).to(dtype=torch.long, device=device)\n",
    "    total_labels = torch.empty(0).to(dtype=torch.long, device=device)\n",
    "    \n",
    "    for data in test_data_loader:\n",
    "        # Extract the images and labels from data\n",
    "        images, labels = data\n",
    "        \n",
    "        outputs = model(images)\n",
    "        _, predictions = torch.max(outputs, axis=1)\n",
    "        total_predictions = torch.cat((predictions, total_predictions), axis=0)\n",
    "        total_labels = torch.cat((labels, total_labels), axis=0)\n",
    "        \n",
    "    total_predictions_ = total_predictions.cpu().detach().numpy()\n",
    "    total_labels_ = total_labels.cpu().detach().numpy()\n",
    "    \n",
    "    print(\"Confusion matrix \\n\", confusion_matrix(total_labels_, total_predictions_))"
   ]
  },
  {
   "cell_type": "code",
   "execution_count": 17,
   "metadata": {},
   "outputs": [
    {
     "data": {
      "image/png": "[encoded data removed]",
      "text/plain": [
       "<Figure size 432x288 with 1 Axes>"
      ]
     },
     "metadata": {
      "needs_background": "light"
     },
     "output_type": "display_data"
    },
    {
     "name": "stdout",
     "output_type": "stream",
     "text": [
      "Train accuracy :  99.70833333333333 %\n",
      "Test accuracy :  98.92 %\n",
      "Confusion matrix \n",
      " [[ 977    0    0    0    0    0    1    1    1    0]\n",
      " [   0 1126    3    2    1    0    0    0    3    0]\n",
      " [   2    0 1018    1    1    0    0    4    6    0]\n",
      " [   0    0    0 1005    0    3    0    0    2    0]\n",
      " [   0    0    0    0  978    0    1    2    0    1]\n",
      " [   2    0    0    6    0  878    2    1    3    0]\n",
      " [   4    2    1    0    1    1  945    0    4    0]\n",
      " [   0    0    2    3    0    0    0 1022    1    0]\n",
      " [   3    0    3    1    0    1    0    0  965    1]\n",
      " [   2    2    0    1   14    5    0    4    3  978]]\n"
     ]
    }
   ],
   "source": [
    "# Plot losses\n",
    "plot_losses(losses)\n",
    "\n",
    "# Show train accuracy and test accuracy\n",
    "show_accuracies(model, train_data_loader, test_data_loader)\n",
    "\n",
    "# Show confusion matrix\n",
    "show_confusion_matrix(model, test_data_loader)"
   ]
  },
  {
   "cell_type": "markdown",
   "metadata": {},
   "source": [
    "# Show the model inside"
   ]
  },
  {
   "cell_type": "code",
   "execution_count": null,
   "metadata": {},
   "outputs": [],
   "source": [
    "pass"
   ]
  },
  {
   "cell_type": "markdown",
   "metadata": {},
   "source": [
    "# Predict the images"
   ]
  },
  {
   "cell_type": "code",
   "execution_count": null,
   "metadata": {},
   "outputs": [],
   "source": [
    "def show_image(img, label):\n",
    "    # Reshape the input\n",
    "    \n",
    "    \n",
    "    # Show the image\n",
    "    \n",
    "    \n",
    "\n",
    "def predict(model, X, idx):\n",
    "    # Change the mode for model to evaluate\n",
    "    \n",
    "    \n",
    "    # Reshape the input\n",
    "    \n",
    "    \n",
    "    # Calculate the probability\n",
    "    \n",
    "    \n",
    "    # Pick the largest probability label\n",
    "    \n",
    "    \n",
    "    return label_pred"
   ]
  },
  {
   "cell_type": "code",
   "execution_count": null,
   "metadata": {},
   "outputs": [],
   "source": [
    "# Have to correct!\n",
    "n = 10 # Number to predict\n",
    "\n",
    "# Make the dataloader for prediction\n",
    "\n",
    "\n",
    "# Extract first batch data from dataloader\n",
    "images, labels = next(iter(predict_data_loader))\n",
    "\n",
    "for i in range(n):\n",
    "    true_label = # Fill the code\n",
    "    pred_label = # Fill the code\n",
    "    \n",
    "    # Show the image\n",
    "    \n",
    "    \n",
    "    print(\"Predicted label : \", pred_label)\n",
    "    print(\"True label : \", true_label)"
   ]
  },
  {
   "cell_type": "markdown",
   "metadata": {},
   "source": [
    "# Improve the performance with regularization"
   ]
  },
  {
   "cell_type": "markdown",
   "metadata": {},
   "source": [
    "# Construct the model"
   ]
  },
  {
   "cell_type": "code",
   "execution_count": 18,
   "metadata": {},
   "outputs": [],
   "source": [
    "# Construct a convolution neural netwok\n",
    "class CNNR(torch.nn.Module):\n",
    "    def __init__(self):\n",
    "        super(CNNR, self).__init__()\n",
    "        # Convolution Layer1 structure - Input: (-, 28, 28, 1)\n",
    "        # (-, 32, 32, 1) --Conv2d--> (-, 28, 28, 16)\n",
    "        # (-, 28, 28, 16) --BatchNorm2d--> (-, 28, 28, 16)\n",
    "        # (-, 28, 28, 16) --ReLU--> (-, 28, 28, 16)\n",
    "        \n",
    "        self.conv1 = torch.nn.Sequential(\n",
    "            torch.nn.Conv2d(1, 16, kernel_size=3, stride=1, padding=1),\n",
    "            torch.nn.BatchNorm2d(16),\n",
    "            torch.nn.ReLU()\n",
    "        )\n",
    "        \n",
    "        # Convolution Layer2 structure - Input: (-, 28, 28, 16)\n",
    "        # (-, 28, 28, 16) --Conv2d--> (-, 28, 28, 32)\n",
    "        # (-, 28, 28, 32) --BatchNorm2d--> (-, 28, 28, 32)\n",
    "        # (-, 28, 28, 32) --ReLU--> (-, 28, 28, 32)\n",
    "        # (-, 28, 28, 32) --MaxPool2d--> (-, 14, 14, 32)\n",
    "        \n",
    "        # Fill the code\n",
    "        \n",
    "        self.conv2 = torch.nn.Sequential(\n",
    "            torch.nn.Conv2d(16, 32, kernel_size=3, stride=1, padding=1),\n",
    "            torch.nn.BatchNorm2d(32),\n",
    "            torch.nn.ReLU(),\n",
    "            torch.nn.MaxPool2d(kernel_size=2, stride=2)\n",
    "        )\n",
    "        \n",
    "        # Convolution Layer3 structure - Input: (-, 14, 14, 32)\n",
    "        # (-, 14, 14, 32) --Conv2d--> (-, 14, 14, 64)\n",
    "        # (-, 14, 14, 64) --BatchNorm2d--> (-, 14, 14, 64)\n",
    "        # (-, 14, 14, 64) --ReLU--> (-, 14, 14, 64)\n",
    "        # (-, 14, 14, 64) --MaxPool2d--> (-, 7, 7, 64)\n",
    "        \n",
    "        # Fill the code\n",
    "        self.conv3 = torch.nn.Sequential(\n",
    "            torch.nn.Conv2d(32, 64, kernel_size=3, stride=1, padding=1),\n",
    "            torch.nn.BatchNorm2d(64),\n",
    "            torch.nn.ReLU(),\n",
    "            torch.nn.MaxPool2d(kernel_size=2, stride=2)\n",
    "        )\n",
    "        \n",
    "        # Fully connected1 structure - Input: (-, 7, 7, 64)\n",
    "        # Make input be flat\n",
    "        # (-, 7, 7, 64) --Flatten--> (-, 3136)\n",
    "        # (-, 3136) --Linear--> (- 256)\n",
    "        # (-, 256) --BatchNorm1d--> (-, 256)\n",
    "        # (-, 256) --ReLU--> (-, 256)\n",
    "        \n",
    "        # Fill the code\n",
    "        self.fc1 = torch.nn.Sequential(\n",
    "            torch.nn.Linear(7 * 7 * 64, 256),\n",
    "            torch.nn.BatchNorm1d(256),\n",
    "            torch.nn.ReLU()\n",
    "        )\n",
    "        \n",
    "        # Fully connected2 structure - Input: (-, 256)\n",
    "        # (-, 256) --Linear--> (-, 10)\n",
    "        \n",
    "        # Fill the code\n",
    "        \n",
    "        self.fc2 = torch.nn.Sequential(\n",
    "            torch.nn.Linear(256, 10)\n",
    "        )\n",
    "            \n",
    "    def forward(self, x):\n",
    "        # Initialize model parameters\n",
    "        \n",
    "        # Fill the code\n",
    "        \n",
    "        output = self.conv1(x)\n",
    "        output = self.conv2(output)\n",
    "        output = self.conv3(output)\n",
    "        output = self.fc1(output.view(output.size(0), -1))\n",
    "        output = self.fc2(output)\n",
    "        \n",
    "        return output\n",
    "\n",
    "# Make the model\n",
    "model = CNNR().to(dtype=dtype, device=device)\n",
    "\n",
    "# Set loss function and optimizer\n",
    "criterion = torch.nn.CrossEntropyLoss(reduction=\"mean\")\n",
    "optimizer = torch.optim.SGD(model.parameters(), lr=learning_rate)"
   ]
  },
  {
   "cell_type": "markdown",
   "metadata": {},
   "source": [
    "# Train the model"
   ]
  },
  {
   "cell_type": "code",
   "execution_count": 19,
   "metadata": {},
   "outputs": [
    {
     "name": "stdout",
     "output_type": "stream",
     "text": [
      "Training...\n",
      "epoch 5 :  0.15197377289269465\n",
      "epoch 10 :  0.05379271078602753\n",
      "epoch 15 :  0.023012883182053162\n",
      "epoch 20 :  0.010498558591976098\n",
      "epoch 25 :  0.006790574105905595\n",
      "Finsh training\n"
     ]
    }
   ],
   "source": [
    "losses = []\n",
    "\n",
    "model.train()\n",
    "initialize_parameters(model)\n",
    "\n",
    "print(\"Training...\")\n",
    "\n",
    "for epoch in range(training_epochs):\n",
    "    avg_loss = 0\n",
    "    \n",
    "    for data in train_data_loader:\n",
    "        images, labels = data\n",
    "        \n",
    "        optimizer.zero_grad()\n",
    "        \n",
    "        outputs = model(images)\n",
    "        loss = criterion(outputs, labels)\n",
    "        avg_loss += loss.item() / batch_size\n",
    "        \n",
    "        loss.backward()\n",
    "        optimizer.step()\n",
    "    \n",
    "    losses.append(avg_loss)\n",
    "    \n",
    "    if (epoch + 1) % display_step == 0:\n",
    "        print(\"epoch \" + str(epoch + 1) + \" : \", losses[-1])\n",
    "    \n",
    "print(\"Finsh training\")\n",
    "\n",
    "# Save the model parameters\n",
    "torch.save(model.state_dict(), \"cnn.pt\")"
   ]
  },
  {
   "cell_type": "markdown",
   "metadata": {},
   "source": [
    "# Train results"
   ]
  },
  {
   "cell_type": "code",
   "execution_count": 20,
   "metadata": {},
   "outputs": [
    {
     "data": {
      "image/png": "[encoded data removed]",
      "text/plain": [
       "<Figure size 432x288 with 1 Axes>"
      ]
     },
     "metadata": {
      "needs_background": "light"
     },
     "output_type": "display_data"
    },
    {
     "name": "stdout",
     "output_type": "stream",
     "text": [
      "Train accuracy :  100.0 %\n",
      "Test accuracy :  99.19 %\n",
      "Confusion matrix \n",
      " [[ 976    1    1    0    0    0    1    1    0    0]\n",
      " [   0 1132    1    1    1    0    0    0    0    0]\n",
      " [   1    2 1023    0    1    0    0    5    0    0]\n",
      " [   0    0    1 1005    0    3    0    0    1    0]\n",
      " [   0    0    1    0  973    0    1    0    1    6]\n",
      " [   2    1    0    7    0  879    1    0    1    1]\n",
      " [   3    1    0    1    1    3  949    0    0    0]\n",
      " [   0    2    2    0    0    0    0 1020    1    3]\n",
      " [   1    0    0    2    0    1    0    0  968    2]\n",
      " [   1    0    0    2    5    2    0    4    1  994]]\n"
     ]
    }
   ],
   "source": [
    "# Plot losses\n",
    "plot_losses(losses)\n",
    "\n",
    "# Show train accuracy and test accuracy\n",
    "show_accuracies(model, train_data_loader, test_data_loader)\n",
    "\n",
    "# Show confusion matrix\n",
    "show_confusion_matrix(model, test_data_loader)"
   ]
  },
  {
   "cell_type": "code",
   "execution_count": null,
   "metadata": {},
   "outputs": [],
   "source": []
  },
  {
   "cell_type": "code",
   "execution_count": null,
   "metadata": {},
   "outputs": [],
   "source": []
  }
 ],
 "metadata": {
  "kernelspec": {
   "display_name": "Python 3",
   "language": "python",
   "name": "python3"
  },
  "language_info": {
   "codemirror_mode": {
    "name": "ipython",
    "version": 3
   },
   "file_extension": ".py",
   "mimetype": "text/x-python",
   "name": "python",
   "nbconvert_exporter": "python",
   "pygments_lexer": "ipython3",
   "version": "3.8.1"
  }
 },
 "nbformat": 4,
 "nbformat_minor": 2
}
